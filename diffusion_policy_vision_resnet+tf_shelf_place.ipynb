{
 "cells": [
  {
   "cell_type": "code",
   "execution_count": 4,
   "metadata": {
    "colab": {
     "base_uri": "https://localhost:8080/"
    },
    "executionInfo": {
     "elapsed": 200251,
     "status": "ok",
     "timestamp": 1733209217203,
     "user": {
      "displayName": "Jerry Ho",
      "userId": "05246220472833344204"
     },
     "user_tz": -480
    },
    "id": "2QwO2gAgiJS2",
    "outputId": "9ee2cc5d-c52e-497a-e90c-054c27a7a0cd"
   },
   "outputs": [
    {
     "name": "stdout",
     "output_type": "stream",
     "text": [
      "Python 3.10.12\n"
     ]
    }
   ],
   "source": [
    "#@markdown ### **Installing pip packages**\n",
    "#@markdown - Diffusion Model: [PyTorch](https://pytorch.org) & [HuggingFace diffusers](https://huggingface.co/docs/diffusers/index)\n",
    "#@markdown - Dataset Loading: [Zarr](https://zarr.readthedocs.io/en/stable/) & numcodecs\n",
    "#@markdown - Push-T Env: gym, pygame, pymunk & shapely\n",
    "!python --version\n",
    "!pip3 install torch==1.13.1 torchvision==0.14.1 diffusers huggingface_hub \\\n",
    "scikit-image==0.19.3 scikit-video==1.1.11 zarr numcodecs \\\n",
    "pygame==2.1.2 pymunk==6.2.1 gym==0.26.2 shapely==1.8.4 \\\n",
    "&> /dev/null # mute output"
   ]
  },
  {
   "cell_type": "code",
   "execution_count": 1,
   "metadata": {
    "colab": {
     "base_uri": "https://localhost:8080/",
     "height": 329,
     "referenced_widgets": [
      "92c207db2c6145a5964c33355b529c07",
      "ee7cec5ca72f456d8651418e962e465b",
      "537530cb502444808f4cd1e330e63aee",
      "04b91b80f41040ceabb6b1950cfc3db4",
      "3f44132469e444ecad51725d5cf365dd",
      "eff31dc161d045439a074814f1f9584e",
      "0787e9b8789b4188bec1a5421683546f",
      "4ed6a507a2714d04b0d4a78c1abb13de",
      "73d0d096e31345adb1eed56dbc443afa",
      "d34eca56124543d897165007a17c4383",
      "c3058c7a0bc34fa2b35153c9327a62ae"
     ]
    },
    "executionInfo": {
     "elapsed": 18967,
     "status": "ok",
     "timestamp": 1733209257664,
     "user": {
      "displayName": "Jerry Ho",
      "userId": "05246220472833344204"
     },
     "user_tz": -480
    },
    "id": "VrX4VTl5pYNq",
    "outputId": "f154df3a-7565-44aa-feb1-2cb1e1722ff7"
   },
   "outputs": [],
   "source": [
    "#@markdown ### **Imports**\n",
    "# diffusion policy import\n",
    "from typing import Tuple, Sequence, Dict, Union, Optional, Callable\n",
    "import numpy as np\n",
    "import math\n",
    "import torch\n",
    "import torch.nn as nn\n",
    "import torchvision\n",
    "import collections\n",
    "import zarr\n",
    "from diffusers.schedulers.scheduling_ddpm import DDPMScheduler\n",
    "from diffusers.training_utils import EMAModel\n",
    "from diffusers.optimization import get_scheduler\n",
    "from tqdm.auto import tqdm\n",
    "\n",
    "# env import\n",
    "'''\n",
    "import gym\n",
    "from gym import spaces\n",
    "import pygame\n",
    "import pymunk\n",
    "import pymunk.pygame_util\n",
    "from pymunk.space_debug_draw_options import SpaceDebugColor\n",
    "from pymunk.vec2d import Vec2d\n",
    "import shapely.geometry as sg\n",
    "'''\n",
    "import cv2\n",
    "import skimage.transform as st\n",
    "from skvideo.io import vwrite\n",
    "from IPython.display import Video\n",
    "import gdown\n",
    "import os\n",
    "\n",
    "os.environ['CUDA_VISIBLE_DEVICES']='2'"
   ]
  },
  {
   "cell_type": "code",
   "execution_count": 2,
   "metadata": {
    "colab": {
     "base_uri": "https://localhost:8080/"
    },
    "executionInfo": {
     "elapsed": 27232,
     "status": "ok",
     "timestamp": 1733208545350,
     "user": {
      "displayName": "Jerry Ho",
      "userId": "05246220472833344204"
     },
     "user_tz": -480
    },
    "id": "knUBbWy_FTYJ",
    "outputId": "edb251b0-e3cd-491b-b187-37bee4c6d1fc"
   },
   "outputs": [
    {
     "name": "stdout",
     "output_type": "stream",
     "text": [
      "Number of GPUs available: 1\n",
      "GPU 0: GeForce RTX 2080 Ti\n",
      "CUDA is available.\n"
     ]
    }
   ],
   "source": [
    "# 获取系统中可用的 GPU 数量\n",
    "num_gpus = torch.cuda.device_count()\n",
    "print(f\"Number of GPUs available: {num_gpus}\")\n",
    "\n",
    "# 打印每个 GPU 的名称\n",
    "for i in range(num_gpus):\n",
    "    print(f\"GPU {i}: {torch.cuda.get_device_name(i)}\")\n",
    "\n",
    "\n",
    "if torch.cuda.is_available():\n",
    "    print(\"CUDA is available.\")\n",
    "else:\n",
    "    print(\"CUDA is not available.\")"
   ]
  },
  {
   "cell_type": "code",
   "execution_count": 3,
   "metadata": {
    "id": "vHepJOFBucwg"
   },
   "outputs": [],
   "source": [
    "#@markdown ### **Dataset**\n",
    "#@markdown\n",
    "#@markdown Defines `PushTImageDataset` and helper functions\n",
    "#@markdown\n",
    "#@markdown The dataset class\n",
    "#@markdown - Load data ((image, agent_pos), action) from a zarr storage\n",
    "#@markdown - Normalizes each dimension of agent_pos and action to [-1,1]\n",
    "#@markdown - Returns\n",
    "#@markdown  - All possible segments with length `pred_horizon`\n",
    "#@markdown  - Pads the beginning and the end of each episode with repetition\n",
    "#@markdown  - key `image`: shape (obs_hoirzon, 3, 96, 96)\n",
    "#@markdown  - key `agent_pos`: shape (obs_hoirzon, 2)\n",
    "#@markdown  - key `action`: shape (pred_horizon, 2)\n",
    "\n",
    "def create_sample_indices(\n",
    "        episode_ends:np.ndarray, sequence_length:int,\n",
    "        pad_before: int=0, pad_after: int=0):\n",
    "    indices = list()\n",
    "    for i in range(len(episode_ends)):\n",
    "        start_idx = 0\n",
    "        if i > 0:\n",
    "            start_idx = episode_ends[i-1]\n",
    "        end_idx = episode_ends[i]\n",
    "        episode_length = end_idx - start_idx\n",
    "\n",
    "        min_start = -int(pad_before)\n",
    "        max_start = int(episode_length - sequence_length + pad_after)\n",
    "        #print(min_start,\"  \",max_start)\n",
    "\n",
    "        # range stops one idx before end\n",
    "        for idx in range(min_start, max_start+1):\n",
    "            buffer_start_idx = max(idx, 0) + start_idx\n",
    "            buffer_end_idx = min(idx+sequence_length, episode_length) + start_idx\n",
    "            start_offset = buffer_start_idx - (idx+start_idx)\n",
    "            end_offset = (idx+sequence_length+start_idx) - buffer_end_idx\n",
    "            sample_start_idx = 0 + start_offset\n",
    "            sample_end_idx = sequence_length - end_offset\n",
    "\n",
    "            buffer_start_idx = int(buffer_start_idx)\n",
    "            buffer_end_idx = int(buffer_end_idx)\n",
    "            sample_start_idx = int(sample_start_idx)\n",
    "            sample_end_idx = int(sample_end_idx)\n",
    "\n",
    "            new_index = [buffer_start_idx, buffer_end_idx, sample_start_idx, sample_end_idx]\n",
    "            indices.append(new_index)\n",
    "            #print(f\"Adding index: {new_index}\")\n",
    "    indices = np.array(indices)\n",
    "    return indices\n",
    "\n",
    "\n",
    "def sample_sequence(train_data, sequence_length,\n",
    "                    buffer_start_idx, buffer_end_idx,\n",
    "                    sample_start_idx, sample_end_idx):\n",
    "    result = dict()\n",
    "    for key, input_arr in train_data.items():\n",
    "        sample = input_arr[buffer_start_idx:buffer_end_idx]\n",
    "        data = sample\n",
    "        if (sample_start_idx > 0) or (sample_end_idx < sequence_length):\n",
    "            data = np.zeros(\n",
    "                shape=(sequence_length,) + input_arr.shape[1:],\n",
    "                dtype=input_arr.dtype)\n",
    "            if sample_start_idx > 0:\n",
    "                data[:sample_start_idx] = sample[0]\n",
    "            if sample_end_idx < sequence_length:\n",
    "                data[sample_end_idx:] = sample[-1]\n",
    "            data[sample_start_idx:sample_end_idx] = sample\n",
    "        result[key] = data\n",
    "    return result\n",
    "\n",
    "# normalize data\n",
    "def get_data_stats(data):\n",
    "    data = data.reshape(-1,data.shape[-1])\n",
    "    stats = {\n",
    "        'min': np.min(data, axis=0),\n",
    "        'max': np.max(data, axis=0)\n",
    "    }\n",
    "    return stats\n",
    "\n",
    "def normalize_data(data, stats):\n",
    "    # nomalize to [0,1]\n",
    "    ndata = (data - stats['min']) / (stats['max'] - stats['min'])\n",
    "    # normalize to [-1, 1]\n",
    "    ndata = ndata * 2 - 1\n",
    "    return ndata\n",
    "\n",
    "def unnormalize_data(ndata, stats):\n",
    "    ndata = (ndata + 1) / 2\n",
    "    data = ndata * (stats['max'] - stats['min']) + stats['min']\n",
    "    return data\n",
    "\n",
    "\n",
    "def normalize_img(img):\n",
    "  normalized_image=img.astype(np.float32)/255.0\n",
    "  return normalized_image\n",
    "\n",
    "def process_batch(batch_images):\n",
    "  N=batch_images.shape[0]\n",
    "  processed_images=np.zeros((N,224,224,3),dtype=np.float32)\n",
    "  for i in range(N):\n",
    "    processed_images[i]=normalize_img(batch_images[i])\n",
    "  return processed_images\n",
    "\n",
    "\n",
    "class ShelfPlaceImageDataset(torch.utils.data.Dataset):\n",
    "    def __init__(self,\n",
    "                 dataset_path: str,\n",
    "                 pred_horizon: int,\n",
    "                 obs_horizon: int,\n",
    "                 action_horizon: int):\n",
    "\n",
    "        # read from zarr dataset\n",
    "        print(os.getcwd())\n",
    "        dataset_root = zarr.open_group(dataset_path, 'r')\n",
    "\n",
    "        # uint8, [0,255], (N,224,224,3)\n",
    "        train_image_data = dataset_root['data']['img'][:]\n",
    "        # uint8, [0,255], (N,224,224,3) transfer to float32 [0,1] (N,224,224,3)\n",
    "        train_image_data = process_batch(train_image_data)\n",
    "        # moveaxis (N,3,224,224)\n",
    "        train_image_data = np.moveaxis(train_image_data, -1,1)\n",
    "        \n",
    "\n",
    "        # (N, D)\n",
    "        train_data = {\n",
    "            # first four dims of state vector are agent (i.e. gripper) locations\n",
    "            'agent_pos': dataset_root['data']['state'][:,:4],\n",
    "            'action': dataset_root['data']['action'][:]\n",
    "        }\n",
    "        episode_ends = dataset_root['meta']['episode_ends'][:]\n",
    "        print(\"episode_ends type :\",episode_ends.dtype)\n",
    "\n",
    "\n",
    "        # compute start and end of each state-action sequence\n",
    "        # also handles padding\n",
    "        indices = create_sample_indices(\n",
    "            episode_ends=episode_ends,\n",
    "            sequence_length=pred_horizon,\n",
    "            pad_before=obs_horizon-1,\n",
    "            pad_after=action_horizon-1)\n",
    "\n",
    "        # compute statistics and normalized data to [-1,1]\n",
    "        stats = dict()\n",
    "        normalized_train_data = dict()\n",
    "        for key, data in train_data.items():\n",
    "            stats[key] = get_data_stats(data)\n",
    "            normalized_train_data[key] = normalize_data(data, stats[key])\n",
    "\n",
    "        # images are already normalized\n",
    "        normalized_train_data['image'] = train_image_data\n",
    "\n",
    "        self.indices = indices\n",
    "        self.stats = stats\n",
    "        self.normalized_train_data = normalized_train_data\n",
    "        self.pred_horizon = pred_horizon\n",
    "        self.action_horizon = action_horizon\n",
    "        self.obs_horizon = obs_horizon\n",
    "\n",
    "    def __len__(self):\n",
    "        return len(self.indices)\n",
    "\n",
    "    def __getitem__(self, idx):\n",
    "        # get the start/end indices for this datapoint\n",
    "        buffer_start_idx, buffer_end_idx, \\\n",
    "            sample_start_idx, sample_end_idx = self.indices[idx]\n",
    "\n",
    "        # get nomralized data using these indices\n",
    "        nsample = sample_sequence(\n",
    "            train_data=self.normalized_train_data,\n",
    "            sequence_length=self.pred_horizon,\n",
    "            buffer_start_idx=buffer_start_idx,\n",
    "            buffer_end_idx=buffer_end_idx,\n",
    "            sample_start_idx=sample_start_idx,\n",
    "            sample_end_idx=sample_end_idx\n",
    "        )\n",
    "\n",
    "        # discard unused observations\n",
    "        nsample['image'] = nsample['image'][:self.obs_horizon,:]\n",
    "        nsample['agent_pos'] = nsample['agent_pos'][:self.obs_horizon,:]\n",
    "        return nsample\n"
   ]
  },
  {
   "cell_type": "code",
   "execution_count": 4,
   "metadata": {
    "colab": {
     "base_uri": "https://localhost:8080/"
    },
    "executionInfo": {
     "elapsed": 36036,
     "status": "ok",
     "timestamp": 1733209459825,
     "user": {
      "displayName": "Jerry Ho",
      "userId": "05246220472833344204"
     },
     "user_tz": -480
    },
    "id": "9ZiHF3lzvB6k",
    "outputId": "b5db0f9e-c571-4527-88d2-901e3e4de0fa"
   },
   "outputs": [
    {
     "name": "stdout",
     "output_type": "stream",
     "text": [
      "/public1_data/hjl/workshop/experiment\n",
      "episode_ends type : int32\n"
     ]
    },
    {
     "name": "stderr",
     "output_type": "stream",
     "text": [
      "/tmp/ipykernel_49209/2388002565.py:27: DeprecationWarning: Conversion of an array with ndim > 0 to a scalar is deprecated, and will error in future. Ensure you extract a single element from your array before performing this operation. (Deprecated NumPy 1.25.)\n",
      "  max_start = int(episode_length - sequence_length + pad_after)\n",
      "/tmp/ipykernel_49209/2388002565.py:40: DeprecationWarning: Conversion of an array with ndim > 0 to a scalar is deprecated, and will error in future. Ensure you extract a single element from your array before performing this operation. (Deprecated NumPy 1.25.)\n",
      "  buffer_end_idx = int(buffer_end_idx)\n",
      "/tmp/ipykernel_49209/2388002565.py:42: DeprecationWarning: Conversion of an array with ndim > 0 to a scalar is deprecated, and will error in future. Ensure you extract a single element from your array before performing this operation. (Deprecated NumPy 1.25.)\n",
      "  sample_end_idx = int(sample_end_idx)\n",
      "/tmp/ipykernel_49209/2388002565.py:39: DeprecationWarning: Conversion of an array with ndim > 0 to a scalar is deprecated, and will error in future. Ensure you extract a single element from your array before performing this operation. (Deprecated NumPy 1.25.)\n",
      "  buffer_start_idx = int(buffer_start_idx)\n",
      "/tmp/ipykernel_49209/2388002565.py:41: DeprecationWarning: Conversion of an array with ndim > 0 to a scalar is deprecated, and will error in future. Ensure you extract a single element from your array before performing this operation. (Deprecated NumPy 1.25.)\n",
      "  sample_start_idx = int(sample_start_idx)\n"
     ]
    },
    {
     "name": "stdout",
     "output_type": "stream",
     "text": [
      "batch['image'].shape: torch.Size([64, 2, 3, 224, 224])\n",
      "batch['agent_pos'].shape: torch.Size([64, 2, 4])\n",
      "batch['action'].shape torch.Size([64, 16, 4])\n"
     ]
    }
   ],
   "source": [
    "#@markdown ### **Dataset Demo**\n",
    "\n",
    "# download demonstration data from Google Drive\n",
    "'''\n",
    "dataset_path = \"pusht_cchi_v7_replay.zarr.zip\"\n",
    "if not os.path.isfile(dataset_path):\n",
    "    id = \"1KY1InLurpMvJDRb14L9NlXT_fEsCvVUq&confirm=t\"\n",
    "    gdown.download(id=id, output=dataset_path, quiet=False)\n",
    "'''\n",
    "dataset_path = \"./shelf_place_with_video.zarr\"\n",
    "\n",
    "# parameters\n",
    "pred_horizon = 16\n",
    "obs_horizon = 2\n",
    "action_horizon = 8\n",
    "#|o|o|                             observations: 2\n",
    "#| |a|a|a|a|a|a|a|a|               actions executed: 8\n",
    "#|p|p|p|p|p|p|p|p|p|p|p|p|p|p|p|p| actions predicted: 16\n",
    "\n",
    "# create dataset from file\n",
    "\n",
    "dataset = ShelfPlaceImageDataset(\n",
    "    dataset_path=dataset_path,\n",
    "    pred_horizon=pred_horizon,\n",
    "    obs_horizon=obs_horizon,\n",
    "    action_horizon=action_horizon\n",
    ")\n",
    "\n",
    "# save training data statistics (min, max) for each dim\n",
    "stats = dataset.stats\n",
    "\n",
    "# create dataloader\n",
    "dataloader = torch.utils.data.DataLoader(\n",
    "    dataset,\n",
    "    batch_size=64,\n",
    "    num_workers=4,\n",
    "    shuffle=True,\n",
    "    # accelerate cpu-gpu transfer\n",
    "    pin_memory=True,\n",
    "    # don't kill worker process afte each epoch\n",
    "    persistent_workers=True\n",
    ")\n",
    "\n",
    "# visualize data in batch\n",
    "batch = next(iter(dataloader))\n",
    "print(\"batch['image'].shape:\", batch['image'].shape)\n",
    "print(\"batch['agent_pos'].shape:\", batch['agent_pos'].shape)\n",
    "print(\"batch['action'].shape\", batch['action'].shape)\n",
    "\n",
    "# 推理时不用dataset，训练时请注释掉\n",
    "#del dataloader\n",
    "#del dataset"
   ]
  },
  {
   "cell_type": "code",
   "execution_count": 5,
   "metadata": {
    "executionInfo": {
     "elapsed": 507,
     "status": "ok",
     "timestamp": 1733209558747,
     "user": {
      "displayName": "Jerry Ho",
      "userId": "05246220472833344204"
     },
     "user_tz": -480
    },
    "id": "X-XRB_g3vsgf"
   },
   "outputs": [],
   "source": [
    "#@markdown ### **Network**\n",
    "#@markdown\n",
    "#@markdown Defines a 1D UNet architecture `ConditionalUnet1D`\n",
    "#@markdown as the noies prediction network\n",
    "#@markdown\n",
    "#@markdown Components\n",
    "#@markdown - `SinusoidalPosEmb` Positional encoding for the diffusion iteration k\n",
    "#@markdown - `Downsample1d` Strided convolution to reduce temporal resolution\n",
    "#@markdown - `Upsample1d` Transposed convolution to increase temporal resolution\n",
    "#@markdown - `Conv1dBlock` Conv1d --> GroupNorm --> Mish\n",
    "#@markdown - `ConditionalResidualBlock1D` Takes two inputs `x` and `cond`. \\\n",
    "#@markdown `x` is passed through 2 `Conv1dBlock` stacked together with residual connection.\n",
    "#@markdown `cond` is applied to `x` with [FiLM](https://arxiv.org/abs/1709.07871) conditioning.\n",
    "from typing import Union, Optional, Tuple\n",
    "\n",
    "\n",
    "class SinusoidalPosEmb(nn.Module):\n",
    "    def __init__(self, dim):\n",
    "        super().__init__()\n",
    "        self.dim = dim\n",
    "\n",
    "    def forward(self, x):\n",
    "        device = x.device\n",
    "        half_dim = self.dim // 2\n",
    "        emb = math.log(10000) / (half_dim - 1)\n",
    "        emb = torch.exp(torch.arange(half_dim, device=device) * -emb)\n",
    "        emb = x[:, None] * emb[None, :]\n",
    "        emb = torch.cat((emb.sin(), emb.cos()), dim=-1)\n",
    "        return emb\n",
    "\n",
    "\n",
    "class ModuleAttrMixin(nn.Module):\n",
    "    def __init__(self):\n",
    "        super().__init__()\n",
    "        self._dummy_variable = nn.Parameter()\n",
    "\n",
    "    @property\n",
    "    def device(self):\n",
    "        return next(iter(self.parameters())).device\n",
    "    \n",
    "    @property\n",
    "    def dtype(self):\n",
    "        return next(iter(self.parameters())).dtype\n",
    "        \n",
    "\n",
    "class TransformerForDiffusion(ModuleAttrMixin):\n",
    "    def __init__(self,\n",
    "            input_dim: int,\n",
    "            output_dim: int,\n",
    "            horizon: int,\n",
    "            cond_dim: int,  \n",
    "            n_obs_steps: int,\n",
    "            n_layer: int = 8,\n",
    "            n_head: int = 4,\n",
    "            n_emb: int = 256,\n",
    "            p_drop_emb: float = 0.0,\n",
    "            p_drop_attn: float = 0.3,\n",
    "            causal_attn: bool=True,\n",
    "            time_as_cond: bool=True,\n",
    "            obs_as_cond: bool=True,\n",
    "            n_cond_layers: int = 0\n",
    "        ) -> None:\n",
    "        super().__init__()\n",
    "\n",
    "        # compute number of tokens for main trunk and condition encoder\n",
    "        if n_obs_steps is None:\n",
    "            n_obs_steps = horizon\n",
    "        \n",
    "        T = horizon\n",
    "        T_cond = 1\n",
    "        if not time_as_cond:\n",
    "            T += 1\n",
    "            T_cond -= 1\n",
    "        obs_as_cond = cond_dim > 0\n",
    "        if obs_as_cond:\n",
    "            assert time_as_cond\n",
    "            T_cond += n_obs_steps\n",
    "\n",
    "        # input embedding stem\n",
    "        self.input_emb = nn.Linear(input_dim, n_emb)\n",
    "        self.pos_emb = nn.Parameter(torch.zeros(1, T, n_emb))\n",
    "        self.drop = nn.Dropout(p_drop_emb)\n",
    "\n",
    "        # cond encoder\n",
    "        self.time_emb = SinusoidalPosEmb(n_emb)\n",
    "        self.cond_obs_emb = None\n",
    "        \n",
    "        if obs_as_cond:\n",
    "            self.cond_obs_emb = nn.Linear(cond_dim, n_emb)\n",
    "\n",
    "        self.cond_pos_emb = None\n",
    "        self.encoder = None\n",
    "        self.decoder = None\n",
    "        encoder_only = False\n",
    "        if T_cond > 0:\n",
    "            self.cond_pos_emb = nn.Parameter(torch.zeros(1, T_cond, n_emb))\n",
    "            if n_cond_layers > 0:\n",
    "                encoder_layer = nn.TransformerEncoderLayer(\n",
    "                    d_model=n_emb,\n",
    "                    nhead=n_head,\n",
    "                    dim_feedforward=4*n_emb,\n",
    "                    dropout=p_drop_attn,\n",
    "                    activation='gelu',\n",
    "                    batch_first=True,\n",
    "                    norm_first=True\n",
    "                )\n",
    "                self.encoder = nn.TransformerEncoder(\n",
    "                    encoder_layer=encoder_layer,\n",
    "                    num_layers=n_cond_layers\n",
    "                )\n",
    "            else:\n",
    "                self.encoder = nn.Sequential(\n",
    "                    nn.Linear(n_emb, 4 * n_emb),\n",
    "                    nn.Mish(),\n",
    "                    nn.Linear(4 * n_emb, n_emb)\n",
    "                )\n",
    "            # decoder\n",
    "            decoder_layer = nn.TransformerDecoderLayer(\n",
    "                d_model=n_emb,\n",
    "                nhead=n_head,\n",
    "                dim_feedforward=4*n_emb,\n",
    "                dropout=p_drop_attn,\n",
    "                activation='gelu',\n",
    "                batch_first=True,\n",
    "                norm_first=True # important for stability\n",
    "            )\n",
    "            self.decoder = nn.TransformerDecoder(\n",
    "                decoder_layer=decoder_layer,\n",
    "                num_layers=n_layer\n",
    "            )\n",
    "        else:\n",
    "            # encoder only BERT\n",
    "            encoder_only = True\n",
    "\n",
    "            encoder_layer = nn.TransformerEncoderLayer(\n",
    "                d_model=n_emb,\n",
    "                nhead=n_head,\n",
    "                dim_feedforward=4*n_emb,\n",
    "                dropout=p_drop_attn,\n",
    "                activation='gelu',\n",
    "                batch_first=True,\n",
    "                norm_first=True\n",
    "            )\n",
    "            self.encoder = nn.TransformerEncoder(\n",
    "                encoder_layer=encoder_layer,\n",
    "                num_layers=n_layer\n",
    "            )\n",
    "\n",
    "        # attention mask\n",
    "        if causal_attn:\n",
    "            # causal mask to ensure that attention is only applied to the left in the input sequence\n",
    "            # torch.nn.Transformer uses additive mask as opposed to multiplicative mask in minGPT\n",
    "            # therefore, the upper triangle should be -inf and others (including diag) should be 0.\n",
    "            sz = T\n",
    "            mask = (torch.triu(torch.ones(sz, sz)) == 1).transpose(0, 1)\n",
    "            mask = mask.float().masked_fill(mask == 0, float('-inf')).masked_fill(mask == 1, float(0.0))\n",
    "            self.register_buffer(\"mask\", mask)\n",
    "            \n",
    "            if time_as_cond and obs_as_cond:\n",
    "                S = T_cond\n",
    "                t, s = torch.meshgrid(\n",
    "                    torch.arange(T),\n",
    "                    torch.arange(S),\n",
    "                    indexing='ij'\n",
    "                )\n",
    "                mask = t >= (s-1) # add one dimension since time is the first token in cond\n",
    "                mask = mask.float().masked_fill(mask == 0, float('-inf')).masked_fill(mask == 1, float(0.0))\n",
    "                self.register_buffer('memory_mask', mask)\n",
    "            else:\n",
    "                self.memory_mask = None\n",
    "        else:\n",
    "            self.mask = None\n",
    "            self.memory_mask = None\n",
    "\n",
    "        # decoder head\n",
    "        self.ln_f = nn.LayerNorm(n_emb)\n",
    "        self.head = nn.Linear(n_emb, output_dim)\n",
    "            \n",
    "        # constants\n",
    "        self.T = T\n",
    "        self.T_cond = T_cond\n",
    "        self.horizon = horizon\n",
    "        self.time_as_cond = time_as_cond\n",
    "        self.obs_as_cond = obs_as_cond\n",
    "        self.encoder_only = encoder_only\n",
    "\n",
    "        # init\n",
    "        self.apply(self._init_weights)\n",
    "        print(\"number of parameters: {:e}\".format(\n",
    "            sum(p.numel() for p in self.parameters()))\n",
    "        )\n",
    "\n",
    "    def _init_weights(self, module):\n",
    "        ignore_types = (nn.Dropout, \n",
    "            SinusoidalPosEmb, \n",
    "            nn.TransformerEncoderLayer, \n",
    "            nn.TransformerDecoderLayer,\n",
    "            nn.TransformerEncoder,\n",
    "            nn.TransformerDecoder,\n",
    "            nn.ModuleList,\n",
    "            nn.Mish,\n",
    "            nn.Sequential)\n",
    "        if isinstance(module, (nn.Linear, nn.Embedding)):\n",
    "            torch.nn.init.normal_(module.weight, mean=0.0, std=0.02)\n",
    "            if isinstance(module, nn.Linear) and module.bias is not None:\n",
    "                torch.nn.init.zeros_(module.bias)\n",
    "        elif isinstance(module, nn.MultiheadAttention):\n",
    "            weight_names = [\n",
    "                'in_proj_weight', 'q_proj_weight', 'k_proj_weight', 'v_proj_weight']\n",
    "            for name in weight_names:\n",
    "                weight = getattr(module, name)\n",
    "                if weight is not None:\n",
    "                    torch.nn.init.normal_(weight, mean=0.0, std=0.02)\n",
    "            \n",
    "            bias_names = ['in_proj_bias', 'bias_k', 'bias_v']\n",
    "            for name in bias_names:\n",
    "                bias = getattr(module, name)\n",
    "                if bias is not None:\n",
    "                    torch.nn.init.zeros_(bias)\n",
    "        elif isinstance(module, nn.LayerNorm):\n",
    "            torch.nn.init.zeros_(module.bias)\n",
    "            torch.nn.init.ones_(module.weight)\n",
    "        elif isinstance(module, TransformerForDiffusion):\n",
    "            torch.nn.init.normal_(module.pos_emb, mean=0.0, std=0.02)\n",
    "            if module.cond_obs_emb is not None:\n",
    "                torch.nn.init.normal_(module.cond_pos_emb, mean=0.0, std=0.02)\n",
    "        elif isinstance(module, ignore_types):\n",
    "            # no param\n",
    "            pass\n",
    "        else:\n",
    "            raise RuntimeError(\"Unaccounted module {}\".format(module))\n",
    "    \n",
    "    def get_optim_groups(self, weight_decay: float=1e-3):\n",
    "        \"\"\"\n",
    "        This long function is unfortunately doing something very simple and is being very defensive:\n",
    "        We are separating out all parameters of the model into two buckets: those that will experience\n",
    "        weight decay for regularization and those that won't (biases, and layernorm/embedding weights).\n",
    "        We are then returning the PyTorch optimizer object.\n",
    "        \"\"\"\n",
    "\n",
    "        # separate out all parameters to those that will and won't experience regularizing weight decay\n",
    "        decay = set()\n",
    "        no_decay = set()\n",
    "        whitelist_weight_modules = (torch.nn.Linear, torch.nn.MultiheadAttention)\n",
    "        blacklist_weight_modules = (torch.nn.LayerNorm, torch.nn.Embedding)\n",
    "        for mn, m in self.named_modules():\n",
    "            for pn, p in m.named_parameters():\n",
    "                fpn = \"%s.%s\" % (mn, pn) if mn else pn  # full param name\n",
    "\n",
    "                if pn.endswith(\"bias\"):\n",
    "                    # all biases will not be decayed\n",
    "                    no_decay.add(fpn)\n",
    "                elif pn.startswith(\"bias\"):\n",
    "                    # MultiheadAttention bias starts with \"bias\"\n",
    "                    no_decay.add(fpn)\n",
    "                elif pn.endswith(\"weight\") and isinstance(m, whitelist_weight_modules):\n",
    "                    # weights of whitelist modules will be weight decayed\n",
    "                    decay.add(fpn)\n",
    "                elif pn.endswith(\"weight\") and isinstance(m, blacklist_weight_modules):\n",
    "                    # weights of blacklist modules will NOT be weight decayed\n",
    "                    no_decay.add(fpn)\n",
    "\n",
    "        # special case the position embedding parameter in the root GPT module as not decayed\n",
    "        no_decay.add(\"pos_emb\")\n",
    "        no_decay.add(\"_dummy_variable\")\n",
    "        if self.cond_pos_emb is not None:\n",
    "            no_decay.add(\"cond_pos_emb\")\n",
    "\n",
    "        # validate that we considered every parameter\n",
    "        param_dict = {pn: p for pn, p in self.named_parameters()}\n",
    "        inter_params = decay & no_decay\n",
    "        union_params = decay | no_decay\n",
    "        assert (\n",
    "            len(inter_params) == 0\n",
    "        ), \"parameters %s made it into both decay/no_decay sets!\" % (str(inter_params),)\n",
    "        assert (\n",
    "            len(param_dict.keys() - union_params) == 0\n",
    "        ), \"parameters %s were not separated into either decay/no_decay set!\" % (\n",
    "            str(param_dict.keys() - union_params),\n",
    "        )\n",
    "\n",
    "        # create the pytorch optimizer object\n",
    "        optim_groups = [\n",
    "            {\n",
    "                \"params\": [param_dict[pn] for pn in sorted(list(decay))],\n",
    "                \"weight_decay\": weight_decay,\n",
    "            },\n",
    "            {\n",
    "                \"params\": [param_dict[pn] for pn in sorted(list(no_decay))],\n",
    "                \"weight_decay\": 0.0,\n",
    "            },\n",
    "        ]\n",
    "        return optim_groups\n",
    "\n",
    "\n",
    "    def configure_optimizers(self, \n",
    "            learning_rate: float=1e-4, \n",
    "            weight_decay: float=1e-3,\n",
    "            betas: Tuple[float, float]=(0.9,0.95)):\n",
    "        optim_groups = self.get_optim_groups(weight_decay=weight_decay)\n",
    "        optimizer = torch.optim.AdamW(\n",
    "            optim_groups, lr=learning_rate, betas=betas\n",
    "        )\n",
    "        return optimizer\n",
    "\n",
    "    def forward(self, \n",
    "        sample: torch.Tensor, \n",
    "        timestep: Union[torch.Tensor, float, int], \n",
    "        cond: Optional[torch.Tensor]=None, **kwargs):\n",
    "        \"\"\"\n",
    "        x: (B,T,input_dim)\n",
    "        timestep: (B,) or int, diffusion step\n",
    "        cond: (B,T',cond_dim)\n",
    "        output: (B,T,input_dim)\n",
    "        \"\"\"\n",
    "        # 1. time\n",
    "        timesteps = timestep\n",
    "        if not torch.is_tensor(timesteps):\n",
    "            # TODO: this requires sync between CPU and GPU. So try to pass timesteps as tensors if you can\n",
    "            timesteps = torch.tensor([timesteps], dtype=torch.long, device=sample.device)\n",
    "        elif torch.is_tensor(timesteps) and len(timesteps.shape) == 0:\n",
    "            timesteps = timesteps[None].to(sample.device)\n",
    "        # broadcast to batch dimension in a way that's compatible with ONNX/Core ML\n",
    "        timesteps = timesteps.expand(sample.shape[0])\n",
    "        time_emb = self.time_emb(timesteps).unsqueeze(1)\n",
    "        # (B,1,n_emb)\n",
    "\n",
    "        # process input\n",
    "        input_emb = self.input_emb(sample)\n",
    "\n",
    "        if self.encoder_only:\n",
    "            # BERT\n",
    "            token_embeddings = torch.cat([time_emb, input_emb], dim=1)\n",
    "            t = token_embeddings.shape[1]\n",
    "            position_embeddings = self.pos_emb[\n",
    "                :, :t, :\n",
    "            ]  # each position maps to a (learnable) vector\n",
    "            x = self.drop(token_embeddings + position_embeddings)\n",
    "            # (B,T+1,n_emb)\n",
    "            x = self.encoder(src=x, mask=self.mask)\n",
    "            # (B,T+1,n_emb)\n",
    "            x = x[:,1:,:]\n",
    "            # (B,T,n_emb)\n",
    "        else:\n",
    "            # encoder\n",
    "            cond_embeddings = time_emb\n",
    "            if self.obs_as_cond:\n",
    "                cond_obs_emb = self.cond_obs_emb(cond)\n",
    "                # (B,To,n_emb)\n",
    "                cond_embeddings = torch.cat([cond_embeddings, cond_obs_emb], dim=1)\n",
    "            tc = cond_embeddings.shape[1]\n",
    "            position_embeddings = self.cond_pos_emb[\n",
    "                :, :tc, :\n",
    "            ]  # each position maps to a (learnable) vector\n",
    "            x = self.drop(cond_embeddings + position_embeddings)\n",
    "            x = self.encoder(x)\n",
    "            memory = x\n",
    "            # (B,T_cond,n_emb)\n",
    "            \n",
    "            # decoder\n",
    "            token_embeddings = input_emb\n",
    "            t = token_embeddings.shape[1]\n",
    "            position_embeddings = self.pos_emb[\n",
    "                :, :t, :\n",
    "            ]  # each position maps to a (learnable) vector\n",
    "            x = self.drop(token_embeddings + position_embeddings)\n",
    "            # (B,T,n_emb)\n",
    "            x = self.decoder(\n",
    "                tgt=x,\n",
    "                memory=memory,\n",
    "                tgt_mask=self.mask,\n",
    "                memory_mask=self.memory_mask\n",
    "            )\n",
    "            # (B,T,n_emb)\n",
    "        \n",
    "        # head\n",
    "        x = self.ln_f(x)\n",
    "        x = self.head(x)\n",
    "        # (B,T,n_out)\n",
    "        return x\n",
    "\n",
    "\n",
    "def test():\n",
    "    # GPT with time embedding\n",
    "    transformer = TransformerForDiffusion(\n",
    "        input_dim=16,\n",
    "        output_dim=16,\n",
    "        horizon=8,\n",
    "        n_obs_steps=4,\n",
    "        # cond_dim=10,\n",
    "        causal_attn=True,\n",
    "        # time_as_cond=False,\n",
    "        # n_cond_layers=4\n",
    "    )\n",
    "    opt = transformer.configure_optimizers()\n",
    "\n",
    "    timestep = torch.tensor(0)\n",
    "    sample = torch.zeros((4,8,16))\n",
    "    out = transformer(sample, timestep)\n",
    "    \n",
    "\n",
    "    # GPT with time embedding and obs cond\n",
    "    transformer = TransformerForDiffusion(\n",
    "        input_dim=16,\n",
    "        output_dim=16,\n",
    "        horizon=8,\n",
    "        n_obs_steps=4,\n",
    "        cond_dim=10,\n",
    "        causal_attn=True,\n",
    "        # time_as_cond=False,\n",
    "        # n_cond_layers=4\n",
    "    )\n",
    "    opt = transformer.configure_optimizers()\n",
    "    \n",
    "    timestep = torch.tensor(0)\n",
    "    sample = torch.zeros((4,8,16))\n",
    "    cond = torch.zeros((4,4,10))\n",
    "    out = transformer(sample, timestep, cond)\n",
    "\n",
    "    # GPT with time embedding and obs cond and encoder\n",
    "    transformer = TransformerForDiffusion(\n",
    "        input_dim=16,\n",
    "        output_dim=16,\n",
    "        horizon=8,\n",
    "        n_obs_steps=4,\n",
    "        cond_dim=10,\n",
    "        causal_attn=True,\n",
    "        # time_as_cond=False,\n",
    "        n_cond_layers=4\n",
    "    )\n",
    "    opt = transformer.configure_optimizers()\n",
    "    \n",
    "    timestep = torch.tensor(0)\n",
    "    sample = torch.zeros((4,8,16))\n",
    "    cond = torch.zeros((4,4,10))\n",
    "    out = transformer(sample, timestep, cond)\n",
    "\n",
    "    # BERT with time embedding token\n",
    "    transformer = TransformerForDiffusion(\n",
    "        input_dim=16,\n",
    "        output_dim=16,\n",
    "        horizon=8,\n",
    "        n_obs_steps=4,\n",
    "        # cond_dim=10,\n",
    "        # causal_attn=True,\n",
    "        time_as_cond=False,\n",
    "        # n_cond_layers=4\n",
    "    )\n",
    "    opt = transformer.configure_optimizers()\n",
    "\n",
    "    timestep = torch.tensor(0)\n",
    "    sample = torch.zeros((4,8,16))\n",
    "    out = transformer(sample, timestep)"
   ]
  },
  {
   "cell_type": "code",
   "execution_count": 6,
   "metadata": {
    "executionInfo": {
     "elapsed": 503,
     "status": "ok",
     "timestamp": 1733209575219,
     "user": {
      "displayName": "Jerry Ho",
      "userId": "05246220472833344204"
     },
     "user_tz": -480
    },
    "id": "yXq4r744aMh1"
   },
   "outputs": [],
   "source": [
    "#@markdown ### **Vision Encoder**\n",
    "#@markdown\n",
    "#@markdown Defines helper functions:\n",
    "#@markdown - `get_resnet` to initialize standard ResNet vision encoder\n",
    "#@markdown - `replace_bn_with_gn` to replace all BatchNorm layers with GroupNorm\n",
    "\n",
    "def get_resnet(name:str, weights=None, **kwargs) -> nn.Module:\n",
    "    \"\"\"\n",
    "    name: resnet18, resnet34, resnet50\n",
    "    weights: \"IMAGENET1K_V1\", None\n",
    "    \"\"\"\n",
    "    # Use standard ResNet implementation from torchvision\n",
    "    func = getattr(torchvision.models, name)\n",
    "    resnet = func(weights=weights, **kwargs)\n",
    "\n",
    "    # remove the final fully connected layer\n",
    "    # for resnet18, the output dim should be 512\n",
    "    resnet.fc = torch.nn.Identity()\n",
    "    return resnet\n",
    "\n",
    "\n",
    "def replace_submodules(\n",
    "        root_module: nn.Module,\n",
    "        predicate: Callable[[nn.Module], bool],\n",
    "        func: Callable[[nn.Module], nn.Module]) -> nn.Module:\n",
    "    \"\"\"\n",
    "    Replace all submodules selected by the predicate with\n",
    "    the output of func.\n",
    "\n",
    "    predicate: Return true if the module is to be replaced.\n",
    "    func: Return new module to use.\n",
    "    \"\"\"\n",
    "    if predicate(root_module):\n",
    "        return func(root_module)\n",
    "\n",
    "    bn_list = [k.split('.') for k, m\n",
    "        in root_module.named_modules(remove_duplicate=True)\n",
    "        if predicate(m)]\n",
    "    for *parent, k in bn_list:\n",
    "        parent_module = root_module\n",
    "        if len(parent) > 0:\n",
    "            parent_module = root_module.get_submodule('.'.join(parent))\n",
    "        if isinstance(parent_module, nn.Sequential):\n",
    "            src_module = parent_module[int(k)]\n",
    "        else:\n",
    "            src_module = getattr(parent_module, k)\n",
    "        tgt_module = func(src_module)\n",
    "        if isinstance(parent_module, nn.Sequential):\n",
    "            parent_module[int(k)] = tgt_module\n",
    "        else:\n",
    "            setattr(parent_module, k, tgt_module)\n",
    "    # verify that all modules are replaced\n",
    "    bn_list = [k.split('.') for k, m\n",
    "        in root_module.named_modules(remove_duplicate=True)\n",
    "        if predicate(m)]\n",
    "    assert len(bn_list) == 0\n",
    "    return root_module\n",
    "\n",
    "def replace_bn_with_gn(\n",
    "    root_module: nn.Module,\n",
    "    features_per_group: int=16) -> nn.Module:\n",
    "    \"\"\"\n",
    "    Relace all BatchNorm layers with GroupNorm.\n",
    "    \"\"\"\n",
    "    replace_submodules(\n",
    "        root_module=root_module,\n",
    "        predicate=lambda x: isinstance(x, nn.BatchNorm2d),\n",
    "        func=lambda x: nn.GroupNorm(\n",
    "            num_groups=x.num_features//features_per_group,\n",
    "            num_channels=x.num_features)\n",
    "    )\n",
    "    return root_module\n"
   ]
  },
  {
   "cell_type": "code",
   "execution_count": 7,
   "metadata": {
    "colab": {
     "base_uri": "https://localhost:8080/"
    },
    "executionInfo": {
     "elapsed": 5002,
     "status": "ok",
     "timestamp": 1733209659619,
     "user": {
      "displayName": "Jerry Ho",
      "userId": "05246220472833344204"
     },
     "user_tz": -480
    },
    "id": "4APZkqh336-M",
    "outputId": "a717c19f-71a8-4360-a568-2f92f5c30829"
   },
   "outputs": [
    {
     "name": "stdout",
     "output_type": "stream",
     "text": [
      "number of parameters: 9.093124e+06\n"
     ]
    }
   ],
   "source": [
    "#@markdown ### **Network Demo**\n",
    "\n",
    "# construct ResNet18 encoder\n",
    "# if you have multiple camera views, use seperate encoder weights for each view.\n",
    "vision_encoder = get_resnet('resnet18')\n",
    "\n",
    "# IMPORTANT!\n",
    "# replace all BatchNorm with GroupNorm to work with EMA\n",
    "# performance will tank if you forget to do this!\n",
    "vision_encoder = replace_bn_with_gn(vision_encoder)\n",
    "\n",
    "# ResNet18 has output dim of 512\n",
    "vision_feature_dim = 512\n",
    "# agent_pos is 4 dimensional\n",
    "lowdim_obs_dim = 4\n",
    "# observation feature has 514 dims in total per step\n",
    "obs_dim = vision_feature_dim + lowdim_obs_dim\n",
    "action_dim = 4\n",
    "\n",
    "# create network object\n",
    "noise_pred_net = TransformerForDiffusion(\n",
    "    input_dim=action_dim,\n",
    "    output_dim=action_dim,\n",
    "    horizon=pred_horizon,\n",
    "    cond_dim=obs_dim,\n",
    "    n_obs_steps=obs_horizon,\n",
    ")\n",
    "\n",
    "\n",
    "# the final arch has 2 parts\n",
    "nets = nn.ModuleDict({\n",
    "    'vision_encoder': vision_encoder,\n",
    "    'noise_pred_net': noise_pred_net\n",
    "})\n",
    "\n",
    "# demo\n",
    "with torch.no_grad():\n",
    "    # example inputs\n",
    "    image = torch.zeros((1, obs_horizon,3,96,96))\n",
    "    agent_pos = torch.zeros((1, obs_horizon, lowdim_obs_dim))\n",
    "    # vision encoder\n",
    "    image_features = nets['vision_encoder'](\n",
    "        image.flatten(end_dim=1))\n",
    "    # (2,512)\n",
    "    image_features = image_features.reshape(*image.shape[:2],-1)\n",
    "    # (1,2,512)\n",
    "    obs = torch.cat([image_features, agent_pos],dim=-1)\n",
    "    # (1,2,516)\n",
    "\n",
    "    noised_action = torch.randn((1, pred_horizon, action_dim))\n",
    "    diffusion_iter = torch.zeros((1,))\n",
    "\n",
    "    # the noise prediction network\n",
    "    # takes noisy action, diffusion iteration and observation as input\n",
    "    # predicts the noise added to action\n",
    "    noise = nets['noise_pred_net'](\n",
    "        sample=noised_action,\n",
    "        timestep=diffusion_iter,\n",
    "        cond=obs\n",
    "    )\n",
    "    # illustration of removing noise\n",
    "    # the actual noise removal is performed by NoiseScheduler\n",
    "    # and is dependent on the diffusion noise schedule\n",
    "    denoised_action = noised_action - noise\n",
    "\n",
    "# for this demo, we use DDPMScheduler with 100 diffusion iterations\n",
    "num_diffusion_iters = 100\n",
    "noise_scheduler = DDPMScheduler(\n",
    "    num_train_timesteps=num_diffusion_iters,\n",
    "    # the choise of beta schedule has big impact on performance\n",
    "    # we found squared cosine works the best\n",
    "    beta_schedule='squaredcos_cap_v2',\n",
    "    # clip output to [-1,1] to improve stability\n",
    "    clip_sample=True,\n",
    "    # our network predicts noise (instead of denoised action)\n",
    "    prediction_type='epsilon'\n",
    ")\n",
    "\n",
    "# device transfer\n",
    "device = torch.device('cuda')\n",
    "_ = nets.to(device)"
   ]
  },
  {
   "cell_type": "code",
   "execution_count": 8,
   "metadata": {
    "colab": {
     "base_uri": "https://localhost:8080/",
     "height": 420,
     "referenced_widgets": [
      "a0ba21f9038a46c297d4c59aa50cffe6",
      "19efc7fb43c14f128d9b96e28a1e3a94",
      "4dc795e106d946e6adc0594fd71b1e2f",
      "e927435d8e534017b9f735351bcc8b11",
      "25fd0c71ee374fd49f8d02497747ed92",
      "a18f2aba6f344e83817a4e58b22d9c58",
      "6ee0ea7dce9a4c7aafe609185a34b3ac",
      "c59e550d5f3d4bd09cbfeefbe452c180",
      "62c2319a6c794b5d94efbd6061a3e626",
      "beb06de8af4e47658637847d9b907802",
      "ac07eb50f2c74d64a47931bba1fbc974",
      "fba98d58771f4376860847f29bcc4442",
      "3ada9fda917a49a091baadf7845c51a5",
      "5345575fb3744142b88f89c4544fec73",
      "8c7d7ce45bf14f25b6234e8cdbdc2a23",
      "c62a645d0545401d890e8d918507ad44",
      "e52b5fb4fd784a4db84566b3237d1981",
      "b4da694376a94cf7b9053bce776cf449",
      "dbac65f44ac24a44bd21f0111933df1b",
      "0ff6ab394b3c4799b2418d5780e2fe5b",
      "5cb01cb3bd49409fbde4051b80c7394b",
      "e9600c54bc734cf8910a1cb19000d3cd"
     ]
    },
    "executionInfo": {
     "elapsed": 315144,
     "status": "error",
     "timestamp": 1733209980479,
     "user": {
      "displayName": "Jerry Ho",
      "userId": "05246220472833344204"
     },
     "user_tz": -480
    },
    "id": "93E9RdnR4D8v",
    "outputId": "4c44416f-744f-4816-d643-1582d696a21a"
   },
   "outputs": [
    {
     "data": {
      "application/vnd.jupyter.widget-view+json": {
       "model_id": "1a62cb3eeaf9465c9ae206ee29bdcc23",
       "version_major": 2,
       "version_minor": 0
      },
      "text/plain": [
       "Epoch:   0%|          | 0/100 [00:00<?, ?it/s]"
      ]
     },
     "metadata": {},
     "output_type": "display_data"
    },
    {
     "data": {
      "application/vnd.jupyter.widget-view+json": {
       "model_id": "",
       "version_major": 2,
       "version_minor": 0
      },
      "text/plain": [
       "Batch:   0%|          | 0/312 [00:00<?, ?it/s]"
      ]
     },
     "metadata": {},
     "output_type": "display_data"
    },
    {
     "data": {
      "application/vnd.jupyter.widget-view+json": {
       "model_id": "",
       "version_major": 2,
       "version_minor": 0
      },
      "text/plain": [
       "Batch:   0%|          | 0/312 [00:00<?, ?it/s]"
      ]
     },
     "metadata": {},
     "output_type": "display_data"
    },
    {
     "data": {
      "application/vnd.jupyter.widget-view+json": {
       "model_id": "",
       "version_major": 2,
       "version_minor": 0
      },
      "text/plain": [
       "Batch:   0%|          | 0/312 [00:00<?, ?it/s]"
      ]
     },
     "metadata": {},
     "output_type": "display_data"
    },
    {
     "data": {
      "application/vnd.jupyter.widget-view+json": {
       "model_id": "",
       "version_major": 2,
       "version_minor": 0
      },
      "text/plain": [
       "Batch:   0%|          | 0/312 [00:00<?, ?it/s]"
      ]
     },
     "metadata": {},
     "output_type": "display_data"
    },
    {
     "data": {
      "application/vnd.jupyter.widget-view+json": {
       "model_id": "",
       "version_major": 2,
       "version_minor": 0
      },
      "text/plain": [
       "Batch:   0%|          | 0/312 [00:00<?, ?it/s]"
      ]
     },
     "metadata": {},
     "output_type": "display_data"
    },
    {
     "data": {
      "application/vnd.jupyter.widget-view+json": {
       "model_id": "",
       "version_major": 2,
       "version_minor": 0
      },
      "text/plain": [
       "Batch:   0%|          | 0/312 [00:00<?, ?it/s]"
      ]
     },
     "metadata": {},
     "output_type": "display_data"
    },
    {
     "data": {
      "application/vnd.jupyter.widget-view+json": {
       "model_id": "",
       "version_major": 2,
       "version_minor": 0
      },
      "text/plain": [
       "Batch:   0%|          | 0/312 [00:00<?, ?it/s]"
      ]
     },
     "metadata": {},
     "output_type": "display_data"
    },
    {
     "data": {
      "application/vnd.jupyter.widget-view+json": {
       "model_id": "",
       "version_major": 2,
       "version_minor": 0
      },
      "text/plain": [
       "Batch:   0%|          | 0/312 [00:00<?, ?it/s]"
      ]
     },
     "metadata": {},
     "output_type": "display_data"
    },
    {
     "data": {
      "application/vnd.jupyter.widget-view+json": {
       "model_id": "",
       "version_major": 2,
       "version_minor": 0
      },
      "text/plain": [
       "Batch:   0%|          | 0/312 [00:00<?, ?it/s]"
      ]
     },
     "metadata": {},
     "output_type": "display_data"
    },
    {
     "data": {
      "application/vnd.jupyter.widget-view+json": {
       "model_id": "",
       "version_major": 2,
       "version_minor": 0
      },
      "text/plain": [
       "Batch:   0%|          | 0/312 [00:00<?, ?it/s]"
      ]
     },
     "metadata": {},
     "output_type": "display_data"
    },
    {
     "data": {
      "application/vnd.jupyter.widget-view+json": {
       "model_id": "",
       "version_major": 2,
       "version_minor": 0
      },
      "text/plain": [
       "Batch:   0%|          | 0/312 [00:00<?, ?it/s]"
      ]
     },
     "metadata": {},
     "output_type": "display_data"
    },
    {
     "data": {
      "application/vnd.jupyter.widget-view+json": {
       "model_id": "",
       "version_major": 2,
       "version_minor": 0
      },
      "text/plain": [
       "Batch:   0%|          | 0/312 [00:00<?, ?it/s]"
      ]
     },
     "metadata": {},
     "output_type": "display_data"
    },
    {
     "data": {
      "application/vnd.jupyter.widget-view+json": {
       "model_id": "",
       "version_major": 2,
       "version_minor": 0
      },
      "text/plain": [
       "Batch:   0%|          | 0/312 [00:00<?, ?it/s]"
      ]
     },
     "metadata": {},
     "output_type": "display_data"
    },
    {
     "data": {
      "application/vnd.jupyter.widget-view+json": {
       "model_id": "",
       "version_major": 2,
       "version_minor": 0
      },
      "text/plain": [
       "Batch:   0%|          | 0/312 [00:00<?, ?it/s]"
      ]
     },
     "metadata": {},
     "output_type": "display_data"
    },
    {
     "data": {
      "application/vnd.jupyter.widget-view+json": {
       "model_id": "",
       "version_major": 2,
       "version_minor": 0
      },
      "text/plain": [
       "Batch:   0%|          | 0/312 [00:00<?, ?it/s]"
      ]
     },
     "metadata": {},
     "output_type": "display_data"
    },
    {
     "data": {
      "application/vnd.jupyter.widget-view+json": {
       "model_id": "",
       "version_major": 2,
       "version_minor": 0
      },
      "text/plain": [
       "Batch:   0%|          | 0/312 [00:00<?, ?it/s]"
      ]
     },
     "metadata": {},
     "output_type": "display_data"
    },
    {
     "data": {
      "application/vnd.jupyter.widget-view+json": {
       "model_id": "",
       "version_major": 2,
       "version_minor": 0
      },
      "text/plain": [
       "Batch:   0%|          | 0/312 [00:00<?, ?it/s]"
      ]
     },
     "metadata": {},
     "output_type": "display_data"
    },
    {
     "data": {
      "application/vnd.jupyter.widget-view+json": {
       "model_id": "",
       "version_major": 2,
       "version_minor": 0
      },
      "text/plain": [
       "Batch:   0%|          | 0/312 [00:00<?, ?it/s]"
      ]
     },
     "metadata": {},
     "output_type": "display_data"
    },
    {
     "data": {
      "application/vnd.jupyter.widget-view+json": {
       "model_id": "",
       "version_major": 2,
       "version_minor": 0
      },
      "text/plain": [
       "Batch:   0%|          | 0/312 [00:00<?, ?it/s]"
      ]
     },
     "metadata": {},
     "output_type": "display_data"
    },
    {
     "data": {
      "application/vnd.jupyter.widget-view+json": {
       "model_id": "",
       "version_major": 2,
       "version_minor": 0
      },
      "text/plain": [
       "Batch:   0%|          | 0/312 [00:00<?, ?it/s]"
      ]
     },
     "metadata": {},
     "output_type": "display_data"
    },
    {
     "data": {
      "application/vnd.jupyter.widget-view+json": {
       "model_id": "",
       "version_major": 2,
       "version_minor": 0
      },
      "text/plain": [
       "Batch:   0%|          | 0/312 [00:00<?, ?it/s]"
      ]
     },
     "metadata": {},
     "output_type": "display_data"
    },
    {
     "data": {
      "application/vnd.jupyter.widget-view+json": {
       "model_id": "",
       "version_major": 2,
       "version_minor": 0
      },
      "text/plain": [
       "Batch:   0%|          | 0/312 [00:00<?, ?it/s]"
      ]
     },
     "metadata": {},
     "output_type": "display_data"
    },
    {
     "data": {
      "application/vnd.jupyter.widget-view+json": {
       "model_id": "",
       "version_major": 2,
       "version_minor": 0
      },
      "text/plain": [
       "Batch:   0%|          | 0/312 [00:00<?, ?it/s]"
      ]
     },
     "metadata": {},
     "output_type": "display_data"
    },
    {
     "data": {
      "application/vnd.jupyter.widget-view+json": {
       "model_id": "",
       "version_major": 2,
       "version_minor": 0
      },
      "text/plain": [
       "Batch:   0%|          | 0/312 [00:00<?, ?it/s]"
      ]
     },
     "metadata": {},
     "output_type": "display_data"
    },
    {
     "data": {
      "application/vnd.jupyter.widget-view+json": {
       "model_id": "",
       "version_major": 2,
       "version_minor": 0
      },
      "text/plain": [
       "Batch:   0%|          | 0/312 [00:00<?, ?it/s]"
      ]
     },
     "metadata": {},
     "output_type": "display_data"
    },
    {
     "data": {
      "application/vnd.jupyter.widget-view+json": {
       "model_id": "",
       "version_major": 2,
       "version_minor": 0
      },
      "text/plain": [
       "Batch:   0%|          | 0/312 [00:00<?, ?it/s]"
      ]
     },
     "metadata": {},
     "output_type": "display_data"
    },
    {
     "data": {
      "application/vnd.jupyter.widget-view+json": {
       "model_id": "",
       "version_major": 2,
       "version_minor": 0
      },
      "text/plain": [
       "Batch:   0%|          | 0/312 [00:00<?, ?it/s]"
      ]
     },
     "metadata": {},
     "output_type": "display_data"
    },
    {
     "data": {
      "application/vnd.jupyter.widget-view+json": {
       "model_id": "",
       "version_major": 2,
       "version_minor": 0
      },
      "text/plain": [
       "Batch:   0%|          | 0/312 [00:00<?, ?it/s]"
      ]
     },
     "metadata": {},
     "output_type": "display_data"
    },
    {
     "data": {
      "application/vnd.jupyter.widget-view+json": {
       "model_id": "",
       "version_major": 2,
       "version_minor": 0
      },
      "text/plain": [
       "Batch:   0%|          | 0/312 [00:00<?, ?it/s]"
      ]
     },
     "metadata": {},
     "output_type": "display_data"
    },
    {
     "data": {
      "application/vnd.jupyter.widget-view+json": {
       "model_id": "",
       "version_major": 2,
       "version_minor": 0
      },
      "text/plain": [
       "Batch:   0%|          | 0/312 [00:00<?, ?it/s]"
      ]
     },
     "metadata": {},
     "output_type": "display_data"
    },
    {
     "data": {
      "application/vnd.jupyter.widget-view+json": {
       "model_id": "",
       "version_major": 2,
       "version_minor": 0
      },
      "text/plain": [
       "Batch:   0%|          | 0/312 [00:00<?, ?it/s]"
      ]
     },
     "metadata": {},
     "output_type": "display_data"
    },
    {
     "data": {
      "application/vnd.jupyter.widget-view+json": {
       "model_id": "",
       "version_major": 2,
       "version_minor": 0
      },
      "text/plain": [
       "Batch:   0%|          | 0/312 [00:00<?, ?it/s]"
      ]
     },
     "metadata": {},
     "output_type": "display_data"
    },
    {
     "data": {
      "application/vnd.jupyter.widget-view+json": {
       "model_id": "",
       "version_major": 2,
       "version_minor": 0
      },
      "text/plain": [
       "Batch:   0%|          | 0/312 [00:00<?, ?it/s]"
      ]
     },
     "metadata": {},
     "output_type": "display_data"
    },
    {
     "data": {
      "application/vnd.jupyter.widget-view+json": {
       "model_id": "",
       "version_major": 2,
       "version_minor": 0
      },
      "text/plain": [
       "Batch:   0%|          | 0/312 [00:00<?, ?it/s]"
      ]
     },
     "metadata": {},
     "output_type": "display_data"
    },
    {
     "data": {
      "application/vnd.jupyter.widget-view+json": {
       "model_id": "",
       "version_major": 2,
       "version_minor": 0
      },
      "text/plain": [
       "Batch:   0%|          | 0/312 [00:00<?, ?it/s]"
      ]
     },
     "metadata": {},
     "output_type": "display_data"
    },
    {
     "data": {
      "application/vnd.jupyter.widget-view+json": {
       "model_id": "",
       "version_major": 2,
       "version_minor": 0
      },
      "text/plain": [
       "Batch:   0%|          | 0/312 [00:00<?, ?it/s]"
      ]
     },
     "metadata": {},
     "output_type": "display_data"
    },
    {
     "data": {
      "application/vnd.jupyter.widget-view+json": {
       "model_id": "",
       "version_major": 2,
       "version_minor": 0
      },
      "text/plain": [
       "Batch:   0%|          | 0/312 [00:00<?, ?it/s]"
      ]
     },
     "metadata": {},
     "output_type": "display_data"
    },
    {
     "data": {
      "application/vnd.jupyter.widget-view+json": {
       "model_id": "",
       "version_major": 2,
       "version_minor": 0
      },
      "text/plain": [
       "Batch:   0%|          | 0/312 [00:00<?, ?it/s]"
      ]
     },
     "metadata": {},
     "output_type": "display_data"
    },
    {
     "data": {
      "application/vnd.jupyter.widget-view+json": {
       "model_id": "",
       "version_major": 2,
       "version_minor": 0
      },
      "text/plain": [
       "Batch:   0%|          | 0/312 [00:00<?, ?it/s]"
      ]
     },
     "metadata": {},
     "output_type": "display_data"
    },
    {
     "data": {
      "application/vnd.jupyter.widget-view+json": {
       "model_id": "",
       "version_major": 2,
       "version_minor": 0
      },
      "text/plain": [
       "Batch:   0%|          | 0/312 [00:00<?, ?it/s]"
      ]
     },
     "metadata": {},
     "output_type": "display_data"
    },
    {
     "data": {
      "application/vnd.jupyter.widget-view+json": {
       "model_id": "",
       "version_major": 2,
       "version_minor": 0
      },
      "text/plain": [
       "Batch:   0%|          | 0/312 [00:00<?, ?it/s]"
      ]
     },
     "metadata": {},
     "output_type": "display_data"
    },
    {
     "data": {
      "application/vnd.jupyter.widget-view+json": {
       "model_id": "",
       "version_major": 2,
       "version_minor": 0
      },
      "text/plain": [
       "Batch:   0%|          | 0/312 [00:00<?, ?it/s]"
      ]
     },
     "metadata": {},
     "output_type": "display_data"
    },
    {
     "data": {
      "application/vnd.jupyter.widget-view+json": {
       "model_id": "",
       "version_major": 2,
       "version_minor": 0
      },
      "text/plain": [
       "Batch:   0%|          | 0/312 [00:00<?, ?it/s]"
      ]
     },
     "metadata": {},
     "output_type": "display_data"
    },
    {
     "data": {
      "application/vnd.jupyter.widget-view+json": {
       "model_id": "",
       "version_major": 2,
       "version_minor": 0
      },
      "text/plain": [
       "Batch:   0%|          | 0/312 [00:00<?, ?it/s]"
      ]
     },
     "metadata": {},
     "output_type": "display_data"
    },
    {
     "data": {
      "application/vnd.jupyter.widget-view+json": {
       "model_id": "",
       "version_major": 2,
       "version_minor": 0
      },
      "text/plain": [
       "Batch:   0%|          | 0/312 [00:00<?, ?it/s]"
      ]
     },
     "metadata": {},
     "output_type": "display_data"
    },
    {
     "data": {
      "application/vnd.jupyter.widget-view+json": {
       "model_id": "",
       "version_major": 2,
       "version_minor": 0
      },
      "text/plain": [
       "Batch:   0%|          | 0/312 [00:00<?, ?it/s]"
      ]
     },
     "metadata": {},
     "output_type": "display_data"
    },
    {
     "data": {
      "application/vnd.jupyter.widget-view+json": {
       "model_id": "",
       "version_major": 2,
       "version_minor": 0
      },
      "text/plain": [
       "Batch:   0%|          | 0/312 [00:00<?, ?it/s]"
      ]
     },
     "metadata": {},
     "output_type": "display_data"
    },
    {
     "data": {
      "application/vnd.jupyter.widget-view+json": {
       "model_id": "",
       "version_major": 2,
       "version_minor": 0
      },
      "text/plain": [
       "Batch:   0%|          | 0/312 [00:00<?, ?it/s]"
      ]
     },
     "metadata": {},
     "output_type": "display_data"
    },
    {
     "data": {
      "application/vnd.jupyter.widget-view+json": {
       "model_id": "",
       "version_major": 2,
       "version_minor": 0
      },
      "text/plain": [
       "Batch:   0%|          | 0/312 [00:00<?, ?it/s]"
      ]
     },
     "metadata": {},
     "output_type": "display_data"
    },
    {
     "data": {
      "application/vnd.jupyter.widget-view+json": {
       "model_id": "81a25c127fbb4fe8b4b360f0abc16d50",
       "version_major": 2,
       "version_minor": 0
      },
      "text/plain": [
       "Batch:   0%|          | 0/312 [00:00<?, ?it/s]"
      ]
     },
     "metadata": {},
     "output_type": "display_data"
    },
    {
     "data": {
      "application/vnd.jupyter.widget-view+json": {
       "model_id": "98336f60086641719b5abbd2592b2f6d",
       "version_major": 2,
       "version_minor": 0
      },
      "text/plain": [
       "Batch:   0%|          | 0/312 [00:00<?, ?it/s]"
      ]
     },
     "metadata": {},
     "output_type": "display_data"
    },
    {
     "data": {
      "application/vnd.jupyter.widget-view+json": {
       "model_id": "0c71f96d1f264fedb426aa5a123a053e",
       "version_major": 2,
       "version_minor": 0
      },
      "text/plain": [
       "Batch:   0%|          | 0/312 [00:00<?, ?it/s]"
      ]
     },
     "metadata": {},
     "output_type": "display_data"
    },
    {
     "data": {
      "application/vnd.jupyter.widget-view+json": {
       "model_id": "e266eb922b974ddf94a4db27acbb621a",
       "version_major": 2,
       "version_minor": 0
      },
      "text/plain": [
       "Batch:   0%|          | 0/312 [00:00<?, ?it/s]"
      ]
     },
     "metadata": {},
     "output_type": "display_data"
    },
    {
     "data": {
      "application/vnd.jupyter.widget-view+json": {
       "model_id": "9be5de5981e84c418f455f8d795af226",
       "version_major": 2,
       "version_minor": 0
      },
      "text/plain": [
       "Batch:   0%|          | 0/312 [00:00<?, ?it/s]"
      ]
     },
     "metadata": {},
     "output_type": "display_data"
    },
    {
     "data": {
      "application/vnd.jupyter.widget-view+json": {
       "model_id": "53a0bb13bed948849dfd6689861b0b0b",
       "version_major": 2,
       "version_minor": 0
      },
      "text/plain": [
       "Batch:   0%|          | 0/312 [00:00<?, ?it/s]"
      ]
     },
     "metadata": {},
     "output_type": "display_data"
    },
    {
     "data": {
      "application/vnd.jupyter.widget-view+json": {
       "model_id": "46ebfbfb42e8477e90b2eee2cd4a3740",
       "version_major": 2,
       "version_minor": 0
      },
      "text/plain": [
       "Batch:   0%|          | 0/312 [00:00<?, ?it/s]"
      ]
     },
     "metadata": {},
     "output_type": "display_data"
    },
    {
     "data": {
      "application/vnd.jupyter.widget-view+json": {
       "model_id": "c844d23cfce9487e9492c176e09af77c",
       "version_major": 2,
       "version_minor": 0
      },
      "text/plain": [
       "Batch:   0%|          | 0/312 [00:00<?, ?it/s]"
      ]
     },
     "metadata": {},
     "output_type": "display_data"
    },
    {
     "data": {
      "application/vnd.jupyter.widget-view+json": {
       "model_id": "07a8fd7acece44308d18cd6a3b7b24c0",
       "version_major": 2,
       "version_minor": 0
      },
      "text/plain": [
       "Batch:   0%|          | 0/312 [00:00<?, ?it/s]"
      ]
     },
     "metadata": {},
     "output_type": "display_data"
    },
    {
     "data": {
      "application/vnd.jupyter.widget-view+json": {
       "model_id": "82a33ee8d87c4029b2364e896df6713b",
       "version_major": 2,
       "version_minor": 0
      },
      "text/plain": [
       "Batch:   0%|          | 0/312 [00:00<?, ?it/s]"
      ]
     },
     "metadata": {},
     "output_type": "display_data"
    },
    {
     "data": {
      "application/vnd.jupyter.widget-view+json": {
       "model_id": "8dda4e24b18648d99db1ba03e51ec0df",
       "version_major": 2,
       "version_minor": 0
      },
      "text/plain": [
       "Batch:   0%|          | 0/312 [00:00<?, ?it/s]"
      ]
     },
     "metadata": {},
     "output_type": "display_data"
    },
    {
     "data": {
      "application/vnd.jupyter.widget-view+json": {
       "model_id": "2b3eeb874c6c4054aed1c93cc62d09b4",
       "version_major": 2,
       "version_minor": 0
      },
      "text/plain": [
       "Batch:   0%|          | 0/312 [00:00<?, ?it/s]"
      ]
     },
     "metadata": {},
     "output_type": "display_data"
    },
    {
     "data": {
      "application/vnd.jupyter.widget-view+json": {
       "model_id": "d1759a7d72c54528bbe62d26afda7c5f",
       "version_major": 2,
       "version_minor": 0
      },
      "text/plain": [
       "Batch:   0%|          | 0/312 [00:00<?, ?it/s]"
      ]
     },
     "metadata": {},
     "output_type": "display_data"
    },
    {
     "data": {
      "application/vnd.jupyter.widget-view+json": {
       "model_id": "4d24f34b75cd4dcba3b88e9b0dbb3c78",
       "version_major": 2,
       "version_minor": 0
      },
      "text/plain": [
       "Batch:   0%|          | 0/312 [00:00<?, ?it/s]"
      ]
     },
     "metadata": {},
     "output_type": "display_data"
    },
    {
     "data": {
      "application/vnd.jupyter.widget-view+json": {
       "model_id": "80fe6b7dc68c4cd4826fdfe49c8e14f3",
       "version_major": 2,
       "version_minor": 0
      },
      "text/plain": [
       "Batch:   0%|          | 0/312 [00:00<?, ?it/s]"
      ]
     },
     "metadata": {},
     "output_type": "display_data"
    },
    {
     "data": {
      "application/vnd.jupyter.widget-view+json": {
       "model_id": "2c4cc04cb8ba49aa9f40df477d2761ea",
       "version_major": 2,
       "version_minor": 0
      },
      "text/plain": [
       "Batch:   0%|          | 0/312 [00:00<?, ?it/s]"
      ]
     },
     "metadata": {},
     "output_type": "display_data"
    },
    {
     "data": {
      "application/vnd.jupyter.widget-view+json": {
       "model_id": "995bed61e908433882248978b38485d9",
       "version_major": 2,
       "version_minor": 0
      },
      "text/plain": [
       "Batch:   0%|          | 0/312 [00:00<?, ?it/s]"
      ]
     },
     "metadata": {},
     "output_type": "display_data"
    },
    {
     "data": {
      "application/vnd.jupyter.widget-view+json": {
       "model_id": "aa89348d90de4054a7043a912c0f45fa",
       "version_major": 2,
       "version_minor": 0
      },
      "text/plain": [
       "Batch:   0%|          | 0/312 [00:00<?, ?it/s]"
      ]
     },
     "metadata": {},
     "output_type": "display_data"
    },
    {
     "data": {
      "application/vnd.jupyter.widget-view+json": {
       "model_id": "",
       "version_major": 2,
       "version_minor": 0
      },
      "text/plain": [
       "Batch:   0%|          | 0/312 [00:00<?, ?it/s]"
      ]
     },
     "metadata": {},
     "output_type": "display_data"
    },
    {
     "data": {
      "application/vnd.jupyter.widget-view+json": {
       "model_id": "",
       "version_major": 2,
       "version_minor": 0
      },
      "text/plain": [
       "Batch:   0%|          | 0/312 [00:00<?, ?it/s]"
      ]
     },
     "metadata": {},
     "output_type": "display_data"
    },
    {
     "data": {
      "application/vnd.jupyter.widget-view+json": {
       "model_id": "",
       "version_major": 2,
       "version_minor": 0
      },
      "text/plain": [
       "Batch:   0%|          | 0/312 [00:00<?, ?it/s]"
      ]
     },
     "metadata": {},
     "output_type": "display_data"
    },
    {
     "data": {
      "application/vnd.jupyter.widget-view+json": {
       "model_id": "",
       "version_major": 2,
       "version_minor": 0
      },
      "text/plain": [
       "Batch:   0%|          | 0/312 [00:00<?, ?it/s]"
      ]
     },
     "metadata": {},
     "output_type": "display_data"
    },
    {
     "data": {
      "application/vnd.jupyter.widget-view+json": {
       "model_id": "",
       "version_major": 2,
       "version_minor": 0
      },
      "text/plain": [
       "Batch:   0%|          | 0/312 [00:00<?, ?it/s]"
      ]
     },
     "metadata": {},
     "output_type": "display_data"
    },
    {
     "data": {
      "application/vnd.jupyter.widget-view+json": {
       "model_id": "",
       "version_major": 2,
       "version_minor": 0
      },
      "text/plain": [
       "Batch:   0%|          | 0/312 [00:00<?, ?it/s]"
      ]
     },
     "metadata": {},
     "output_type": "display_data"
    },
    {
     "data": {
      "application/vnd.jupyter.widget-view+json": {
       "model_id": "",
       "version_major": 2,
       "version_minor": 0
      },
      "text/plain": [
       "Batch:   0%|          | 0/312 [00:00<?, ?it/s]"
      ]
     },
     "metadata": {},
     "output_type": "display_data"
    },
    {
     "data": {
      "application/vnd.jupyter.widget-view+json": {
       "model_id": "",
       "version_major": 2,
       "version_minor": 0
      },
      "text/plain": [
       "Batch:   0%|          | 0/312 [00:00<?, ?it/s]"
      ]
     },
     "metadata": {},
     "output_type": "display_data"
    },
    {
     "data": {
      "application/vnd.jupyter.widget-view+json": {
       "model_id": "",
       "version_major": 2,
       "version_minor": 0
      },
      "text/plain": [
       "Batch:   0%|          | 0/312 [00:00<?, ?it/s]"
      ]
     },
     "metadata": {},
     "output_type": "display_data"
    },
    {
     "data": {
      "application/vnd.jupyter.widget-view+json": {
       "model_id": "",
       "version_major": 2,
       "version_minor": 0
      },
      "text/plain": [
       "Batch:   0%|          | 0/312 [00:00<?, ?it/s]"
      ]
     },
     "metadata": {},
     "output_type": "display_data"
    },
    {
     "data": {
      "application/vnd.jupyter.widget-view+json": {
       "model_id": "",
       "version_major": 2,
       "version_minor": 0
      },
      "text/plain": [
       "Batch:   0%|          | 0/312 [00:00<?, ?it/s]"
      ]
     },
     "metadata": {},
     "output_type": "display_data"
    },
    {
     "data": {
      "application/vnd.jupyter.widget-view+json": {
       "model_id": "",
       "version_major": 2,
       "version_minor": 0
      },
      "text/plain": [
       "Batch:   0%|          | 0/312 [00:00<?, ?it/s]"
      ]
     },
     "metadata": {},
     "output_type": "display_data"
    },
    {
     "data": {
      "application/vnd.jupyter.widget-view+json": {
       "model_id": "",
       "version_major": 2,
       "version_minor": 0
      },
      "text/plain": [
       "Batch:   0%|          | 0/312 [00:00<?, ?it/s]"
      ]
     },
     "metadata": {},
     "output_type": "display_data"
    },
    {
     "data": {
      "application/vnd.jupyter.widget-view+json": {
       "model_id": "",
       "version_major": 2,
       "version_minor": 0
      },
      "text/plain": [
       "Batch:   0%|          | 0/312 [00:00<?, ?it/s]"
      ]
     },
     "metadata": {},
     "output_type": "display_data"
    },
    {
     "data": {
      "application/vnd.jupyter.widget-view+json": {
       "model_id": "",
       "version_major": 2,
       "version_minor": 0
      },
      "text/plain": [
       "Batch:   0%|          | 0/312 [00:00<?, ?it/s]"
      ]
     },
     "metadata": {},
     "output_type": "display_data"
    },
    {
     "data": {
      "application/vnd.jupyter.widget-view+json": {
       "model_id": "",
       "version_major": 2,
       "version_minor": 0
      },
      "text/plain": [
       "Batch:   0%|          | 0/312 [00:00<?, ?it/s]"
      ]
     },
     "metadata": {},
     "output_type": "display_data"
    },
    {
     "data": {
      "application/vnd.jupyter.widget-view+json": {
       "model_id": "",
       "version_major": 2,
       "version_minor": 0
      },
      "text/plain": [
       "Batch:   0%|          | 0/312 [00:00<?, ?it/s]"
      ]
     },
     "metadata": {},
     "output_type": "display_data"
    },
    {
     "data": {
      "application/vnd.jupyter.widget-view+json": {
       "model_id": "",
       "version_major": 2,
       "version_minor": 0
      },
      "text/plain": [
       "Batch:   0%|          | 0/312 [00:00<?, ?it/s]"
      ]
     },
     "metadata": {},
     "output_type": "display_data"
    },
    {
     "data": {
      "application/vnd.jupyter.widget-view+json": {
       "model_id": "",
       "version_major": 2,
       "version_minor": 0
      },
      "text/plain": [
       "Batch:   0%|          | 0/312 [00:00<?, ?it/s]"
      ]
     },
     "metadata": {},
     "output_type": "display_data"
    },
    {
     "data": {
      "application/vnd.jupyter.widget-view+json": {
       "model_id": "",
       "version_major": 2,
       "version_minor": 0
      },
      "text/plain": [
       "Batch:   0%|          | 0/312 [00:00<?, ?it/s]"
      ]
     },
     "metadata": {},
     "output_type": "display_data"
    },
    {
     "data": {
      "application/vnd.jupyter.widget-view+json": {
       "model_id": "",
       "version_major": 2,
       "version_minor": 0
      },
      "text/plain": [
       "Batch:   0%|          | 0/312 [00:00<?, ?it/s]"
      ]
     },
     "metadata": {},
     "output_type": "display_data"
    },
    {
     "data": {
      "application/vnd.jupyter.widget-view+json": {
       "model_id": "",
       "version_major": 2,
       "version_minor": 0
      },
      "text/plain": [
       "Batch:   0%|          | 0/312 [00:00<?, ?it/s]"
      ]
     },
     "metadata": {},
     "output_type": "display_data"
    },
    {
     "data": {
      "application/vnd.jupyter.widget-view+json": {
       "model_id": "",
       "version_major": 2,
       "version_minor": 0
      },
      "text/plain": [
       "Batch:   0%|          | 0/312 [00:00<?, ?it/s]"
      ]
     },
     "metadata": {},
     "output_type": "display_data"
    },
    {
     "data": {
      "application/vnd.jupyter.widget-view+json": {
       "model_id": "",
       "version_major": 2,
       "version_minor": 0
      },
      "text/plain": [
       "Batch:   0%|          | 0/312 [00:00<?, ?it/s]"
      ]
     },
     "metadata": {},
     "output_type": "display_data"
    },
    {
     "data": {
      "application/vnd.jupyter.widget-view+json": {
       "model_id": "",
       "version_major": 2,
       "version_minor": 0
      },
      "text/plain": [
       "Batch:   0%|          | 0/312 [00:00<?, ?it/s]"
      ]
     },
     "metadata": {},
     "output_type": "display_data"
    },
    {
     "data": {
      "application/vnd.jupyter.widget-view+json": {
       "model_id": "",
       "version_major": 2,
       "version_minor": 0
      },
      "text/plain": [
       "Batch:   0%|          | 0/312 [00:00<?, ?it/s]"
      ]
     },
     "metadata": {},
     "output_type": "display_data"
    },
    {
     "data": {
      "application/vnd.jupyter.widget-view+json": {
       "model_id": "",
       "version_major": 2,
       "version_minor": 0
      },
      "text/plain": [
       "Batch:   0%|          | 0/312 [00:00<?, ?it/s]"
      ]
     },
     "metadata": {},
     "output_type": "display_data"
    },
    {
     "data": {
      "application/vnd.jupyter.widget-view+json": {
       "model_id": "",
       "version_major": 2,
       "version_minor": 0
      },
      "text/plain": [
       "Batch:   0%|          | 0/312 [00:00<?, ?it/s]"
      ]
     },
     "metadata": {},
     "output_type": "display_data"
    },
    {
     "data": {
      "application/vnd.jupyter.widget-view+json": {
       "model_id": "",
       "version_major": 2,
       "version_minor": 0
      },
      "text/plain": [
       "Batch:   0%|          | 0/312 [00:00<?, ?it/s]"
      ]
     },
     "metadata": {},
     "output_type": "display_data"
    },
    {
     "data": {
      "application/vnd.jupyter.widget-view+json": {
       "model_id": "",
       "version_major": 2,
       "version_minor": 0
      },
      "text/plain": [
       "Batch:   0%|          | 0/312 [00:00<?, ?it/s]"
      ]
     },
     "metadata": {},
     "output_type": "display_data"
    },
    {
     "data": {
      "application/vnd.jupyter.widget-view+json": {
       "model_id": "",
       "version_major": 2,
       "version_minor": 0
      },
      "text/plain": [
       "Batch:   0%|          | 0/312 [00:00<?, ?it/s]"
      ]
     },
     "metadata": {},
     "output_type": "display_data"
    },
    {
     "data": {
      "application/vnd.jupyter.widget-view+json": {
       "model_id": "",
       "version_major": 2,
       "version_minor": 0
      },
      "text/plain": [
       "Batch:   0%|          | 0/312 [00:00<?, ?it/s]"
      ]
     },
     "metadata": {},
     "output_type": "display_data"
    },
    {
     "data": {
      "application/vnd.jupyter.widget-view+json": {
       "model_id": "",
       "version_major": 2,
       "version_minor": 0
      },
      "text/plain": [
       "Batch:   0%|          | 0/312 [00:00<?, ?it/s]"
      ]
     },
     "metadata": {},
     "output_type": "display_data"
    }
   ],
   "source": [
    "#@markdown ### **Training**\n",
    "#@markdown\n",
    "#@markdown Takes about 2.5 hours. If you don't want to wait, skip to the next cell\n",
    "#@markdown to load pre-trained weights\n",
    "\n",
    "num_epochs = 100\n",
    "#num_epochs = 50\n",
    "\n",
    "# Exponential Moving Average\n",
    "# accelerates training and improves stability\n",
    "# holds a copy of the model weights\n",
    "ema = EMAModel(\n",
    "    parameters=nets.parameters(),\n",
    "    power=0.75)\n",
    "\n",
    "# Standard ADAM optimizer\n",
    "# Note that EMA parametesr are not optimized\n",
    "\n",
    "# 获取 noise_pred_net 的优化参数组\n",
    "optim_groups_noise_pred = nets['noise_pred_net'].configure_optimizers()\n",
    "\n",
    "# 分别获取 vision_encoder 的参数，并将它们加入到正确的参数组中\n",
    "params_vision_encoder = [\n",
    "    {'params': nets['vision_encoder'].parameters(), 'lr': 1e-4, 'weight_decay': 1e-6}\n",
    "]\n",
    "\n",
    "# 合并参数组\n",
    "optim_groups = optim_groups_noise_pred.param_groups + params_vision_encoder\n",
    "\n",
    "# 创建优化器，使用上述参数列表\n",
    "optimizer = torch.optim.AdamW(optim_groups)\n",
    "\n",
    "# Cosine LR schedule with linear warmup\n",
    "lr_scheduler = get_scheduler(\n",
    "    name='cosine',\n",
    "    optimizer=optimizer,\n",
    "    num_warmup_steps=500,\n",
    "    num_training_steps=len(dataloader) * num_epochs\n",
    ")\n",
    "\n",
    "with tqdm(range(num_epochs), desc='Epoch') as tglobal:\n",
    "    # epoch loop\n",
    "    for epoch_idx in tglobal:\n",
    "        epoch_loss = list()\n",
    "        # batch loop\n",
    "        with tqdm(dataloader, desc='Batch', leave=False) as tepoch:\n",
    "            for nbatch in tepoch:\n",
    "                # data normalized in dataset\n",
    "                # device transfer\n",
    "                nimage = nbatch['image'][:,:obs_horizon].to(device)\n",
    "                nagent_pos = nbatch['agent_pos'][:,:obs_horizon].to(device)\n",
    "                naction = nbatch['action'].to(device)\n",
    "                B = nagent_pos.shape[0]\n",
    "\n",
    "                # encoder vision features\n",
    "                image_features = nets['vision_encoder'](\n",
    "                    nimage.flatten(end_dim=1))\n",
    "                image_features = image_features.reshape(\n",
    "                    *nimage.shape[:2],-1)\n",
    "                # (B,obs_horizon,D)\n",
    "\n",
    "                # concatenate vision feature and low-dim obs\n",
    "                obs_features = torch.cat([image_features, nagent_pos], dim=-1)\n",
    "                #obs_cond = obs_features.flatten(start_dim=1)\n",
    "                # transfer obs from double to float\n",
    "                obs_cond = obs_features.float()\n",
    "                # (B, obs_horizon ,obs_dim)\n",
    "\n",
    "                # sample noise to add to actions\n",
    "                noise = torch.randn(naction.shape, device=device)\n",
    "\n",
    "                # sample a diffusion iteration for each data point\n",
    "                timesteps = torch.randint(\n",
    "                    0, noise_scheduler.config.num_train_timesteps,\n",
    "                    (B,), device=device\n",
    "                ).long()\n",
    "\n",
    "                # add noise to the clean images according to the noise magnitude at each diffusion iteration\n",
    "                # (this is the forward diffusion process)\n",
    "                noisy_actions = noise_scheduler.add_noise(\n",
    "                    naction, noise, timesteps).float()\n",
    "\n",
    "                # predict the noise residual\n",
    "                noise_pred = noise_pred_net(\n",
    "                    noisy_actions, timesteps, cond=obs_cond)\n",
    "\n",
    "                # L2 loss\n",
    "                loss = nn.functional.mse_loss(noise_pred, noise)\n",
    "\n",
    "                # optimize\n",
    "                loss.backward()\n",
    "                optimizer.step()\n",
    "                optimizer.zero_grad()\n",
    "                # step lr scheduler every batch\n",
    "                # this is different from standard pytorch behavior\n",
    "                lr_scheduler.step()\n",
    "\n",
    "                # update Exponential Moving Average of the model weights\n",
    "                ema.step(nets.parameters())\n",
    "\n",
    "                # logging\n",
    "                loss_cpu = loss.item()\n",
    "                epoch_loss.append(loss_cpu)\n",
    "                tepoch.set_postfix(loss=loss_cpu)\n",
    "        tglobal.set_postfix(loss=np.mean(epoch_loss))\n",
    "\n",
    "# Weights of the EMA model\n",
    "# is used for inference\n",
    "ema_nets = nets\n",
    "ema.copy_to(ema_nets.parameters())\n",
    "# use ema_nets\n",
    "\n",
    "# save model\n",
    "torch.save(ema_nets.state_dict(), './resnet+tf_100ep_checkpoint.pth')"
   ]
  },
  {
   "cell_type": "code",
   "execution_count": 12,
   "metadata": {
    "id": "lFkpxjbWIpEo"
   },
   "outputs": [],
   "source": [
    "# save model\n",
    "torch.save(ema_nets.state_dict(), './resnet+tf_50ep_checkpoint.pth')"
   ]
  },
  {
   "cell_type": "code",
   "execution_count": 8,
   "metadata": {
    "id": "PSOjPEbbI4TH"
   },
   "outputs": [
    {
     "data": {
      "text/plain": [
       "<All keys matched successfully>"
      ]
     },
     "execution_count": 8,
     "metadata": {},
     "output_type": "execute_result"
    }
   ],
   "source": [
    "# load model\n",
    "\n",
    "ema_nets=nets\n",
    "# 加载之前保存的状态字典\n",
    "state_dict = torch.load('./resnet+tf_50ep_checkpoint.pth',map_location='cuda') #in deed 100 epochs\n",
    "\n",
    "# 将加载的状态字典应用到 nets\n",
    "ema_nets.load_state_dict(state_dict)"
   ]
  },
  {
   "cell_type": "code",
   "execution_count": 9,
   "metadata": {},
   "outputs": [],
   "source": [
    "#@markdown ### **shelf place Inference**\n",
    "from metaworld import MT1\n",
    "from PIL import Image\n",
    "from pyvirtualdisplay import Display\n",
    "\n",
    "display = Display(visible=0,backend=\"xvfb\")\n",
    "display.start()\n",
    "\n",
    "render_mode='rgb_array'\n",
    "#render_mode='depth_array'\n",
    "camera_name='behindGripper'\n",
    "max_steps=200\n",
    "\n",
    "mt1=MT1('shelf-place-v2',seed=110)\n",
    "env=mt1.train_classes['shelf-place-v2'](render_mode=render_mode,camera_name=camera_name)\n",
    "\n",
    "test_model=ema_nets\n",
    "\n",
    "success_cnt = 0"
   ]
  },
  {
   "cell_type": "code",
   "execution_count": 10,
   "metadata": {
    "id": "7PiL38dEWUnw"
   },
   "outputs": [],
   "source": [
    "#@markdown ### ** inference action define**\n",
    "\n",
    "def getAction(obs_deque):\n",
    "    B = 1\n",
    "    # stack the last obs_horizon number of observations\n",
    "    images = np.stack([x['image'] for x in obs_deque])\n",
    "    agent_poses = np.stack([x['agent_pos'] for x in obs_deque])\n",
    "    \n",
    "    # normalize observation\n",
    "    nagent_poses = normalize_data(agent_poses, stats=stats['agent_pos'])\n",
    "    # images are already normalized to [0,1]\n",
    "    nimages = images\n",
    "    \n",
    "    # device transfer\n",
    "    nimages = torch.from_numpy(nimages).to(device, dtype=torch.float32)\n",
    "    # (2,3,96,96)\n",
    "    nagent_poses = torch.from_numpy(nagent_poses).to(device, dtype=torch.float32)\n",
    "    # (2,2)\n",
    "\n",
    "    # infer action\n",
    "    with torch.no_grad():\n",
    "        # get image features\n",
    "        image_features = ema_nets['vision_encoder'](nimages)\n",
    "        # (2,512)\n",
    "    \n",
    "        # concat with low-dim observations\n",
    "        obs_features = torch.cat([image_features, nagent_poses], dim=-1)\n",
    "        \n",
    "        obs_cond = obs_features.unsqueeze(0)\n",
    "        ## reshape observation to (B,obs_horizon*obs_dim)\n",
    "        #obs_cond = obs_features.unsqueeze(0).flatten(start_dim=1)\n",
    "    \n",
    "        # initialize action from Guassian noise\n",
    "        noisy_action = torch.randn(\n",
    "            (B, pred_horizon, action_dim), device=device)\n",
    "        naction = noisy_action\n",
    "    \n",
    "        # init scheduler\n",
    "        noise_scheduler.set_timesteps(num_diffusion_iters)\n",
    "    \n",
    "        for k in noise_scheduler.timesteps:\n",
    "            # predict noise\n",
    "            noise_pred = ema_nets['noise_pred_net'](\n",
    "                sample=naction,\n",
    "                timestep=k,\n",
    "                cond=obs_cond\n",
    "            )\n",
    "    \n",
    "            # inverse diffusion step (remove noise)\n",
    "            naction = noise_scheduler.step(\n",
    "                model_output=noise_pred,\n",
    "                timestep=k,\n",
    "                sample=naction\n",
    "            ).prev_sample\n",
    "\n",
    "    # unnormalize action\n",
    "    naction = naction.detach().to('cpu').numpy()\n",
    "    # (B, pred_horizon, action_dim)\n",
    "    naction = naction[0]\n",
    "    action_pred = unnormalize_data(naction, stats=stats['action'])\n",
    "    \n",
    "    # only take action_horizon number of actions\n",
    "    start = obs_horizon - 1\n",
    "    end = start + action_horizon\n",
    "    action = action_pred[start:end,:]\n",
    "    # (action_horizon, action_dim)\n",
    "    return action\n",
    "    \n",
    "def resize(img):\n",
    "    return cv2.resize(img,(224,224),interpolation=cv2.INTER_AREA)\n",
    "    \n",
    "def transferObs(obs,img): # obs in env [:4]  and  env.render()uint8[0,255]  transfer to x['agent_pos'] x['image']\n",
    "    image=normalize_img(resize(img)) # (224,224,3)\n",
    "    image = np.moveaxis(image, -1,0) #(3,224,224)\n",
    "    agent_pos=obs[:4]\n",
    "    observation={\n",
    "        'image':image,\n",
    "        'agent_pos':agent_pos\n",
    "    }\n",
    "    return observation\n"
   ]
  },
  {
   "cell_type": "code",
   "execution_count": 11,
   "metadata": {
    "id": "I0Sdi_M9JzPY"
   },
   "outputs": [
    {
     "data": {
      "application/vnd.jupyter.widget-view+json": {
       "model_id": "7f1cbabc3fc645ec9d9a0fc9171b1b8f",
       "version_major": 2,
       "version_minor": 0
      },
      "text/plain": [
       "task_turns:   0%|          | 0/50 [00:00<?, ?it/s]"
      ]
     },
     "metadata": {},
     "output_type": "display_data"
    },
    {
     "data": {
      "application/vnd.jupyter.widget-view+json": {
       "model_id": "de88ca31a75e4d23a75b4f2c934a1a31",
       "version_major": 2,
       "version_minor": 0
      },
      "text/plain": [
       "steps:   0%|          | 0/200 [00:00<?, ?it/s]"
      ]
     },
     "metadata": {},
     "output_type": "display_data"
    },
    {
     "name": "stdout",
     "output_type": "stream",
     "text": [
      "task  0  success\n"
     ]
    },
    {
     "data": {
      "application/vnd.jupyter.widget-view+json": {
       "model_id": "4d428d1e6bc64e69aceac18bc5d94bf1",
       "version_major": 2,
       "version_minor": 0
      },
      "text/plain": [
       "steps:   0%|          | 0/200 [00:00<?, ?it/s]"
      ]
     },
     "metadata": {},
     "output_type": "display_data"
    },
    {
     "name": "stdout",
     "output_type": "stream",
     "text": [
      "task  1  success\n"
     ]
    },
    {
     "data": {
      "application/vnd.jupyter.widget-view+json": {
       "model_id": "",
       "version_major": 2,
       "version_minor": 0
      },
      "text/plain": [
       "steps:   0%|          | 0/200 [00:00<?, ?it/s]"
      ]
     },
     "metadata": {},
     "output_type": "display_data"
    },
    {
     "name": "stdout",
     "output_type": "stream",
     "text": [
      "task  2  fail\n"
     ]
    },
    {
     "data": {
      "application/vnd.jupyter.widget-view+json": {
       "model_id": "6818593e2c714a379938aabac0c0c859",
       "version_major": 2,
       "version_minor": 0
      },
      "text/plain": [
       "steps:   0%|          | 0/200 [00:00<?, ?it/s]"
      ]
     },
     "metadata": {},
     "output_type": "display_data"
    },
    {
     "name": "stdout",
     "output_type": "stream",
     "text": [
      "task  3  success\n"
     ]
    },
    {
     "data": {
      "application/vnd.jupyter.widget-view+json": {
       "model_id": "ecff71e0631f4167886341834910dbf9",
       "version_major": 2,
       "version_minor": 0
      },
      "text/plain": [
       "steps:   0%|          | 0/200 [00:00<?, ?it/s]"
      ]
     },
     "metadata": {},
     "output_type": "display_data"
    },
    {
     "name": "stdout",
     "output_type": "stream",
     "text": [
      "task  4  success\n"
     ]
    },
    {
     "data": {
      "application/vnd.jupyter.widget-view+json": {
       "model_id": "",
       "version_major": 2,
       "version_minor": 0
      },
      "text/plain": [
       "steps:   0%|          | 0/200 [00:00<?, ?it/s]"
      ]
     },
     "metadata": {},
     "output_type": "display_data"
    },
    {
     "name": "stdout",
     "output_type": "stream",
     "text": [
      "task  5  fail\n"
     ]
    },
    {
     "data": {
      "application/vnd.jupyter.widget-view+json": {
       "model_id": "",
       "version_major": 2,
       "version_minor": 0
      },
      "text/plain": [
       "steps:   0%|          | 0/200 [00:00<?, ?it/s]"
      ]
     },
     "metadata": {},
     "output_type": "display_data"
    },
    {
     "name": "stdout",
     "output_type": "stream",
     "text": [
      "task  6  fail\n"
     ]
    },
    {
     "data": {
      "application/vnd.jupyter.widget-view+json": {
       "model_id": "041bfaca5902408cbaf621c5616efb93",
       "version_major": 2,
       "version_minor": 0
      },
      "text/plain": [
       "steps:   0%|          | 0/200 [00:00<?, ?it/s]"
      ]
     },
     "metadata": {},
     "output_type": "display_data"
    },
    {
     "name": "stdout",
     "output_type": "stream",
     "text": [
      "task  7  success\n"
     ]
    },
    {
     "data": {
      "application/vnd.jupyter.widget-view+json": {
       "model_id": "b999eda0c0384c8cb42bf93693e9b048",
       "version_major": 2,
       "version_minor": 0
      },
      "text/plain": [
       "steps:   0%|          | 0/200 [00:00<?, ?it/s]"
      ]
     },
     "metadata": {},
     "output_type": "display_data"
    },
    {
     "name": "stdout",
     "output_type": "stream",
     "text": [
      "task  8  success\n"
     ]
    },
    {
     "data": {
      "application/vnd.jupyter.widget-view+json": {
       "model_id": "",
       "version_major": 2,
       "version_minor": 0
      },
      "text/plain": [
       "steps:   0%|          | 0/200 [00:00<?, ?it/s]"
      ]
     },
     "metadata": {},
     "output_type": "display_data"
    },
    {
     "name": "stdout",
     "output_type": "stream",
     "text": [
      "task  9  fail\n"
     ]
    },
    {
     "data": {
      "application/vnd.jupyter.widget-view+json": {
       "model_id": "529c569624c64c30aa6596ebc55f8c77",
       "version_major": 2,
       "version_minor": 0
      },
      "text/plain": [
       "steps:   0%|          | 0/200 [00:00<?, ?it/s]"
      ]
     },
     "metadata": {},
     "output_type": "display_data"
    },
    {
     "name": "stdout",
     "output_type": "stream",
     "text": [
      "task  10  success\n"
     ]
    },
    {
     "data": {
      "application/vnd.jupyter.widget-view+json": {
       "model_id": "0c6e145f92d14414bd2b7731da1b893e",
       "version_major": 2,
       "version_minor": 0
      },
      "text/plain": [
       "steps:   0%|          | 0/200 [00:00<?, ?it/s]"
      ]
     },
     "metadata": {},
     "output_type": "display_data"
    },
    {
     "name": "stdout",
     "output_type": "stream",
     "text": [
      "task  11  success\n"
     ]
    },
    {
     "data": {
      "application/vnd.jupyter.widget-view+json": {
       "model_id": "6c2a1d183f574f339257f3fad1b6ec7e",
       "version_major": 2,
       "version_minor": 0
      },
      "text/plain": [
       "steps:   0%|          | 0/200 [00:00<?, ?it/s]"
      ]
     },
     "metadata": {},
     "output_type": "display_data"
    },
    {
     "name": "stdout",
     "output_type": "stream",
     "text": [
      "task  12  success\n"
     ]
    },
    {
     "data": {
      "application/vnd.jupyter.widget-view+json": {
       "model_id": "",
       "version_major": 2,
       "version_minor": 0
      },
      "text/plain": [
       "steps:   0%|          | 0/200 [00:00<?, ?it/s]"
      ]
     },
     "metadata": {},
     "output_type": "display_data"
    },
    {
     "name": "stdout",
     "output_type": "stream",
     "text": [
      "task  13  fail\n"
     ]
    },
    {
     "data": {
      "application/vnd.jupyter.widget-view+json": {
       "model_id": "",
       "version_major": 2,
       "version_minor": 0
      },
      "text/plain": [
       "steps:   0%|          | 0/200 [00:00<?, ?it/s]"
      ]
     },
     "metadata": {},
     "output_type": "display_data"
    },
    {
     "name": "stdout",
     "output_type": "stream",
     "text": [
      "task  14  fail\n"
     ]
    },
    {
     "data": {
      "application/vnd.jupyter.widget-view+json": {
       "model_id": "90eb6fcf452e48aea0e0f0524d679385",
       "version_major": 2,
       "version_minor": 0
      },
      "text/plain": [
       "steps:   0%|          | 0/200 [00:00<?, ?it/s]"
      ]
     },
     "metadata": {},
     "output_type": "display_data"
    },
    {
     "name": "stdout",
     "output_type": "stream",
     "text": [
      "task  15  success\n"
     ]
    },
    {
     "data": {
      "application/vnd.jupyter.widget-view+json": {
       "model_id": "7d2d93dffe8c47bea5636250d19bfc38",
       "version_major": 2,
       "version_minor": 0
      },
      "text/plain": [
       "steps:   0%|          | 0/200 [00:00<?, ?it/s]"
      ]
     },
     "metadata": {},
     "output_type": "display_data"
    },
    {
     "name": "stdout",
     "output_type": "stream",
     "text": [
      "task  16  success\n"
     ]
    },
    {
     "data": {
      "application/vnd.jupyter.widget-view+json": {
       "model_id": "8d09f4924a0f41bf9b1f768c7e978fe0",
       "version_major": 2,
       "version_minor": 0
      },
      "text/plain": [
       "steps:   0%|          | 0/200 [00:00<?, ?it/s]"
      ]
     },
     "metadata": {},
     "output_type": "display_data"
    },
    {
     "name": "stdout",
     "output_type": "stream",
     "text": [
      "task  17  success\n"
     ]
    },
    {
     "data": {
      "application/vnd.jupyter.widget-view+json": {
       "model_id": "50cc8cb3287c4543b9d406eb7fccd3bf",
       "version_major": 2,
       "version_minor": 0
      },
      "text/plain": [
       "steps:   0%|          | 0/200 [00:00<?, ?it/s]"
      ]
     },
     "metadata": {},
     "output_type": "display_data"
    },
    {
     "name": "stdout",
     "output_type": "stream",
     "text": [
      "task  18  success\n"
     ]
    },
    {
     "data": {
      "application/vnd.jupyter.widget-view+json": {
       "model_id": "b3934cf66a50488ca2f98a054b3d4674",
       "version_major": 2,
       "version_minor": 0
      },
      "text/plain": [
       "steps:   0%|          | 0/200 [00:00<?, ?it/s]"
      ]
     },
     "metadata": {},
     "output_type": "display_data"
    },
    {
     "name": "stdout",
     "output_type": "stream",
     "text": [
      "task  19  success\n"
     ]
    },
    {
     "data": {
      "application/vnd.jupyter.widget-view+json": {
       "model_id": "4be8c09ae188483fb0380a6ae606167e",
       "version_major": 2,
       "version_minor": 0
      },
      "text/plain": [
       "steps:   0%|          | 0/200 [00:00<?, ?it/s]"
      ]
     },
     "metadata": {},
     "output_type": "display_data"
    },
    {
     "name": "stdout",
     "output_type": "stream",
     "text": [
      "task  20  success\n"
     ]
    },
    {
     "data": {
      "application/vnd.jupyter.widget-view+json": {
       "model_id": "dfda96f1494a49739855a530fcf50599",
       "version_major": 2,
       "version_minor": 0
      },
      "text/plain": [
       "steps:   0%|          | 0/200 [00:00<?, ?it/s]"
      ]
     },
     "metadata": {},
     "output_type": "display_data"
    },
    {
     "name": "stdout",
     "output_type": "stream",
     "text": [
      "task  21  success\n"
     ]
    },
    {
     "data": {
      "application/vnd.jupyter.widget-view+json": {
       "model_id": "21126ea7223e4afd8ddc58be9de11b02",
       "version_major": 2,
       "version_minor": 0
      },
      "text/plain": [
       "steps:   0%|          | 0/200 [00:00<?, ?it/s]"
      ]
     },
     "metadata": {},
     "output_type": "display_data"
    },
    {
     "name": "stdout",
     "output_type": "stream",
     "text": [
      "task  22  success\n"
     ]
    },
    {
     "data": {
      "application/vnd.jupyter.widget-view+json": {
       "model_id": "18ceb47dde3a4574bbc7557c65318b82",
       "version_major": 2,
       "version_minor": 0
      },
      "text/plain": [
       "steps:   0%|          | 0/200 [00:00<?, ?it/s]"
      ]
     },
     "metadata": {},
     "output_type": "display_data"
    },
    {
     "name": "stdout",
     "output_type": "stream",
     "text": [
      "task  23  success\n"
     ]
    },
    {
     "data": {
      "application/vnd.jupyter.widget-view+json": {
       "model_id": "94beb549b11d46d4a42b56713df8d151",
       "version_major": 2,
       "version_minor": 0
      },
      "text/plain": [
       "steps:   0%|          | 0/200 [00:00<?, ?it/s]"
      ]
     },
     "metadata": {},
     "output_type": "display_data"
    },
    {
     "name": "stdout",
     "output_type": "stream",
     "text": [
      "task  24  success\n"
     ]
    },
    {
     "data": {
      "application/vnd.jupyter.widget-view+json": {
       "model_id": "",
       "version_major": 2,
       "version_minor": 0
      },
      "text/plain": [
       "steps:   0%|          | 0/200 [00:00<?, ?it/s]"
      ]
     },
     "metadata": {},
     "output_type": "display_data"
    },
    {
     "name": "stdout",
     "output_type": "stream",
     "text": [
      "task  25  fail\n"
     ]
    },
    {
     "data": {
      "application/vnd.jupyter.widget-view+json": {
       "model_id": "3cfb77a779674a70ab1eb168b65acee3",
       "version_major": 2,
       "version_minor": 0
      },
      "text/plain": [
       "steps:   0%|          | 0/200 [00:00<?, ?it/s]"
      ]
     },
     "metadata": {},
     "output_type": "display_data"
    },
    {
     "name": "stdout",
     "output_type": "stream",
     "text": [
      "task  26  success\n"
     ]
    },
    {
     "data": {
      "application/vnd.jupyter.widget-view+json": {
       "model_id": "52b837de9f5246849170771e05a8809a",
       "version_major": 2,
       "version_minor": 0
      },
      "text/plain": [
       "steps:   0%|          | 0/200 [00:00<?, ?it/s]"
      ]
     },
     "metadata": {},
     "output_type": "display_data"
    },
    {
     "name": "stdout",
     "output_type": "stream",
     "text": [
      "task  27  success\n"
     ]
    },
    {
     "data": {
      "application/vnd.jupyter.widget-view+json": {
       "model_id": "f9ed773892eb466595ee43f6c6c25103",
       "version_major": 2,
       "version_minor": 0
      },
      "text/plain": [
       "steps:   0%|          | 0/200 [00:00<?, ?it/s]"
      ]
     },
     "metadata": {},
     "output_type": "display_data"
    },
    {
     "name": "stdout",
     "output_type": "stream",
     "text": [
      "task  28  success\n"
     ]
    },
    {
     "data": {
      "application/vnd.jupyter.widget-view+json": {
       "model_id": "",
       "version_major": 2,
       "version_minor": 0
      },
      "text/plain": [
       "steps:   0%|          | 0/200 [00:00<?, ?it/s]"
      ]
     },
     "metadata": {},
     "output_type": "display_data"
    },
    {
     "name": "stdout",
     "output_type": "stream",
     "text": [
      "task  29  fail\n"
     ]
    },
    {
     "data": {
      "application/vnd.jupyter.widget-view+json": {
       "model_id": "",
       "version_major": 2,
       "version_minor": 0
      },
      "text/plain": [
       "steps:   0%|          | 0/200 [00:00<?, ?it/s]"
      ]
     },
     "metadata": {},
     "output_type": "display_data"
    },
    {
     "name": "stdout",
     "output_type": "stream",
     "text": [
      "task  30  fail\n"
     ]
    },
    {
     "data": {
      "application/vnd.jupyter.widget-view+json": {
       "model_id": "",
       "version_major": 2,
       "version_minor": 0
      },
      "text/plain": [
       "steps:   0%|          | 0/200 [00:00<?, ?it/s]"
      ]
     },
     "metadata": {},
     "output_type": "display_data"
    },
    {
     "name": "stdout",
     "output_type": "stream",
     "text": [
      "task  31  fail\n"
     ]
    },
    {
     "data": {
      "application/vnd.jupyter.widget-view+json": {
       "model_id": "a18c2ba06d6a4a2c80c1172375b1f5bb",
       "version_major": 2,
       "version_minor": 0
      },
      "text/plain": [
       "steps:   0%|          | 0/200 [00:00<?, ?it/s]"
      ]
     },
     "metadata": {},
     "output_type": "display_data"
    },
    {
     "name": "stdout",
     "output_type": "stream",
     "text": [
      "task  32  success\n"
     ]
    },
    {
     "data": {
      "application/vnd.jupyter.widget-view+json": {
       "model_id": "3dc50a6a640544e998542595382f65f5",
       "version_major": 2,
       "version_minor": 0
      },
      "text/plain": [
       "steps:   0%|          | 0/200 [00:00<?, ?it/s]"
      ]
     },
     "metadata": {},
     "output_type": "display_data"
    },
    {
     "name": "stdout",
     "output_type": "stream",
     "text": [
      "task  33  success\n"
     ]
    },
    {
     "data": {
      "application/vnd.jupyter.widget-view+json": {
       "model_id": "",
       "version_major": 2,
       "version_minor": 0
      },
      "text/plain": [
       "steps:   0%|          | 0/200 [00:00<?, ?it/s]"
      ]
     },
     "metadata": {},
     "output_type": "display_data"
    },
    {
     "name": "stdout",
     "output_type": "stream",
     "text": [
      "task  34  fail\n"
     ]
    },
    {
     "data": {
      "application/vnd.jupyter.widget-view+json": {
       "model_id": "4f94a4d3c61442e4ae75cf8d41fb118b",
       "version_major": 2,
       "version_minor": 0
      },
      "text/plain": [
       "steps:   0%|          | 0/200 [00:00<?, ?it/s]"
      ]
     },
     "metadata": {},
     "output_type": "display_data"
    },
    {
     "name": "stdout",
     "output_type": "stream",
     "text": [
      "task  35  success\n"
     ]
    },
    {
     "data": {
      "application/vnd.jupyter.widget-view+json": {
       "model_id": "5bb6ef50e998445f8cf39d90166d6151",
       "version_major": 2,
       "version_minor": 0
      },
      "text/plain": [
       "steps:   0%|          | 0/200 [00:00<?, ?it/s]"
      ]
     },
     "metadata": {},
     "output_type": "display_data"
    },
    {
     "name": "stdout",
     "output_type": "stream",
     "text": [
      "task  36  success\n"
     ]
    },
    {
     "data": {
      "application/vnd.jupyter.widget-view+json": {
       "model_id": "cb68fb488e524b52973456b85217beb8",
       "version_major": 2,
       "version_minor": 0
      },
      "text/plain": [
       "steps:   0%|          | 0/200 [00:00<?, ?it/s]"
      ]
     },
     "metadata": {},
     "output_type": "display_data"
    },
    {
     "name": "stdout",
     "output_type": "stream",
     "text": [
      "task  37  success\n"
     ]
    },
    {
     "data": {
      "application/vnd.jupyter.widget-view+json": {
       "model_id": "7ab08632e9b44bd3b8e7eeba2f686819",
       "version_major": 2,
       "version_minor": 0
      },
      "text/plain": [
       "steps:   0%|          | 0/200 [00:00<?, ?it/s]"
      ]
     },
     "metadata": {},
     "output_type": "display_data"
    },
    {
     "name": "stdout",
     "output_type": "stream",
     "text": [
      "task  38  success\n"
     ]
    },
    {
     "data": {
      "application/vnd.jupyter.widget-view+json": {
       "model_id": "9451fb22ab31413ba2e93e75d24fd4ff",
       "version_major": 2,
       "version_minor": 0
      },
      "text/plain": [
       "steps:   0%|          | 0/200 [00:00<?, ?it/s]"
      ]
     },
     "metadata": {},
     "output_type": "display_data"
    },
    {
     "name": "stdout",
     "output_type": "stream",
     "text": [
      "task  39  success\n"
     ]
    },
    {
     "data": {
      "application/vnd.jupyter.widget-view+json": {
       "model_id": "ace288deb7524e25aa2f06446c44e50d",
       "version_major": 2,
       "version_minor": 0
      },
      "text/plain": [
       "steps:   0%|          | 0/200 [00:00<?, ?it/s]"
      ]
     },
     "metadata": {},
     "output_type": "display_data"
    },
    {
     "name": "stdout",
     "output_type": "stream",
     "text": [
      "task  40  success\n"
     ]
    },
    {
     "data": {
      "application/vnd.jupyter.widget-view+json": {
       "model_id": "1e08fe759df34664aec6be3bbac9be98",
       "version_major": 2,
       "version_minor": 0
      },
      "text/plain": [
       "steps:   0%|          | 0/200 [00:00<?, ?it/s]"
      ]
     },
     "metadata": {},
     "output_type": "display_data"
    },
    {
     "name": "stdout",
     "output_type": "stream",
     "text": [
      "task  41  success\n"
     ]
    },
    {
     "data": {
      "application/vnd.jupyter.widget-view+json": {
       "model_id": "2372681ac8774d33b55ff5b7fae1212b",
       "version_major": 2,
       "version_minor": 0
      },
      "text/plain": [
       "steps:   0%|          | 0/200 [00:00<?, ?it/s]"
      ]
     },
     "metadata": {},
     "output_type": "display_data"
    },
    {
     "name": "stdout",
     "output_type": "stream",
     "text": [
      "task  42  success\n"
     ]
    },
    {
     "data": {
      "application/vnd.jupyter.widget-view+json": {
       "model_id": "582ef8a6f6cb4d379ea8971be7a90df4",
       "version_major": 2,
       "version_minor": 0
      },
      "text/plain": [
       "steps:   0%|          | 0/200 [00:00<?, ?it/s]"
      ]
     },
     "metadata": {},
     "output_type": "display_data"
    },
    {
     "name": "stdout",
     "output_type": "stream",
     "text": [
      "task  43  success\n"
     ]
    },
    {
     "data": {
      "application/vnd.jupyter.widget-view+json": {
       "model_id": "",
       "version_major": 2,
       "version_minor": 0
      },
      "text/plain": [
       "steps:   0%|          | 0/200 [00:00<?, ?it/s]"
      ]
     },
     "metadata": {},
     "output_type": "display_data"
    },
    {
     "name": "stdout",
     "output_type": "stream",
     "text": [
      "task  44  fail\n"
     ]
    },
    {
     "data": {
      "application/vnd.jupyter.widget-view+json": {
       "model_id": "88b164fcdf114db88a98b83cc264e5d6",
       "version_major": 2,
       "version_minor": 0
      },
      "text/plain": [
       "steps:   0%|          | 0/200 [00:00<?, ?it/s]"
      ]
     },
     "metadata": {},
     "output_type": "display_data"
    },
    {
     "name": "stdout",
     "output_type": "stream",
     "text": [
      "task  45  success\n"
     ]
    },
    {
     "data": {
      "application/vnd.jupyter.widget-view+json": {
       "model_id": "a3c1dcc8ee834c4e8d81fc3e2b0a0773",
       "version_major": 2,
       "version_minor": 0
      },
      "text/plain": [
       "steps:   0%|          | 0/200 [00:00<?, ?it/s]"
      ]
     },
     "metadata": {},
     "output_type": "display_data"
    },
    {
     "name": "stdout",
     "output_type": "stream",
     "text": [
      "task  46  success\n"
     ]
    },
    {
     "data": {
      "application/vnd.jupyter.widget-view+json": {
       "model_id": "6a40e0a768e24508b9153904d96d36ac",
       "version_major": 2,
       "version_minor": 0
      },
      "text/plain": [
       "steps:   0%|          | 0/200 [00:00<?, ?it/s]"
      ]
     },
     "metadata": {},
     "output_type": "display_data"
    },
    {
     "name": "stdout",
     "output_type": "stream",
     "text": [
      "task  47  success\n"
     ]
    },
    {
     "data": {
      "application/vnd.jupyter.widget-view+json": {
       "model_id": "c1b551f30be045e3b7078c3a972da362",
       "version_major": 2,
       "version_minor": 0
      },
      "text/plain": [
       "steps:   0%|          | 0/200 [00:00<?, ?it/s]"
      ]
     },
     "metadata": {},
     "output_type": "display_data"
    },
    {
     "name": "stdout",
     "output_type": "stream",
     "text": [
      "task  48  success\n"
     ]
    },
    {
     "data": {
      "application/vnd.jupyter.widget-view+json": {
       "model_id": "af784241365a49d4b4b4411d7e78bc1c",
       "version_major": 2,
       "version_minor": 0
      },
      "text/plain": [
       "steps:   0%|          | 0/200 [00:00<?, ?it/s]"
      ]
     },
     "metadata": {},
     "output_type": "display_data"
    },
    {
     "name": "stdout",
     "output_type": "stream",
     "text": [
      "task  49  success\n",
      "success_rate: 0.76\n",
      "avg_steps: 121.24\n"
     ]
    },
    {
     "data": {
      "text/plain": [
       "\"\\nfrom IPython.display import Video\\nprint(imgs[0].shape)\\nvwrite('vis.mp4',imgs,outputdict={'-b:v': '10000k'})\\n#Video('vis.mp4',embed=True)\\n\""
      ]
     },
     "execution_count": 11,
     "metadata": {},
     "output_type": "execute_result"
    }
   ],
   "source": [
    "#@markdown ### ** inference test**\n",
    "#imgs=[env.render()]\n",
    "total_steps=0\n",
    "imgs=[]\n",
    "for t in tqdm(range(50),desc='task_turns'):\n",
    "    #print('testing task :',t)\n",
    "    env.set_task(mt1.train_tasks[t])\n",
    "    obs,info=env.reset()\n",
    "    #get first observation\n",
    "    obs=transferObs(obs,env.render())\n",
    "    obs_deque = collections.deque([obs] * obs_horizon, maxlen=obs_horizon)\n",
    "    \n",
    "    done=False\n",
    "    steps_cnt=0\n",
    "    with tqdm(total=max_steps,desc='steps',leave=False) as pbar:\n",
    "        while not done:\n",
    "            action=getAction(obs_deque)\n",
    "            # execute action_horizon number of steps\n",
    "            # execute_len=len(action)\n",
    "            execute_len=4\n",
    "            for i in range(execute_len):\n",
    "                # stepping env\n",
    "                obs, reward, terminated, truncated, info = env.step(action[i])\n",
    "                obs=transferObs(obs,env.render())\n",
    "                #imgs.append(env.render())\n",
    "                steps_cnt+=1\n",
    "                pbar.update(1)\n",
    "                # save observations\n",
    "                obs_deque.append(obs)\n",
    "                \n",
    "        \n",
    "                if int(info['success'])==1:\n",
    "                    print(\"task \",t,\" success\")\n",
    "                    success_cnt+=1\n",
    "                    done=True\n",
    "                    break\n",
    "                elif terminated==True or truncated==True or steps_cnt>max_steps:\n",
    "                    print('task ',t,' fail')\n",
    "                    done=True\n",
    "                    break\n",
    "    total_steps+=steps_cnt  \n",
    "\n",
    "print(\"success_rate:\",success_cnt/50.0)\n",
    "print(\"avg_steps:\",total_steps/50.0)\n",
    "\n",
    "'''\n",
    "from IPython.display import Video\n",
    "print(imgs[0].shape)\n",
    "vwrite('vis.mp4',imgs,outputdict={'-b:v': '10000k'})\n",
    "#Video('vis.mp4',embed=True)\n",
    "'''\n"
   ]
  },
  {
   "cell_type": "code",
   "execution_count": 20,
   "metadata": {},
   "outputs": [
    {
     "name": "stdout",
     "output_type": "stream",
     "text": [
      "/bin/bash: Xvfb: command not found\n"
     ]
    }
   ],
   "source": [
    "display.stop()"
   ]
  },
  {
   "cell_type": "code",
   "execution_count": null,
   "metadata": {
    "colab": {
     "base_uri": "https://localhost:8080/",
     "height": 327,
     "referenced_widgets": [
      "b0a9f64f47d34769a47e165291d2c550",
      "2c31ffecd0494e2a8d0a8cefbea5df8a",
      "1d0a57ed8e914d31bcc1c36a56451df7",
      "e1bb86eb510b47d9ac2311926455bf1f",
      "182afbf676cd4c0982b90890bbdbeeef",
      "5d4a78f691ec4555bf179e5ef5d828ac",
      "1b96a78d8b8542eb830e3c446a0dcf42",
      "4cc800669dfd45a784864dd4a3881daa",
      "95dc6c44f97e4e8882a3657bd2fd66fb",
      "333b5148e59e47f3998a5cf5df531baf",
      "185ce2207cec4ae1a6ffdecadae23894"
     ]
    },
    "executionInfo": {
     "elapsed": 35353,
     "status": "ok",
     "timestamp": 1703131426802,
     "user": {
      "displayName": "Chi Cheng",
      "userId": "13145723388682673807"
     },
     "user_tz": 480
    },
    "id": "OyLjlNQk5nr9",
    "outputId": "4641c055-a534-48e2-cc26-0d1056a004ba"
   },
   "outputs": [
    {
     "data": {
      "application/vnd.jupyter.widget-view+json": {
       "model_id": "b0a9f64f47d34769a47e165291d2c550",
       "version_major": 2,
       "version_minor": 0
      },
      "text/plain": [
       "Eval PushTImageEnv:   0%|          | 0/200 [00:00<?, ?it/s]"
      ]
     },
     "metadata": {},
     "output_type": "display_data"
    },
    {
     "name": "stdout",
     "output_type": "stream",
     "text": [
      "Score:  0.912776577888038\n"
     ]
    },
    {
     "data": {
      "text/html": [
       "<video controls  width=\"256\"  height=\"256\">\n",
       " <source src=\"data:video/mp4;base64,AAAAIGZ0eXBpc29tAAACAGlzb21pc28yYXZjMW1wNDEAAAAIZnJlZQAAXm1tZGF0AAACrQYF//+p3EXpvebZSLeWLNgg2SPu73gyNjQgLSBjb3JlIDE2MyByMzA2MCA1ZGI2YWE2IC0gSC4yNjQvTVBFRy00IEFWQyBjb2RlYyAtIENvcHlsZWZ0IDIwMDMtMjAyMSAtIGh0dHA6Ly93d3cudmlkZW9sYW4ub3JnL3gyNjQuaHRtbCAtIG9wdGlvbnM6IGNhYmFjPTEgcmVmPTMgZGVibG9jaz0xOjA6MCBhbmFseXNlPTB4MzoweDExMyBtZT1oZXggc3VibWU9NyBwc3k9MSBwc3lfcmQ9MS4wMDowLjAwIG1peGVkX3JlZj0xIG1lX3JhbmdlPTE2IGNocm9tYV9tZT0xIHRyZWxsaXM9MSA4eDhkY3Q9MSBjcW09MCBkZWFkem9uZT0yMSwxMSBmYXN0X3Bza2lwPTEgY2hyb21hX3FwX29mZnNldD00IHRocmVhZHM9MyBsb29rYWhlYWRfdGhyZWFkcz0xIHNsaWNlZF90aHJlYWRzPTAgbnI9MCBkZWNpbWF0ZT0xIGludGVybGFjZWQ9MCBibHVyYXlfY29tcGF0PTAgY29uc3RyYWluZWRfaW50cmE9MCBiZnJhbWVzPTMgYl9weXJhbWlkPTIgYl9hZGFwdD0xIGJfYmlhcz0wIGRpcmVjdD0xIHdlaWdodGI9MSBvcGVuX2dvcD0wIHdlaWdodHA9MiBrZXlpbnQ9MjUwIGtleWludF9taW49MjUgc2NlbmVjdXQ9NDAgaW50cmFfcmVmcmVzaD0wIHJjX2xvb2thaGVhZD00MCByYz1jcmYgbWJ0cmVlPTEgY3JmPTIzLjAgcWNvbXA9MC42MCBxcG1pbj0wIHFwbWF4PTY5IHFwc3RlcD00IGlwX3JhdGlvPTEuNDAgYXE9MToxLjAwAIAAAAKZZYiEAG+NcDEtbxi6VEm7ILG9lMf///vDT+ZLmR3xaf50ehV//1KeLg9jFq2vQLZp2E1/e6LykqM/lHLwtE23Zs+leY9t0A27sWw8E0kcv+46/6Lx8xKFyIUQyTwQ1QwdvnvNg/wUc9aSwJKhzz90+6UoISREJDlYg38krrm+IGAgvEwNSIp0zvAZDx0fKRWfV+R211ApUqJuPB7B65sbcMS8azixHcRTwAK0jwD9O8eX/BQWD1rinhvEGSNK1GReJ9SeGsvGEEvWgGFBoaqbkHs67c/9/aXZftk38BGtG5ymZ5KWVutwmVC7TF1iQbl9ii6JoYMPPhkkWO3gF8Tq1qJlaVkIpuFsO8tEpsCXf+5GWKXH8KKgWiGi85q5Fq2T68QGvj2cPzNfx4W/d3UgSzH+MHI/kgujhp9mEXeArOQORB+ivKsC5fpMYzf9+bwDeAVkH31OvtQVuvdaoNsC7n59hXhG6EBMsj2Xu7kNUPn1x2FDOKxKF+f48ujG3mw93TJcHLmAZi4d7yg0T4qIuSdABcMJ8YNWfpyCNIncauuijygwhW8kYTxEhvTulN+nDeWoh/MpNa6uXHyTjqS1kd9abXSDHrxwPomYpYgqyXbTljZ5vaYWbxybSMtNiZtRwWvS8pMzCDChtg7IMstNodUYeZh2fNVmvY2H7tbfUkvbO5STsEEDGtrWKDdNPsvBPt3h6Aci7xAnJX8xpJ/5rlysHUDtyceYpjvCMMfw4aGQdx5V/yRqHf8QCWIXRkGDHlJYpwXaOQR5DLWitUPO39t/V5ARbodglYuoJ373Jhil+pR1NMMF3ML9cepNoDFf6Dlt+9aea8LFrXb+PGcSY80s1m1SQjckXfsw71gpFa+0G+WPIFS4FoEAAACNQZojbEb/7cRHy6lj5ABOv+EOR7Rr1R6sgcLjOxjZQgFzGarmxerthdty9JIq2xqQCbcqBILVc5234aOuAWTxV0Avgp2WXijVxn8FP/jFBgrFwTSZA+3amet3nAtQvSHU2219KlZco9mYcrRHNvUkjHzpVjOUwqYQ37H2PGnJ13B3/9LVybsFA0zB/yktAAAAXEGeQXib/8C+y4RfkaEAiwHdqPjq5GTfTX1kaeexz6bhOnKLpuJCAG4qP55v2wSai8pbwzK6K5u0tM7JKuTbV+h5gYMdLbFQC0UnuVCP36a0A2eofsYI5QBj4I69AAAAPQGeYmpEf8rkzzkrG8OSCCKs371zT+bVf70gq4gS8jphIkRvzbRq8GJFvkOfDxJPaNs7pGFYc77RA+u2bVgAAACTQZpnSahBaJlMCN/oaHREfLkz4jUWAGAY7HY9Qoh8ZqVQ4bC8T94crKcc6I35I+JMR7o2QE8EM45ll9k/OXE/H5QUWBj/+vxYCJ7iWsWEnMCvAiGZEHNc/Etr+to6ede/FCcXDr04Lh5hTmKhduv4mD6XiOoWLe2rjS0OWGhIIF6RyeUeMl1vmb8H/6e5GlJy5gBHAAAAZEGehUURLJ+1jhnRtIpxIIwwsMtJf9+EhTwOZVJCVkIf4NV4a5g2njAFqiDHGU7jZhgCrQ9cZRn1s2cUok6pvhTrb953Rs8+0qrvH7MLlHqReygZvxtMhL3MtKlgnXf7GO18iH0AAABCAZ6kdER/yrC7S23YuPZuz/wVqUMBTXwoxlQX4ur7jExFy0/pWIhJkb4aPTGzCjUd4z3BVOZxt8/19/oe+jCwjCudAAAALgGepmpEf7OJLtMoHrcWfPDEQD1TQzJZXjU2n//Huaf5QzY/ojS+gWetF5aVP3kAAACRQZqrSahBbJlMCN/2/V+90fE7O7XgAFcf6of8VnZg27VdYS0KejySeshF+bVqJtZWDPqD27D4YQ7ZasALO4CxqyRvYVBrVDWQ+3+rRZzMAbCnIzOIOFIGOKuE6t2+z0qxPfhAEFTy5N8eeM6a6v0yG5TYzzYLI4lllnwVv23/dZt/J/xvPr8wXjYe8cbm3YCmgAAAAEZBnslFFSyfrnNSeuDCW3d29h+trrJGeQaHRBA/9WdAhze1hoq9JHqN1vaVyiRZtjvLW0pU36yAderCzVt+tE+WCzLXxhXwAAAAIwGe6HREf7FHO3jQz698l9gK7xRPn/mHwfnVV+bg9AUAmalBAAAANwGe6mpEf6h9MSFggw/qKyv9br5Vjym+HMgYRKRQz2xtzP4GO9suFFDvEeIdEfjZiwmn41EQ4vAAAABzQZruSahBbJlMCN/6I17QEGWQBy4OBHSWULO4GjIni9s1IunFEaVvmPYzlGJe6MZsGtozedNXuZgQiuQKHO4JkhlCY5OgIsgVXtIkYvHzQVf35HemL7kmHpNZY9VxlO3Bnc/NP8q3uK4qk8fnDr2RLlxFNAAAAEFBnwxFFSzfnik0kr0EGxsLXevOKTiD1/iwPJzNzw8sdAqOuRTrU+46U5EccGCYKTkbfKOb6haMMa8MWJEmFoCfswAAADYBny1qRH+jKKBEJGxDp/rPamIiNZgf95MjBRVfrdSpSbA88lWUBOkSA6jnitf35rAI7mISBy0AAACfQZsySahBbJlMCN/5orwSXTikvqAZVL9vD/kbwu+M+KMSYp2AILOY6ATM0USEm8A3DtaqCm1zYtLbFVauzaKSOXZNhB6buldsFvbVmFAExH2WJXUo40hZAMym7tl8l9+mmfQJm4DeumdkfePyYHO/fMakIkEKNMcVR0sbah8Lzs5Bw167SXeSWrJ2dt/7MmDB/25sM/pp845r96KXsJiBAAAAdEGfUEUVLJ+ZKY6Xb51OWbYn6AanF/LSDacWjqNpDEbI/sscU4fT/F5tN2Q16ssj9qc2WTPy6Gm9W+C7R2fGDuCMCGWORknlzkZLNKLdUaZMfgFbc9wkdyPqCfplerpZnk0iPO8TfIv0biFK1y5QuqYJCULQAAAAPAGfb3REf6MxgGWBt7FxAf8v195Gq96aXIKo1iu/JORPSYyY1EZ0H4T7tSVGnmmNf0pz6Y93hwecQTxdwAAAAFsBn3FqRH+YmiuEEWgLf8Y42g/bgL0f118vMvthptoM4vuqh67HJ+dr3pVOYVc46X6qTUhFspkLyMm2qMytltjIsyfu5VdYGyHHFMtN37iSYnzjNZSzhR7cttc1AAAAfkGbdEmoQWyZTBRMb/qABSQAPgzbHok5xdKsWdh7nZZsjtz8+AMk3chktit8xmdoLHbEOrLit1QKSn1O4aK7z5biTmOK1QymM6QfCfe+m4SUT1Ah219+PZdmO1Bak1GjfjTuaom397IRUyRLpMmUdYlAhw0UP7W/Zn70TAVKsAAAAEkBn5NqRH9kIdpyVgluOxPVgUOvGU+ks5Qfytx6/mx2tvLjwiQB+Z8goGaAQ8DFzGjEjjJxKRK7Px2kFdG8PK+d/uB+lKckt1wkAAAAYEGblUnhClJlMCN/+nzY83W7oAzqggDwAxNbUzUx8dBXNzKBxQRtNlYHIVP0clDpUelpOMUKGghUJe62rU2CPQVlmm8Wov6esjI35w5OpVvFeBMnkWF6Ht/whnq0qn+lWQAAALVBm7dJ4Q6JlMFNExv/+lP3Q/yNwQUFbHAwlUufABaosIo3N3uM1oC3zFOXWNO4IXeMskvt7u8shBldrkL110UWQvMbAF0kDK1UW1Vij/TvM0KQZ95ipwg3+eyD2rQCrv1kNDdSuzVMqcdDETX4gqxgGS5G4Vx6WQjQz+jAs4C2OIvKOqYFYeI03GkKZi2qxedlXrSX1R1UZ1WIOSMyAW386cw69YdP9KRS5AUAKaetbJT4jbi4AAAATAGf1mpEf5ixUXCwOYIplurgwKqV+ILW4fY0afuMNzHjYLRklf3lVY68xd/IyZOHt8z4DQ4Cj8UtSAPdKl0dsC4aP2jqz6YmXIPgPT0AAACtQZvZSeEPJlMFPG/6k/KgMRc+AGN4XfxCtzkhtjs5HvWy6C58SKJ0jJ7+apsqmVZeysVKruJE/WNSwYtMBQOh5RWNJKOVc16snam4o5QJI9oFO+rAlyGbFa6dCnqA1HTrFQBTbdXOSPHtMBf82H2lh0qW8rFWRnr4AJJn5rUBlej/OvmRhROU6pJymapswmTIYfh6Qmd0lkifHwWZ5/1+fI7Ny/O+7U3zZHRB79EAAABiAZ/4akR/a2A7NXyfGLqMt+TtayBtCePpLmtJpl2OA4FAqxdnFAI1IoEDoMmbw4UybQJDQMgHaaEZ4oV6X57GSHyDST60B4rwKCwLuoe5aUQwqyIk0uEuQ57wQHpRfJaoQIAAAADVQZv8SeEPJlMCN//6k/P1W98BUjgB10qD11sEBGTHswDXhmRzj58qOkJGFigft14R4/AmR+LAUBzKhmwVrT4swRbIJuuZ7qJWuMZ3isLLIqPEu9+c4QigQEhGtI5j47eEhuKDRllO6AQE0doKGEh6zlurMRx5tmE7ITMrgKKeVOdzke53WFhEq1Ckt4bGxZLgXsSkq/tWfrm0QSicVwZpNkPaNeODbDrVM9BPwDaxs6w/Qn0tVkOnFGUs95P9N9l4gV4OSb+4yXDvE3CY58Ne8Ee09Zt3AAAAmEGeGkURPN+Wl+t1ktzDO5Wz5oA1R0fiJGuveeFwl31agA8deXrPvj/IaQBNBnKGZKmt5fCY+ql0TTztMdZ4nYvWUHYRIaC2BxfIsrfrnBTMe+DWOGZv/wSTz8YhjpF/rnZBXkpTlvL7S7TcGCVa31fhCJDz6pP3rslWffB2pIR3L/mHYDCZQWAYMbUyZTwE7yDfr2kR3eokAAAASgGeO2pEf2wKc2nN+QNTjmkadZ2A5h7a+42bDyCDl2Rh+zPWUNL9W8LOzdYNhREuJo9eVSIRkoIFWzDbIkNDz5XHaef6Ut2vmVM5AAAAuEGaPUmoQWiZTAjf+pQr2NZ76AeqHFbMn/F2FUW5oM0xVCUNQWq/X/4s+Wt/dVtryR+LNcLQva+vguno1HYeqd9u6Qyo70oINepf5mBWR2QSNcHhwaWNVZ8NcJ3+dXbK0xILFc265PSnQSQDeqkVdemNVec/jkW6FJxl1rDT7FeRFXBiiy/yAH87J2UGMSjmQW5z13kyrzDFQBJHPU/Qfsqe9oDrY2JuGoTmZKL1MYcsfpZ0N+LU+4EAAADUQZpASeEKUmUwI3/6omyl4FJLAWvWMgIkpU3KefQ//yoGs5k6GRRMCDBhP0WPX//EEZtdys55KCB1tGqgo6a3GHLDxO/U4BNAUAiFf8Bn2+FFDX8t90efTLNLqrhUKsNXLy3YEL3/9bL0P+oFaB1SL+BVJIAN45db5/nuVVQ8CTil5MZzT4o3kIQKtzzWgQZNe2hKabcgrfURjpbJntsv+Bfkr5alQeXBkiPHKplY8JppeXajBtwbj7Qk50R54b3Go2OZf/vtpgr++scrPHsh+kXJ7uAAAABoQZ5+RTRM32MTcJJlLWHHPztLA29ZlVotTpLI/AiY/EdhXQK4egaY7VVX07F/sDwI+nRL4VIpN4jOgbOJnfomr9TlS0f2slyDUt571RDOB0gPvgYs9MbyiwTmZMPsRaWNXsbUePtCzSgAAABrAZ6fakR/bHHX3X5Gc2XBMFctoXA/WM/M/F0Jpy+vSAIOAvSAA7grmEBcIXvlH/J9MEPx8/wFNRaFQe43E3Xvx5RKyNT8976tjcQ60u9fCLBVDMoc//O3C2cCfANrAKuF2eeZi3V18k3dfLMAAAB4QZqBSahBaJlMCN/64BwhCQIePX8D0kns8p288AbK8cZFdG1HdmPxwpHYWPb504vVLrENAB2aFdPECpmvMT/cFIQbi/b7BR2m6CmQ3agPUXEpnxttLYYkJhPYCN9RA74BU4tN/1eHop7Ecj2t3IM9klpo7zqpYCSAAAAAhkGaoknhClJlMCN/+ps7GnbmAjv77nSqTp5XfGcVS/n2ZxUyHJGzN4rO2pfiivQi2A3QEl9MuRXaRDnteXJ7MW+oH4Q/+pBVagGKQRuFQNVzF7w5WZtFMqt/oBsYiOxcY73HQ1SvBtIEgNYIrpHhd7uTvG+4R7WWLJUx2/V4Am4wWSztBrD/AAAA3UGaxUnhDomUwI3/+t/ZQEKLcqWNj1mNkBXRIMsR/vAMyGNoulBi7rF3g1nTYah1rRaIC0jL5npl1CQx1oh7y/4Mz2oPUnr/PFa/GHwZPh1P4Q/7dLKZrY1xWbECRo0RmRAVIblH1K0xCy1O1W6mXbQJ8yaRF3bS2/uIFVIK76ZdmdA7I5w5m32W1hGWgwYfvTdnsVLv0+SzddC2IYcwYk8Tf1OG06axPIicmLr2LkN6YkgmeSz81jhGPugW8IxzoMlPQKCneDA6k120NNIfhGhCzWfcyDrW+e3GMhagAAAAeUGe40URPN9sTMj5WIzP+SaVl0dGlkmKtQoajvj8VApdffE7iG2C+6b6XXLTqIrEREG9YFQJlLN+l132s4MEsQmFPrAUjCbGOClNL44SjIboXyjHP8yduN4WVCtRxyfqTYt32FT2BJVSWQobNHxZUbrdmgojWZ1zLr0AAABeAZ8EakR/b2jB0FaSvfmqmoKs6G+3N8CFIDQPL5skAHMMcvRPefXDR0+XwrOY9gEpA69teg0E/0JXshFT0g1qgmKYdkVIbgjk/wJ9jHREo3vNO5dYI7vzmgZsTO+3LQAAANZBmwhJqEFomUwI3/rL4FVywAFEuusHcRB+Ui/wzBkclCRMhuGABPGvBU6RHtSHSfh0xHxdngqtEHiO1qFLeaJhHY1fuNUWYDUF9O2Q5bF8wX6zaJGxa8L8GMrBLLTHd2WBdj0Ev5oN83yXw7drDFkAOhERBk7K9eOCsfHRsLg/hLuZ/z9cr5b8wh3V8BaxPLVbnH6CXu8uiFJtDjn/SRgf16R5QfrXXgq3j1oX1VeX/UdYBCykh4Y88HdaSEGuY+DL6o26K1IUvj4ICFRKP+OTRB8Tm+XZAAAAfkGfJkURLN9sA5VmbfeoLjMW73902FVUgJ54nQLFI7QQ/XOI5hHopjTvLW+bmw8gZNpHxtMp414s47R4Ky5VxVVdiESamLwtMZLygPs9j37gxFwdWKTKcZBt6J7P/v+svs56OetSjdm5GbyEGPigbL8glutY0LOJOv1z+ZaNgQAAADMBn0dqRH9xSQRJbG6u6p0N+7PeKMgiUcfMu4Kwah6eY/k1d/8nmuhcKkoAL3YBkliqUaAAAAD2QZtLSahBbJlMCN/63P1czW1c7/jEEuW6nbDzOmOtX5wTIVnoEYO7p6/Ss4WLJyLEFBV3Eb2cdNcYYiWWcN0LTuIcSTQ6o/y+X+vA9g4+Fzfhfku6X8NgRUdZx69RhoaavvzLin8/QveJGiELa88i+qSBHghkSI8Xcs0IIzC9+9QaA3V9EUEB3q8NvsCZHond65lHrBc8/0csmB6t25hqtdUp0NZSr0VSK9GjCfnIi5hW4xAjlN5Rrjd1u/8UFz5ozPuxBOP1wiiV3sWzv09bFVU+nT6CC3zTHB0g1j56vLXrIxEi7/YK+iuWgu0km8NU0iD915WAAAAAekGfaUUVLN9qbfzZ4JIuHtn4BDPwdu4zU4+M/EX2dSydSEO4z5DSTA7iQp5QjorwfhDawmBeAOe4ytBE9bL6aBhLXZyb16JEMfvNDhp+qmm5ayoEFaFuc+lTbaefFoMK00NEWuvjbl85YR15hNLqrc3RsB4nR5xdMGqdAAAAMwGfimpEf3Laj6ln8ZN7oB9UmOz4avvH/nUmQkCHx5rpsRi5ZFFZNIOzHgaj7enl2z+egAAAAKpBm4xJqEFsmUwI3/rCL7/RV8UpbhwfzOQrPsZtKylormoeiI1qiOgk9nbdQYfz7YX1F+kWwKiwCxgnZOnLUmhcF1rD+YaW9Kxrpa4L0sfgkLBbbi0p8CbIdykliHc0LBJGaKVsDXJdJtoS2NSrCAT6shQpW5Ks2Xf5Dgpbtkcz3uw13v0ST0lqAbZjPD7OPSdghPIZW0RCdAdF1j7N3yNjCsSkXNp2ca2/EgAAAHRBm61J4QpSZTAjf/rZeqsgnLB3W0zGNX88SSKJWi4XuwLwpH6K/8h+23EbH+EtHeJF1diJHJQR6MQaWjz0mKpmR5fgk4cBF4u3ivJBwfnahI+//fKZ6gcAbA1QAATN6kDpULQuTamCa6XMB21fG4EGpTDLCQAAAK9Bm9BJ4Q6JlMCN//rKES5NhQ0b+tZOJ2S6QSn3016bQFdGMmuRI+okKTielOn/QfGqINLQ0PIczDwZiyfxqYOk1cM1xSpwTteLfooWUwKEc/8rJN9LG0xsaIqhEn21LX5DS0FuUw/++tczYjA6ZCV7ERSaHak3zW9FK6VdhRvjJm44KaktFRvfwsoSxcjfgVbkIihlG/N1d1RyGIxFz90tvGbxJqZHceVZTqpMIEZXAAAAQkGf7kURPN9pNuVKmjMY6VWUZ8/0y/JkoV56qxrhxHjpP9A9xDjymkWWcTXg9qMuWa0PjbvMiZtwrFzJBQDe/YGOOwAAAEUBng9qRH9IYQkqMsEkhIz4XNR1Jg1jn+WaFssmx63tVozstUT5uOpdLUqFA1pafNvr7xOATvmDgQ8dhhcUP6gktsd1WZAAAADOQZoUSahBaJlMCN/6XIlsXZ+oS6pNfhObPjr84XnCOblSt6qWdknO+ET76dcp7Cn2bt26ynbe4xkH706dD+15M/nbw+xqAPm2XrvOrk+kNx0p0gZuIC/vPsBEI5d5yFrTCmFtZSlqmBGwpCGh1WWZJxDlTSbqtHlLkhJ37RdPkOb/1TgSY0zdt1M/8itOEPYh70wljSLplOlkbBSRlyU3xkNZdJkzftkwEjoQSIvGtd5xXaNu7HXZSt+dTcr5x/NYggECpnUyw1FTuxzVbbQAAABIQZ4yRREsnz4SS/r8J28ru39v8FkzYa5eS+9YTcIuhazMgiTMEG15qgRytRmXIG5hkDodZhOoM0ohh3Nhpxul8sfxA0zMFi8xAAAAVQGeUXREf0lq7B/k7PZL+BW+17lwmND2eIuzui2aAupsJ/nFzJtk67RIeIMU+RHLDztsZ+pH2HKEh0TTMwIVzICBdagg5VNnU6nvn5LAA6VvYYoGn4AAAABCAZ5TakR/SF5MKP+wnx9n+p2N3/m8MzLV6KN92W2wqiRZaliBdfKEW+RAzN5Lf97iUZWX4/gs8rVjV380uHeGYsPkAAAAZkGaVUmoQWyZTAjf+ltVAQAFosgsPaOXMtyp//mNZg+PgipUhBIf+ZLBmIPdkplBcbfCj+FjZ0CFZ2mfZewwxYa9IWDn0eMYJc+VPSrFi3FsbUyo7Cvz/rZn4A+biO4o+ezjJ5238QAAAIhBmndJ4QpSZTBRUsb/+lzQcxITF7vpUaQg13iRKNlKrwnc7b+tGCsvySJjfjSYDeP+cZmPpn8BcgJ4H5dZCcVcM39ubfjh8X2VfPM9MnBCvhybH2t2WbYZvThRL1T2uckdOnWLYbIXvg0X5QIsvW/yepyIP6SUvjEu5MW//RrjQ4H8kQWGzAmMAAAADwGelmpEf0YNI+437fkRYQAAAKJBmppJ4Q6JlMCN//p+98AIUma6kzqTO11qHB+4n+e/RoPXrvDs/wMbeQwwdMK9xtTmVCMAqiLFtSAP28nEf78TN5uq/VrZhXvMM2wKM9mYv6YkhoJGKRi8f6Z1/ZB5r7yybsfsTvwXduQQSoIE/wUJlqcA4SLtmQ7IgeTDrFYEtlz+iG2460sa7Aqnl8SKM1cE3Mmxlno7qz9qyDpt010k/N8AAAA6QZ64RRU831zWQ/+pRCf/r0VNg8FAfrnyCzENIuW9Zzuh/4Gso9OwG++cWnIfdb/JMk00Kws1+Q4ZgAAAABwBntlqRH9jVLjQJtn4ao0tsbpjOZXQ47m5CpbhAAAArkGa3UmoQWiZTAjf+oVnLm+4HeuKAUFM11B3SUdUgLYTk4U/jC2sAkqBHdtA4mvG1FMaeX9gly6xbPs0hgufNa+A4VoaWv9RiOjZg7ALoPjmyN22/oXiNPGmzNWAOoV822Kt7+cBOsHEgDBoDCMS4zFfz83c9PFwX9txq+Qt8CkXG7z5xTia4bbJlnNFsz98PLbh7nbZ4ySbbjyCWtXvy3f2QHVdoX0s497rC1aYQAAAAE9BnvtFESzfXY5mW0uV//v+lHEBWVO5X+axuQqAczBHwH+ofNS5puN1GsNIwxS8pMln3B7DDBuMiJwlX2RsSiYC6Zf6KLMMbdHThMukYJzXAAAANQGfHGpEf2UFKQ2QUqNQ9gSQsFpGuy99QC+GxH+cnGhx5KAXeAfUNqLO2nb55P0i6XvTQLMxAAAAR0GbHkmoQWyZTAjf+nzLMm9f8u0ACSxReYIzW4Mya4JhkeQW7AqVyViG58sZzg4/rICUkxZgrEEaBwE5D0U6t+FJjrgYUMrBAAAASUGbIUnhClJlMCN/+nzFfPDugJoCf9gAmZNIIiB5WNDR58E71vAE1yqfrGq2fffSftssEv51sBhXgTX5Ym/P/8f1T1eWd+2Kq9gAAAAyQZ9fRTRM313Z43JJRXvcCRsJZWtcQfSwloC1w0VO4Qlf3iHLkn+TMKpujHjwgBKfNxkAAAA0AZ9gakR/ZATRiIoLMYjEo43PNlDq62veGlkC5JNV9CsiPcb7WdOc54KA69bnCw9AFQOYPgAAAE9Bm2NJqEFomUwU8b/6fkZTeCoAdDpKDrMGVFoKpXFPbjdtPKqRV9EFmE6OQNgEf7jkKqTIihdCBJhw+kHwFZPjG8v50E3ozNvbpIoquvi5AAAAFgGfgmpEf2QDypvEMe+H8sBD3IP/pggAAADSQZuHSeEKUmUwI3/6m1gQBPAC0PGp3italDjHX6MNEx6lz+jwZp47zEpaysGxufBWO71VBcDPj7lSbAfRKu+cjCnLKloX+DrrvTgNrsHvtbd1NwQTvXFmpMgJNeuDaOwie0ydF3Ns4Ib4iOQw0SmeMwFQ44n1sDsxXjVaWaq/gsnMvjKwDfLQtyJmpimS3GLFeVJPKgsdClwc3iWFwKq+nqDKDxfN3pMHJmx1x84xfq//YZt+dImRyrZ8yyRoJK/XhrAmeDHVYym/Kg79B6e4WnfZAAAAPEGfpUU0TJ9d8k5HzLu3/fifSBpGCeprBL7Fj8M4gWznDL6U3sbSy36V1ncfU8vr07WUok8e3f4pOlq+FQAAACwBn8R0RH9piE2HY3Riy8QOhmy6TAQWnEq0Ma6CVYXsNmkovh9bgnutRgKgnwAAACoBn8ZqRH9qmzYUWmSPVIQHhNSvxA1JCmj/4psBt8nN3i/wEgfpOKDp0kEAAADeQZvJSahBaJlMFPG/+sf7R0ctQERF2ZMijHJnhN/6g7cLlIYRKoGMi03ps74qUTXoBcFJNv0OE3avDWe6mcLE6eGncS7mQoH/xtxmJ6TexAmKtRvaidpUaPJwsCwIfArrOPulPKOuXVe1xTfbVP2QaEopuXsz2Ck+iqka8/vVMxBuaR920fJlh/uCGNcZ5arBxfswFwGdgml1eI28wayDhraePS5YMz9TEWtSOLA9scWxYKmbHMU8W5UJ/vuUmcTwV8wUVtRUTyDh4T0rpO0oyiuM38jnjQjCXpkma96gAAAAaQGf6GpEf3G6QOmp78l/FWJ89bw9PMCQAOIQeB+t+DZaQGmwgq4AT7a6siA35mJov0F2JmkYtlFHB4n7z22NF7A689nXBRuweXyGNt8uEbkz17CODhjomgPkiTpPrIhKC5jfWcjBFgVl8AAAAM9Bm+tJ4QpSZTBSxv/6y+Z+FvhoByp/IaEZ+kHopfLtG/Zhou4gJsYmrHnR9N2QXQOHcqxJyj2Z7AQ5p4slYsndtpAAFuevTT6LkAmmZsxGFkqfw5bKGeSCsOO/6KBO3j8MUG3ZdoeUvaCQT3hDvOExnnX858a4nk7jaWzk93Ile6YjAbk0ZzAWYtlLceWVBCqj3X0hbznzYzI5HZ/odLAgCZTxEeqBkxCfgF694m6ekGkpf5jVyaezYSAIUupV8LyFCCNkER9ePpfaVAyQBnEAAABVAZ4KakR/cboqR/nNCoXufCkqjj+/IRPz2lf1fkR2GIHS+qdWZF0upCK28wFsCArG+c/Q6mRqmivnQcri9ijyoxMP+gluWi6thmjvcjzxGSir9dvoQAAAAM9Bmg1J4Q6JlMFExv/62hp0NnEqDpOfKn1t/+nyWvPibC/oqilwMSYg0kdCfGg0ubS4BMWptQZVQaCfjz0c4JDvZCXCVNXpELIqpkEPlJ3LCjSVcHFP9C2KrYITGIbf+mpbEy7coor/ZLTWkXfNzhaDoXW+J2D2G0GEK2GdxDV7zhyHugiwXl2/FS/tYFeYhaUhTson1GA0mvqstdUtcAinr0KtwbpcjCVaZRlrqhnlEs526xdNo7HfXgbB4MqW00G5zHCEefUi8n1msD6/D4AAAAA3AZ4sakR/cm1zLFxQBEO3WuHQrxCBQ0JnV7BGomMmwM7UOAuBwQFTK37dtmQsLAXw1JAnferJ/wAAANlBmi5J4Q8mUwI3//rGxlnLmf1x/H/bEeVAc4d/9w94FRKv/kSvN7J5Pz8FLvtTFCZ/F3JnQHwBnJc8HyPgZhIpK6Flx8YQOInip9KDfgzQ5fZIPYzVpedQMR7d0JmkJ/eH3gB86yj3qwx3uHkOkQbmiYbJcosgYM354W03BHeMuHbvX2iNjNgAPZvJawGQ9d+seIHN7KXmpGjLzZYtPwrsoHUP87t2I08y5qmT/jC6KhssQrjB6lMKG6wLK4qhI06hMT9taYChzqbUTi/ZTgSigN2TI5uHZnhVAAAAu0GaT0nhDyZTAjf/+st8abO4AIUlzOyP9Q7IwujC4V1FqRZIpxtXrp/CUBytKllnxN8z7gpXB+llJDyV7CPr8yCzxAbuZM+baBZolYfbPBJDwIlSOp7jRn9yxoRcUiGDyoFMKu5E338HUHTilFQKjsZTYLNc3f6J/MNVHQ1U7i1zOtx7M3NgMhTiBOadT7ccRoxyjQpJjjj5PAwI6eRyL6BCxg1Jkpo3Ryu9xUOcQwDZsttF912k8PUF2oEAAAC3QZpySeEPJlMCN//6yhuikItj/MaPkdbV7S63mtfNsclp0Q3Y1AEgUyTHtLagzwOMKiAiHaOvkfRFEFcfKuJcnRulLkh+bv2nMceZC2rjxTVmQcpgfKgA1n8qtgZnmq3aANgFI0kRbppUZph1Bi8SbfSwI5eN6KY7Ip51/iwqsPduKAAP0jam0KP92YD4stUk8ImELFh5yNqi8ocpzhc63Dv2H21Ym+2eGQbsM7IrE0SkoKX05n+wAAAAdUGekEURPN9j289Kaa48RCcqJvropf7+xaX7SK3I7uEBlL4JRoHAdZu6g4SkrkqY1n9v5jAnYJsw8ZTfp0u8rZijB5VMQreQZbwXGHrvf3Bt3s5HQRbjmuCYqTV6h551y0SEitvYJ9Qc9Ss4DWrQ1sIHMcpjgAAAAD8BnrFqRH9pjS/sUPIYknJn1aNECxaNH1xq7j8FEUzP8b2pteCAYTAUtrU0/Ml9sUrse6JLnoZ7q1CiLPYe18kAAABrQZqzSahBaJlMCN/6m58m3epwJ39ntqHkOVnHN70P/a8g5OAHForAz4sRtxQ3A824RRrV/HUlPYlIRKCS3adKMBe1CKAx53mPcZPtCUHrLtmOoM1hZq/HPpio+z496MlyAo4zurX/+Uj7by0AAABrQZrVSeEKUmUwURLG//qWX0cIoAPgwRh75uGRNd/EYopwFRKju0REtLzzON1vvOauTMkpozq+jl77elF39rhpw9dsXGfYRQMf1oO2PBySsjbHIwdHli990XbS174V9Fa7TvFVrksDHqKET/AAAABPAZ70akR/bET0Wz2FFZ4BvZU/6Rt43Q3cDsPHo4hUuUeQS4BiB57X+6VjiJWiMs5dz7CuMvpv7o+fFLOo3X4K6JPnWN/ku2AXy/jhBR3ggQAAAGdBmvdJ4Q6JlMFExv/6oIS8he3ABLb6oAIhsfsCZ+5tB3xu3PWuDRW/S22+TbpQdvpwoa1RD81+Rhtb7qpkMmSWZ5xjSi1f0mys4YAowTzxrrgwJf9PSUnxpTzXtTCJISMO0b6QQaXIAAAAKgGfFmpEf2vaTcVsr0QO9oHgPJMkgD1rrgnrdpZAGKcxYd03o3voUJ28IQAAAF5BmxhJ4Q8mUwI3//qbWKeJgB2lYOTgr3gbM73wMxkeguObF2HRObOieJCuwPguacSuoZIg5Xmamzx7ZqrWvCyqAqnccCmReAP3AefdEUBWef+KuTLgeHYm0CLewQ6lAAAAsUGbO0nhDyZTAjf/+sgsT2cCmXWNj6/11H9Z11x+nRweaBX2T3WQKjBwXznH8TS2d8z1g8t1H/7JtYAh2d7JBxCONSerjA92UlB2InatGDPCKLaXC3JNNL7B9SDfhj8ODzcbD9JQAA7cEZ/9miftJJYzw1CYAUV3g09tT/UcL3spXt7z88jAGC2xQdcGcxyJkOz6L+kb7x3OTs3k1pApvne6mEAIGwk8ECiNdL3ioW4dIAAAAFZBn1lFETzfa2XvIJD0p8YyrSf5+bj9C9yTfUU5RUPM5Rv2wmEHZlU5eQED4G1VtLfrBMCb0VOYBFdtVc8+cJ7sm3NLIKRaSnt8BRx4kU0i6uZI4cKcdQAAAE4Bn3pqRH9zDfSsxj5VzhB5txMCPnmhZFO7a8VgChgWWxwHY6RN1htQ1CZZI7bUJdXkC60Nxc7tZ7hbfrFn8+zugCnXcNFOif9u83XmdoAAAACeQZt8SahBaJlMCN/6yJNrOAwVMlKo5ONBHphFqla/iv7NR5uauzqZZ9ARH4HaeLWBInjexagY09S2fw8+q98PZykhYecfO4bsCwHG+H9YGF+CIXmjKuZtJgbLApIV4gjXrUvAA1b9zFhTDw5mZwLEPqk2no8ZmgS1hCtbJNg45V3HhMFOV3H2SNOAi5vGR+KbWlrhLNrVCycJv/cGBccAAACiQZueSeEKUmUwURLG//rSKdtLwAyg0ar3L/JIb7E1utOQNdZcu7NYz8jMONKf11bfnp4fPXGwacM/I+/DQ/+cNkZkD1b+tT7hEy450RHtlB/M+KJz7YJ/pEdnC4EsdgOGa0fISFR/d8zsSfORCX55r1gDzElK1qQKjSgKWBa976c7IfjXSrGufYeT+m+eJliaNHw1pUc481ad9VcuBl8D8GVhAAAATQGfvWpEf2+xCk1SxtH7O09QQDx3EId7Zez2T9cPf5ZkQB9ZaC6cPAJUY0VZYHbtE5gLFHCAthAwaf5ZXW8wFF3gtivrnIiMnag04jNIAAAAjUGbv0nhDomUwI3/+tI+Wy8AMzzpETD4kfpBbGSNneWcq2K6KB6X82SzkhSuw0IH2ppGoG0TuFBbwC03fR7Xn1ecCbq1Dfi9WAyuCrj9HgI2cfAH3RHPTIdHAQGCcHu8zv8SDOAfOquz+GPCe+hSBnPDkydeMfHgnd6B+2ilBY9mhpEDZyM0DjkAOUPCoAAAAKRBm8BJ4Q8mUwI3//rKG6Ae650uOXyjxCpDTqVrpYUQgirOCtdXILnpQ18CIR3VcJrSZ7wUUTm3TRcVCA5deEMAQj3NwrwI4OJvnx8ilqUs+JggHrSo2YSRtyNePBw47Xm7qBpPBoQ94q85A1ZywUnbPuDM/EiIhB3nnP6tUikawvFAvKC3ZgbfdO1AVjmezYjKkA5GHXWajc9tZc3daZdj7Qp62QAAAK9Bm+FJ4Q8mUwI3//rSPlsvADKyEZElBp/exgIvujDfiTRG6LwbaswSUyIVhLazYy+Y/GezPyEipR9g2GuzMuyMym5ANCTI1urV1qQLXu81GoJIWvlD0d2AhDD27YOkS4Og3YEC8mfr/SOr4EHaFxNpuf6iFIXnxcn88oB2eL8HTFFIyx4dJhkmCxuwQTEDfxrJ6cW+yetiAofn4/d0jbF2grqsunxZbrAMug/8fWyAAAABEkGaBEnhDyZTAjf/+sa2WR5XfKFzICZZP2Eg6sAzTW/n8PqWz9w2yP11fB64RnFqFIZ4mwVrVwIF22FkoVW8QbTSSG1Ne3g1JaAa3WNjAfrKcGO8JFL3mSKuk/bxN25CWsZhrRoUz8S44CyBoX5DlogOSJrF3/b1xcrTWCVqyA2G1uznZ2NH72g7CvqXwHpKj0mG18QK2TPzYVZ7/BAGtxXPbeFUfah7I+TuB77n+/LkxUPBXv2xhLav9X/3K4PU4Ij0inuwfbLsvBs4CnYbaKdh6mlVEp11iEhrlAfHGI2FR/jcZoykxB1sdXtOca93RCjmNXxDydF3wkAqNMoS5AX+pPf8QJSU08RqKz2e+tnZutkAAAB/QZ4iRRE832yA2gwagbeOHgPt9SQlfSHcCpm3mZKkkSf+dPmWIAVQwjjCvbdUrflYzm32kQcVxv6qftCrugI7oC0/f/4puW11tjtxEoynj/klJCvjONlOO/1KFbD3xHNiv2qp1CswZUeHsNUwQ/XtIKj5d+0S2kbFeAqdT8qH4AAAAEkBnkNqRH90FqL0ey6QM5ZDkmH9Q1qDfm7DgJ0VBVMPh+0bMEJwZHzm8mtRiEp6jRCI380xv2uEqyZFSWowwzd5XxCIameK4U5zAAAA9kGaRkmoQWiZTBTxv/rNx38SKT3FzS4AaiZ8cqMalW3l65+RX+e+0xBTYnf+vznf5sly6CqcjUDiG4XDwaGyhyFOeq34HMqqidi/toZSuXqxdcnNWWf1lm/Vc3OV8pUKX2E+0zgRhCo9ta4C8tBevvVUBX1l7dnUGBY5UlPC9pKlQjhWMNeHc7BGUC745kib1S7qn3oMyw9wuyhYQOOwMORcqfc1Bli1a/PtgHlRYFlbwEUh6421QtxfBHPWOEjKEHNCyg4lXLu6jIVbcilMYCPoI2u/KIpDtefbgeZrAInGmLcKlGXbFB+Lw9UKtYcVJ1hTqYMOzwAAAFIBnmVqRH9uJX7KHEntXhJ3QahiLatceTwp3W/Ce+h7PdlRQ3K3GOSFLKIFkAnEX4hM4VvQPLKtzVRGvZPcvI4hN7WZTYtyOgZMVWmCrNfglraBAAABA0GaaknhClJlMCN/+mNRxGAC/J73p4AtV9hsffELGhFIlAxm96zvpi2Agm6RP+y1vAkJ6OlQE9L88hUlCXRMwfLzhMTk/3GLYH1bztfHFGGbgbS0rerLnWw3Frz7ntUNHModPMlXQCE5zJ6vlx0DyCxxM0IhZQH3lttvn/83XNyPP0+M139G7MMFLNJFBShRB+cTeg2cM4z4nXJHInMIKDihZbLzFpcqSj9D9sW811Ir6PAfbfpEdcihto3jw4s0neHOUYZoruibFd8B1j1qp+XoDCk7H0ER2fWfqdbJWpK3Wk0BcuJk9vqzu0KGoPsPpHbcUYWa9aTGQGhfAdVC4P44lJ8AAABxQZ6IRTRMn0YEESWvbsChA3SDdOjCvgJp22yBr36mjsehAp0yYZjukXRp8/t9E1xHzAL7ua2zKTI1aCBMYat1VB0L3ZWQD8OziCP+OsNFi+mvUSzWHO9fD1WqQohidN9NMA7aO42TnL2UDhGOsHSKZ8gAAAAuAZ6ndER/Uad4JWE+CPlBKF399ImLv/CrL1EsgwgT4VCChZEs1MeTYX4AzxFRWAAAAEwBnqlqRH9SiWr2mCygiIuhpKZRCrpsYyajRwlwVoVKYFbruwcw3gBdw8GdeaUnNhfMRVC7XKF3IxIBR9rDN3OZjGqUhcwtuRL8vVUpAAAA+EGarkmoQWiZTAjf+l89n5w7gWxgQfCsIlr0sAZkiUIBK2H4vCgJuzIH1BBDO6h75bAxRldFY8OP/P/LxrkDVzMLMG8Wm/dG4sB0xB7lmPnhqWpPgM/bMXDYkhBDv1npFbwu+FJ3pNPnqpNpvfaOnS50w6nC+OQzSwsWcouC7M+yO1L4Wz7ie3ODPmaFEr8bhqxaYbeskuptkj6KHxBxKqFmgnU1tTEP+5wID75LKF3f6TZPqTN8ztIS6sCh9vwIRw0R5TEDlk+D92NkkJVH/Ii1uuZMjV7UsBP7EE4OolPEpgHXWWVxUWjj5Qk4CRI+MhXxrGPZ/CeIAAAAWkGezEURLJ9B9FzbUw4dIRSrrvzH4/KmwJRavim/Q865FpE+0aIxaK+CX4632hpvL2npswACP9J4ObuA6XLEG4+nupgC6sC+Ath9if5LUjORUSfrkw+jtUEemAAAAEkBnut0RH9NjulBj6jpIUR+ic33c3S5kNOqTlFZZ1DUvLkZKSV9wS66yxDZA8HBMbXoJlrtUpApYLQAOlgv419FdxGCkXWmGFyBAAAAQQGe7WpEf01rGKdHBBzAozGLC/6DrhT1/7uUjSEpTsJZtETK9GUPiB1PQ/pcaqY9dpBtpc4FCm7xDos+YBAkAzMhAAABY0Ga8kmoQWyZTAjf+mNRxMPKyQhOQjuuFi3hJXDiP95YIXZxDWpYMllzq9HKQvwq37vcq7T8e7aokV3ROE6vvJ787+SMWPIq04HlbHWMdNJF/Yx+X7ZKVZASUw6mhDnapK9IFZc/Ay5fOzWK2kHpOV/zZi0JizoG3oDGB9M4LAlvdjoL/XwqYXytd9qpCk4vhOD/LO2Aw7trwgCdCJYtS+7TnjY9g9PF/zq8LA112KAegMhGaP4Q18wTIrPczdqKw+g+VErrX2C18GWYgzNz4QaB7eMp1ZWumh+4uSov7RVuVifxMPcOuRDTceEgSHwJmRMAbrph2YUXt1tvv4BMLIxFDv1tHLSqkCFEyw8ve8SA8A8U3Q2d60PIVdrq2TAtLYiPGIejVTsyexv8O+/+Q+c+O/ut9ns1hDSB41vlfllvWV6uwWErXQ7rXXJsI+SYchMcJymCYvV5DizVTNrZroXDdkEAAAB9QZ8QRRUsn0bGaGxwJ8sW9YKsWCzUyXOgheW+oL00cDvhwhc6S4Tgllg1F5kT8e+EmaepUq3+JeQP4Lw/UtOzQT9vnl62lylfnEPW478SXk3bJUTFHTuD1svljp72xlF0e9/AvRPhU/WeAJLI+EAFWMmRFGTtJ2HKqDECdPAAAABEAZ8vdER/Tjifk01vgx49ozijD+eu+p1EtgSHL7bPbt7eJEhz2eLnFlEwlc0FpzFTLqA/x3SdItpQy7IxqlnmKmlB3rwAAABvAZ8xakR/SdcBibfKM4Fo3A0Lf/Z0of5MVY/jDF3W9yvnoo67m2MWWfGW/Y02hbqlP4fgXBrLkatnt/z0Bh1aUWvFaJilGbJkTZ1jH1XpmM1DPwBj8I29V/RYVPYi0+pFNqCVhQrmj1CKOckdwtv1AAAA3UGbNEmoQWyZTBRMb/pfHzlIRZbmqX7BQK2uUcVJFo8EEevjM+zofNShGKy+/V4RUKejpEhzRm9VBmz67ufxAD9ne8D28nf1pGCwzIXWPfm87zBqf+ylmbwRKbukPXT4dJCb2rUl2RpZabcXDk8wYoCW0lQMliKO68RO/ibqXyCfMhCAVhY0Cw3luXqt6dDo+7qvSp77iazS5dWVoGY+c/DTe3jJczC+a6XAuH+OaPceQ2UXBjXS5fa8qUIkkH6wOC+OTLp3o8ctG2ZiStJgEGqdpV9gR63YeP+t2EmAAAAAUQGfU2pEf1KJfYshoAoHPFRJyGlXNb/UtjgiRrQVu64Hbm04NETUJa24e8CWcxdeW8O513QZ+aeWyPHvMeDweYaLMrrmrK3MNzk5nd8hRByWwAAAAQFBm1hJ4QpSZTAjf/pjUcMSUxRWQWuVPXnm/M6ma+LphEiz0fDqq4uYwoWGjJ0QqMmsXemdUtWaX9fUpvnGZPCDkIQ6HXkYzxrYYmQJdzJglR6i/9yXO+U5s7AL46sys47PYTqivqaEF5oHvA3B1tNC597iaywYY4M0vSp30MxZKPLn3lnAe2eHIqIXRrMxtYJR0ej9B7uM7cxsan28WnQrkO8TvPiuHJdgZnGT6uJHhRhMaLi3DROTgckQ1VoSn0YUxXVw9HBNujz+k4bfL7jOHUPdZUJvOmuyG5QbQaFW+Civ9fT07xnLv9M5wubPLnV2qDxQIiSGf531psTfw//a+wAAAG1Bn3ZFNEyfRsZ7l6C3kouYMIwH1QMwxvdaOKFaVaUwAO91qG4IAdsbjd7PlCCxOuvuR7kleDr0/s4hQqumZ4d3HCNRJPI0etM+iyGIOrwX1L3RvMGt+pw8a2J4Wzq7wRx8N0zkX7YAUIx6xYaAAAAAOwGflXREf1KJeAypgIyOqqEy8zFS99w491/PXIlcfUUHZisGNyqCn7tLHVZA5bbqSnBd/8hJR82rnDL1AAAARgGfl2pEfzbXRoJlcs5ASMw7FTk2jTEM4SjmWq/S9Chq/GpRdhf1MdaEz0GPI+q0f4XGuwP/8OvrxnMjEhib7oVHocIx8zEAAAEFQZuaSahBaJlMFPG/+l7gTC3raOPx+bIOJ3TMuRzBBXTg+6ev6Y0D+XOY3WrAkwxLj4/7ON6vO0OIHYQAaO6rRZwZ/qv8m2zz404Tl+57wWBnHB7HU4xP68ECYvGxMw0taOVRH0eayU6gDOFWSaVQnHedx1ytDeHpFr4yInCQjHcKEBzXWCK7lndSof9yGXI8z1jdKvIALPt/RfXz2QMEd/6XTxae4rXL2IYc7SQuJyO+oZ/BHX4QccsR+FbpPMq/kLoNGEXgbFDO3xQPppTq17frmHZxf9wlFUe0nrngqUpRQMJY0ltz+5I/lLJi9yT38FLVlwLsPIODCI6Wo1gTQVc36uyHAAAAXAGfuWpEfzmthALcG+TCePFtEDZYNL6FO/nVJfnz2ulJv+bKU9nI0fCSaCsj0Q9Z3Gze17aV1fRAY/gz2qCmuu/SAOe5ZNt6WseThyp6NtDoCTppBL3hCGVAqzpnAAAASUGbu0nhClJlMCN/+l1Rv4i3PapDmPB1IUiFdgBYVG5+Bd40To2Xq97i1h7k+toWIClQ3Wj4JB2M66rcohhtk8Rfw30nlwZQcjgAAACWQZvfSeEOiZTAjf/6WMy2BTBzf/awA3HDVFERaa52pHRCTj/ul/oVGkhHTMFv02YpyMde/lbEFrlIUDMeQeep/F0Vo9RBlMjHHyPwmlFy3ju1LwQecubeAROqYnsrpy7hSCjY6b/nbZ7HfNxUdJAcytGSGGuUlPee44UUp+lTnhw7ye/IDQOURzQZO/Ouge7M5Ed0rni5AAAATkGf/UURPJ9GxoWgUmsNBlAjhqiVCb5iUg8/y97aKY0KmVXp/TOjGf92lFXWcoZtpSL+8WR9DsBhIt1zp6PJLw0iR40+00z+gaUuFxPTuQAAAFIBnhx0RH9PB9yprUQErn0GQw/YR4RZE1CYxCqjV7glJ2ECdaD8kw5caFEcYU00/Z+BCoewfTVaBez6nAmns35U7xgcV86Vqrv/Uouaazgq5UCQAAAAPAGeHmpEf1ESP5vi8xChUWGmG/u0PgWc+1iGbnfi4Aq71XgSS5Nnszveyq+wBvMJESzyBlrH7UWYGfedJAAAAIFBmgBJqEFomUwI3/pe+VI9YzEPbw4gCM4eJJQU0UHEZDLAvf9RQa98NXDmyZ5i0oft+EfKAqkvS3VeXiVTgS7ERTnrGTiOHAqRtijQaIeY7pmuk3c87oKzzHJps+3CgWOdmmOTmY5vY52/yhlOK55lupxiA/AkyFfGa0VlVu/rtIEAAABKQZohSeEKUmUwI3/6WDJWBlI2wxFh4cQA2ia6vZtEtpYuP65YkLeOJH3BffO9t53MXlH7yuKJXm+Qgv80OsOKwaZaUXVZZF/5WnAAAABJQZpDSeEOiZTBTRMb//pYvy5iShIaCfOLMKCd1RNoaEJVJsvoakw+Aqr/LKI7SYqjSNm//yG4PSv8mS3GeLhQsM7YTl6VGQwkgQAAACwBnmJqRH8sdIe1WE5eGfDcRNrqhjtBs6WkzdMU1XIX6ZUpee9ldRPZujX2cAAAAD5BmmRJ4Q8mUwI3//pYPthOgHyqWNj8PJEJEty8YXufwggd6JUrTE0H4tegHyvihTfrXtG9jJNS1Lu9hpo6MQAAAEtBmoVJ4Q8mUwI3//pYQQ0YGAMTbI4AGPaJEMeNzR2cx//2lRWk+HN/N6clLTRbyVA6+XybvP+cLi5Y2SmXYxxPeLvHcr3kgmfgYFEAAABXQZqmSeEPJlMCN//6WEEOuAlZS1HAAz6Rh+Ka+K7LIKa1IIbdKkpurCNvV8Ob/pdn2MmqkMIambuFiOApBYAA7x68bd9tCuG3NF5CKSJApXkeXb++SlvxAAAAK0Gax0nhDyZTAjf/+lhBDRus1m8ApAmHRbm+GfWhh1Ck2rGuHnuCl7sLshUAAABWQZroSeEPJlMCN//6WEBks2WaACdfzaBKUWpyxfOduWcJ3l9PAivR0kkemX+uXtutVsKQrceUpwRj44T2Sw44cbDLpia4yH3i1K6mY6zg3SdsW4Ty/4MAAABTQZsKSeEPJlMFETxv+lj76l18ed5NfrjAEvJBTTLRkFv5ADHZtgKNjRSff/efPp7FQzssY4FS1AURGjWWcySWf/7wZUn6gU5hemfqoCnCSWKZnS8AAAAjAZ8pakR/LdaQWOfBUhgMtKc/INVJ3ef7Kf/zFLtzDTfrUIEAAABZQZssSeEPJlMFPG/6WVwM6DPN7Q4ZJPDzAE2yQ/uDgXxHyTjr00XlXh7uTzQPP4/OWsEf2wvo2EkZbI/H1frEVUDJZjKE7i3E++ZrZzYvHjxA3zcDzIXJ44AAAAAlAZ9LakR/LdKffxEs2JUHZxEYZieBu0bM0fG4iBjZzsXtPg5EmAAAAF9Bm05J4Q8mUwU8b/pYPbuTq+AEt4U3rWit7ERO9mw8orzObgx08nQjlKqcuMS8Ecl4urZbuyaJVghLaKO3c75bEUQzSi0LYb+JTWkO5KbnZ2woarnm0vGvpwa7gN/a/QAAAB0Bn21qRH8tnkbC6B+yUtJpZVt1Y8q93y80VZ/yWQAAAMxBm3FJ4Q8mUwI3//pe4PqKrYz7H+bOyHb3Of//xXTlUVa+WUuHwRrpoWfrLggrkufRXepObOB9JcJOzXu1Ga7Kv2BL5nJ2JRbxU6wBZm0yoMzyaFPo9MX4cCSawmEhQsLfibITE/ahj+HJ9X7buUQEwDnz8TKCreoZYpyhjdIojbWKTq8YcusyUMvQtReMqwJupV5WFgEffE5PfQgSxRzf1fJurTYYrKcY/oKMgV7NtD0apGugZs0HRKDqCGNa8GxF3QgRIX0dzl0WrKkAAAA5QZ+PRRE830cvqjqVpD8cmZlwsnIUCaK3v0vLw9ckwVLLF5d1iuMVWlGLIOrJjywPesHF3g1AQadkAAAAMgGfsGpEf0xXaGjtjCYOW4htj+B/pQ3e2mpCriD/s9R56gEVw12QrYminEllBUHOYtAOAAABOUGbtUmoQWiZTAjf+l67KQkt7Qq9wDiEcwXJs03hoHJ5V1dZDKLHBobqnmtmzfSnEDjHgotphjoKvqOjAPgJHlw8m+8Kf2IHHLdMy0Law6hrqcog1Ua1pF4BX/1dJ7Q98p+3qOVC1WgywwXounR26woKhrugpX6DPk84oZvSIht1LOOz/XTJxW+qIoclrQhxakVtLrQPVKNwNkeXbH9LzDHH4fUrJ8o0gxMBwnn8HAboBa7DD4Kk/2z9hWKTcmiubK8oQ7unluSzc6Yn3xOaYB83vP0yczfbfq//0ftQir13+g40JTWX8xSwqR2PLFUiqwCpVUooV+RzrhqL0bzlL7wD+UXz8lZPSBWNhm6nvVv/3tyl+uiurXVWoHEf64VbPYtz82JMY9PJfRw0wQ8qb7tJrZKuq12mrrMAAABmQZ/TRREsn0bGdbp2Se6Fa3X/cW8lX2R0okZMRd9yxUN+fJ1pArOHEh/ABfoumhcuvuMRn7KD2e14pUNOZTtpABKF4VgTS95V0ynZevmV6Fjn0Drd7Cj+q2xfIS3lrKx+6BAUF33wAAAARAGf8nREf1KJbRxi1vCZ5lgbfkw1xyDmBPE/9FLjg3dAoLjV4hhs4YWu5dEajnSEWY/+/kXyVefCv9jUJkdUusKl+RmAAAAAQwGf9GpEf1KJbRxi14543R5l2u35/jDDu9fj4Lipn9fjWqACqRbe9s8JNatLfdsdn326sjXplE/+EcxP/Hor+P71bUsAAADAQZv4SahBbJlMCN/6XzOLoSqwzdvrorQ5v9yh2PdIG6Bro4r8dn07vFJcOWZhqDZtPvfWG+rpQWXR6CFP9AbRnmlhSVYphknG8tPYo+ZKAFieohOCNdEVcOM3yEp4IQ6UYp/enwqk/XOOxsYjYIZ98ELvckiUeO6TxzUHFxoOlY21p3xtEnQwA7RO5t7YVd6scZcbJovv+c0tBUJzbVLwCyOpX9xPLDVLMei1Wo2arPszqwB2n+YaLM6K6J0y59kgAAAAVEGeFkUVLN9MinzFhTOX7uNQP95banPjijTUOiNFGV7v6bNCsgPtqZdAIP0wRHXY///X+1Rkaf5FCtgO8jEvVLryW9HD9GcCYlu7fRJfxDvMabSloQAAADEBnjdqRH9Q9U8ElQ0vjIFDppnKkwzp1oOCV1EYhu7KDuL1Tz17qSCcPm27EB/XIz4FAAAAUkGaOUmoQWyZTAjf+l7g+oqLILXDuU9AAJsej/xbFMHHboe0Jbtxzo64UNMQftHhbFP4NAUc4Agvd+lho1c5WoIWNlUyDeaFg3/Bh7M+HlaZQYAAAABYQZpaSeEKUmUwI3/6WPkllQT5vaYpcIMJyz2LRwhTo7PYCi6bSx+EkWxGDhf/DT8fhBQYKRpV9j15TxNpCN8lbe0W1hp8VjZWdQt08ciJgapl+YmfXpj81QAAAGhBmn1J4Q6JlMCN//pY+MmAnNOCUV070gjNl4Y5SH047ToBKoia+BLH6ticenGC9arxdZHtUq3ISa7kUqXB2n/s7whOl0HHpL0+xcPwogCGfQ2XttxAdeQXE3t8sWcKMNxaelS1djvR9AAAACNBnptFETzfTCVP9+IcE4OFaILAr/vLcIpPboGXcfiIh9wB0QAAAA0BnrxqRH84pIyBud8pAAAAbUGavkmoQWiZTAjf+lj431BOM/P5V+yDnAZvDCLfLNSIx/6mbNHu/HhAFI3u2fnByHJJNH6sv3OfgsKXYiKrrM2MeJ8A12L1XGL7OblwlJnRMu4QTwRU5erF0XhiA5npC1EMBgiG2YvzZ8FOoeAAAADOQZrCSeEKUmUwI3/6WO/zQpF08DJhw0ci3kV2574GO3M0vPXJm71ZjD1T43Kps/mWq+cXY1eZTzXLVLkl4fyDt9YSUr7bCTO2N3pCTvamtMUY57jKxxzm827YpJqMgp402iFu0T3yQrnzEHgDH+mwFSqTkYPbEskm0PJ9hypcQZgj52yF09D/R24//ubSFsBhc/utPaumqGmiwtQWZQJM0QokI9LZKyskbDmGc+9yJR7wFDi0ftwdLhVdNYzLCnz/O1M3gHjJMChgTqtqMCAAAACnQZ7gRTRMn0bGizJHSYykzq2Uq14BSArOIfqypGYQVmpMFCnBMfKQfNySStSP05qcrwnuWokCSk5/jWZXOeXDoGtcRFKO+O+YGtfJj+MLAK5qfAn2y9/oXWyDqaNhgPQY0wlmDPvqRPXahqXNYZPLW4hHdGX5QK8ESg3fkFIMgQb/foCzgmH1ILGDfpNP5IMhu/E7Xbn+RbzZP7djxCgLySOM80cR7M0AAABGAZ8fdER/Uol8N9k5Ek4YAbvBQ8mdlcHOipQw1c1HH1b9fxi41oPLg83HqerZkDZaVwsKTEIUoykc5novblrMS9h45lJPwAAAADIBnwFqRH9SiXaRU1Lo6Lf/ZBjwNf57+QdGvuK7kVJez9ZjXf/1NUysuJYj+o9KX8aiIQAAAJVBmwZJqEFomUwI3/pYXKMOALGaZOz4cs5bNBglJ8Cyu9rD6ZqHZmDt//SP70vW0hpmdVoTUn5tGNhsGulrMMVupfrpaU2GeI15e3zPXSO11+1H4EYhQ5/wYgKLsbE8rjyAd8vXnlVEDBTGC6Eg9Ppd5fjqqWJaGH3+WXGY06e3s7NaYKQfZ3Q+rK0aRUlv4PAfUmx/OQAAAGRBnyRFESyfRsaLMkdBMcb/h2ACkXccTPzK/9jCB4is3RZlB/kvZfLA40BBhQJyMGbLJfttnboOhDLtwItpW5BDJuT9iM4woRqBnT8iDM6ruJtWn+D7lpukrquGLDySThdPdKXnAAAARQGfQ3REf1KJfDdfPOBxka6XEWViVEYASTxUZb1qCzHV2koCgURUuYQeyIRrz9rMw+3gG7V6xpOmGtZkg8N+4QGvcZ/7yQAAAC8Bn0VqRH9SiXa0V0M3o7Soc/x6nts83fbeE6ax9HSI019xIgHuoM3LX/COctel8QAAAFtBm0hJqEFsmUwUTG/6WF2oKBJXmpRFGAACCy02tYrD/NDldpEvjU/WAd4CDHgdo1MjeZcv+nL9d5lrOZ+14cvzY4oML6fjOSn3cPolt8Vr6CT5Rm8qUaUi5wihAAAAMQGfZ2pEf1KJfTo4/B4BOBtHe8glYyGIdaXhoysDOAS6WFX3IgIF3/o6Nnocvm1L8l0AAABZQZtqSeEKUmUwUsb/+lhMbleqAAgQ/51/x+1hDWR0+OKJurOo+osCIetTNRBblxMoapxR3K5gZSIS0H7/8XAuv3SA7UmT51C4m29lLvBM7eG4Iq8mr9CSOvQAAAA+AZ+JakR/Uol2hxsmxJcfrQRScH0vmEY4x9PP4hFsUQ5+J2+2W0OM1wf/U0OpUaslwEKLMq76mVpXuaW/8C0AAABVQZuMSeEOiZTBRMX/+mNRwn2aA2/zLQgxvMAQI/P4mB+xy487WmO/kPymUxbx+2L3EyCGQN/hTEOHXot3GD8yH0VFgxTDxm28GDPUQ2pLzU+3l/RtwAAAACgBn6tqRH9PHMqveiCOgdrBBprCYdqLQrQmq6mglsTtoRN18WwuSVdiAAABAUGbsEnhDyZTAi//+l8kbD5eUJEMSA/JMq9N6ijAbG7kea6LgexUhYjft+n9DVNnDRI1ANztZeRPAVgkB7+v4mfl0Jqa4tm1zp+wGFLrP8k0gdsFyF4vSgsbiarLshI5TIN1NexKE7OdPrs31+RPlv62WB6/WWO5IkYlSIToEpLYe7fCIm6/wZgNfwAKmtC1tFqlYhk4soQ27Fop8sQHXMfyEdoWHjciiyJ/A6m4om3i8iQ1dr2MnHaKaO+mMjf4LOqa6rKQ+j9SbsymKJy3sk0U5udkAPTB6FyiJ3AWVUhb2c1fGzs0kTrkeOOcMTXngwT6RJkstNkWil6Y2meLzrdZAAAAeUGfzkURPJ9C7PHcBETkA11rp+t0qPWtHlNbBW4V19g9NIPZy+ndae56IzGC+K4Gzkup0deNNF2XXfHOArYqQnTHA48nLeYAwpAGTrckGGWF283J3a2WU6+J+ESX6CY/GeQV6kMGc1xY6henEqyb8l329ae/Yt+XOMEAAAAtAZ/tdER/THFetQwi4CrhA6MXVM2/C6g7yxBZu8/hcs5wYomoFRtPjMvhDyqhAAAATgGf72pEf02/PiPnSP1TD68gwXJW++Arvj+AjIDnGqvQYdBguG5JQ0ZSB26t+aMif3gNGI2LKx9SafPD+HlbD4Nfe1MkKu3CYxDHNtXIEAAAAQRBm/RJqEFomUwIv/pfrLhJzYDAkRReLA+twksaRjI0RnMa9nXS2BG2dAFNafqEF4GPTXL2zayuXO9d/D0Qdw3yYgU67n+jxOZMhHLaor22wYI10nUMu5AGPjwc3NcxDo1J09J+uJDAPFDpx+st7sH+J4I0DOjuoniFLbGk0211IefeUu5SNgk3/BkeJMBymQ8I+cHZ1W+ZyzJ3zs+TMOqezBxrWmPyj/kNk479Q/XXaXupjIabPsNtIZGwli0TfJEh1Lm0tv15lWKXWjNqlOjaX/KsWeGewC8Cvl+MWYG5Dejxfq9OB12qUX0uhqAL79nnW+/HwmCh/Awrr/MKQ7KIlleOQAAAAHRBnhJFESyfQfayd64SNGkUkPDhaQZPZUiCJl+LCGb/AmtSlye4fDzeUTVaPJnkiH7dMgZJs8DXb65nULGWH71CtxgagTqP51S46c+DrkGHCIe48+Bi9TV1Odu+dvAdmr8B9nMGVU2TLnz5fR8OSsl/eXmTuQAAAC0BnjF0RH9OEL2fjX9MdcZJsXYzoj/jDUkBT48Rkdx++vJb+XG5F0ofE/vrXA4AAABGAZ4zakR/TWqUEK3c31r3VeNktOZoHTQqowI98vqAJIUCDz45bAgAGqEuTFi7dxPUy+2UqoR4gSgZX4/9LGE6o118hUa6gAAAAOVBmjdJqEFsmUwIn/MtMEGNkmSkbB7V9dysbFk94xsfUBF+He8Lon6QVx02lccJfajhHFiPGBvG1z9DzsEdkm2uxKMxXde+qoubcaF5+f6pMvbquEwnEcNsylAd1de0gPJgKXm4IdK/d79Aa9YvL2oc4RULKLW9oUHt//+2dLJD3ydEb5tecfGlnCR5RYC9aj10BZ5gwbRC0IzqLE4D2v6GhImkEasHVPavw5LorSXTE60mj9vTHsIVERfVe/gs3T0VvVu4I+uGUI8htRBJY69sc06c3OYHP0kxu7f5tI5A1D/Pv+FhAAAAUEGeVUUVLN9H5Ly6lwF0JVbt+LVr3NApeJJ2tjbPplwVarqtp4t5gTrywpCxuqpvCoaytTJAARiPVktd5orFkcdy8ZjLdeKKwD9yy95fWsV8AAAAHAGedmpEf0kFo2Wv+OCGOgWJd5DztUDXBGcqZ7kAAAB9QZp4SahBbJlMCJ/zLPJEJs7dHi9zPTo9/m7rIoFBfhh/FYfYLSFcFP39/XR4FTdOGLz8sW+sdkFtt8MYTb/Y8dZ0Ge7KUZFDUm2xVIHJ7PL53ROusOnfwuYz6rig1oOOb8TTluN9TqazpFsxvt+2swwGVK2GYmEb79+/BjEAAACyQZqZSeEKUmUwIn/zIrCEBrjyy6FaFV60dm9D880Brf710UmfwEY3+k9YLflR0chlLfrOOGa74PKm2dXDOYv6Pa2YJifuRWLvH3Xrceynqb3UQcRwJ64Cv9m2t+Q3Itk1OyfqkrdmYkGDf/+GnaVUiIYHILmK270yT95yJHxH5w93hL9loW4NY1QpNDow04Vh3cfwVhNx5b4Rt3qISzt/+/RD23STfHMg37Y1cfoFxqKb1gAAAJVBmr1J4Q6JlMCf/+RDkYDSDcZSiNLbMyygDJcMJBs3NqwC71nEOSmvK7Tm91WY9Z2f+DOaxCM2f/siOOpznb35pbnekW2tD2CjI6kG3rKeIVfSGaW4YFcyQHBBvFaGe1m0uh9RSClj8Yjz52IjI5KVBZBguflPh5cGmJa+mi2UTgrykrgUniaUUbc8m2NPbcuHyTYFEQAAAHtBnttFETyfJUYGI0iEU5awTv1uqM+js3SjEQtbWbA5IdNHRCxnwRcvfRXeDpK7ehYBLliaqookxfKf4dJaos3QdglBTbERIet3A3IVdUw6BV85Oxkt98lH6BCvogcsg/dtyRofKzj8Uo/tA2C937FFnSt5QCi01mmM50AAAABGAZ76dER/L1C0MfKva79ivWCQYuVhk7gUPtXxNOxrpN5fMKY66BATt9tOKW/2MQ4oH58YnQ+LZV0TeViPNTuXNEsaW6C1YQAAAEMBnvxqRH8veE+od7xxTe2+IXdW0ZWTau1UjY97B7mef6zcjqfZsWBjwQiV+L+bAurHfaQQMvHNhQt18xX0Ez8FB0QRAAAAY0Ga/0moQWiZTBTz/+REc6Xnh0lgJSZEifLNEArjjoj3IH1XnGRYnHhOiZKOsnMRWfADVwO0RX7l9vj/D0fPbiHhlOKs0+gLRUUYe63MRs4qnVutnsSqyKfL6DYo7Aj+xVO7JAAAADYBnx5qRH8vXzzXoQzyDZ6JF/XfT5KrwEoNF6cJqBfYL+er4HXqjVwa0u+tusesElk0x1cgO3wAAABjQZsBSeEKUmUwUsv/hwlO8gB8K0mF9h/DeT1VHNy1SSqHdvtTbrx+lLAd0D0Bo2Gz/05HL8gfyQJZESbGrKmB8UejwoJ/xOnAwvuaFWrjy0A1GhV8hBOEshJ1gR/6qF91O4VhAAAALgGfIGpEfzZghJR+NJX/xjsoJcmq7eU4TK5EB6u5xahjVpwR2pMDGIKYVrJz4cAAAAB7QZslSeEOiZTA/wAlAZGkBxo4AU3B7HPv0V6z9oUwWkqYy7IFcmbkSki3uLmWaCVhBCuTbTD15AHnFwn6GH+PH9Cq7DGILxq8n13esus2EBspwv5axb7p9DiDQ9cVWvFV99d9vfq+hTWx/BMO6dfHR+p2o24vXwSn/zDVAAAATUGfQ0UVPJ8thiZvYSoRFSrXN+IU9u6UCCaescXvNHzjCPOYK7j9DJZ7g8OKVa4chBNYXSztqwphi8NvcoufBI5IBoq0EdF+00c8YEPQAAAANQGfYnREfzcBd0ojxRL3Wgv4Yd818QOgUrYwb+OAFnKXWOvYoMai0eECSa1G/moaQo8UYMZdAAAANAGfZGpEfzbkmCacU40+4IIInAb+1K4ieZ5Gb/q9OYoYlqcVTcpNeKIzrrbaIi84FhEjEIEAAACCQZtmSahBaJlMD/8Ak+bw9h4NSn/g9mcXImg7hcxkx7Vnl80TDjIFnM17Z2BXIDpbsKAMvpM8T5EQgyBDk5jYFo/IGo013ufuvLkAPnVCqUM6P4XO/vBxyOgNjAfbAMxbU9n2YhclJ106lVl2EA8tidqUfaFrwWeKyxN1mrIuRtfwvwAAALVBm4dJ4QpSZTAr/wEm9mHx0kWmPiJwaA4fP2LVWWsYxZPHiGLnx+LR8u3tuzQF/DdKHt/viPrU4L0lyvCxx777vshaKq1LD16QH3K6orSviHb1O70++YaeeahlKcAuI9LL1bqqx+H0IUFwYXLTLkKKzcWOcHaatsIYQG5C822SNjhf9sL1vIwoishlY0z400b/rITT7ghuq0RNX6SeQSIC8jOw3FoAPh/MLfgjkIN8QTRdvgZBAAAAY0GbqUnhDomUwU0TEf8NQMFVWD9hWknx6xxH0Yq4/l5Al8O2IzLL0C1K9tJ0KxQNEyiYZclHTfhGq62XAB7lQRpzaOLhhCLNGVeS06QdCFU6HXFRrfQ0JJkgftmUUpDZjWvO8AAAAEkBn8hqRH9KALiJ84Lw5oYPEXfaN8VYjzRmWzDrOnkjrAnqobYp1ZWssDlwuspOm+B7AWsa20YCS6BWYun/CuVj33OA4RFny9U0AAALqG1vb3YAAABsbXZoZAAAAAAAAAAAAAAAAAAAA+gAAB+QAAEAAAEAAAAAAAAAAAAAAAABAAAAAAAAAAAAAAAAAAAAAQAAAAAAAAAAAAAAAAAAQAAAAAAAAAAAAAAAAAAAAAAAAAAAAAAAAAAAAAAAAAIAAArSdHJhawAAAFx0a2hkAAAAAwAAAAAAAAAAAAAAAQAAAAAAAB+QAAAAAAAAAAAAAAAAAAAAAAABAAAAAAAAAAAAAAAAAAAAAQAAAAAAAAAAAAAAAAAAQAAAAABgAAAAYAAAAAAAJGVkdHMAAAAcZWxzdAAAAAAAAAABAAAfkAAABAAAAQAAAAAKSm1kaWEAAAAgbWRoZAAAAAAAAAAAAAAAAAAAMgAAAZQAVcQAAAAAAC1oZGxyAAAAAAAAAAB2aWRlAAAAAAAAAAAAAAAAVmlkZW9IYW5kbGVyAAAACfVtaW5mAAAAFHZtaGQAAAABAAAAAAAAAAAAAAAkZGluZgAAABxkcmVmAAAAAAAAAAEAAAAMdXJsIAAAAAEAAAm1c3RibAAAAK1zdHNkAAAAAAAAAAEAAACdYXZjMQAAAAAAAAABAAAAAAAAAAAAAAAAAAAAAABgAGAASAAAAEgAAAAAAAAAAQAAAAAAAAAAAAAAAAAAAAAAAAAAAAAAAAAAAAAAAAAAABj//wAAADNhdmNDAfQACv/hABZn9AAKkZsoxtCAAAADAIAAABkHiRLLAQAGaOvjxEhE//j4AAAAABRidHJ0AAAAAAAAXXUAAF11AAAAGHN0dHMAAAAAAAAAAQAAAMoAAAIAAAAAFHN0c3MAAAAAAAAAAQAAAAEAAAVoY3R0cwAAAAAAAACrAAAAAQAABAAAAAABAAAIAAAAAAIAAAIAAAAAAQAACgAAAAABAAAEAAAAAAEAAAAAAAAAAQAAAgAAAAABAAAKAAAAAAEAAAQAAAAAAQAAAAAAAAABAAACAAAAAAEAAAgAAAAAAgAAAgAAAAABAAAKAAAAAAEAAAQAAAAAAQAAAAAAAAABAAACAAAAAAEAAAYAAAAAAQAAAgAAAAABAAAEAAAAAAEAAAYAAAAAAQAAAgAAAAABAAAGAAAAAAEAAAIAAAAAAQAACAAAAAACAAACAAAAAAEAAAQAAAAAAQAACAAAAAACAAACAAAAAAIAAAQAAAAAAQAACAAAAAACAAACAAAAAAEAAAgAAAAAAgAAAgAAAAABAAAIAAAAAAIAAAIAAAAAAgAABAAAAAABAAAIAAAAAAIAAAIAAAAAAQAACgAAAAABAAAEAAAAAAEAAAAAAAAAAQAAAgAAAAABAAAEAAAAAAEAAAYAAAAAAQAAAgAAAAABAAAIAAAAAAIAAAIAAAAAAQAACAAAAAACAAACAAAAAAEAAAQAAAAAAQAACAAAAAACAAACAAAAAAEAAAYAAAAAAQAAAgAAAAABAAAKAAAAAAEAAAQAAAAAAQAAAAAAAAABAAACAAAAAAEAAAYAAAAAAQAAAgAAAAABAAAGAAAAAAEAAAIAAAAAAQAABgAAAAABAAACAAAAAAIAAAQAAAAAAQAACAAAAAACAAACAAAAAAEAAAQAAAAAAQAABgAAAAABAAACAAAAAAEAAAYAAAAAAQAAAgAAAAABAAAEAAAAAAEAAAgAAAAAAgAAAgAAAAABAAAEAAAAAAEAAAYAAAAAAQAAAgAAAAADAAAEAAAAAAEAAAgAAAAAAgAAAgAAAAABAAAGAAAAAAEAAAIAAAAAAQAACgAAAAABAAAEAAAAAAEAAAAAAAAAAQAAAgAAAAABAAAKAAAAAAEAAAQAAAAAAQAAAAAAAAABAAACAAAAAAEAAAoAAAAAAQAABAAAAAABAAAAAAAAAAEAAAIAAAAAAQAABgAAAAABAAACAAAAAAEAAAoAAAAAAQAABAAAAAABAAAAAAAAAAEAAAIAAAAAAQAABgAAAAABAAACAAAAAAEAAAQAAAAAAQAACgAAAAABAAAEAAAAAAEAAAAAAAAAAQAAAgAAAAACAAAEAAAAAAEAAAYAAAAAAQAAAgAAAAAFAAAEAAAAAAEAAAYAAAAAAQAAAgAAAAABAAAGAAAAAAEAAAIAAAAAAQAABgAAAAABAAACAAAAAAEAAAgAAAAAAgAAAgAAAAABAAAKAAAAAAEAAAQAAAAAAQAAAAAAAAABAAACAAAAAAEAAAgAAAAAAgAAAgAAAAACAAAEAAAAAAEAAAgAAAAAAgAAAgAAAAABAAAEAAAAAAEAAAoAAAAAAQAABAAAAAABAAAAAAAAAAEAAAIAAAAAAQAACgAAAAABAAAEAAAAAAEAAAAAAAAAAQAAAgAAAAABAAAGAAAAAAEAAAIAAAAAAQAABgAAAAABAAACAAAAAAEAAAYAAAAAAQAAAgAAAAABAAAKAAAAAAEAAAQAAAAAAQAAAAAAAAABAAACAAAAAAEAAAoAAAAAAQAABAAAAAABAAAAAAAAAAEAAAIAAAAAAQAACAAAAAACAAACAAAAAAIAAAQAAAAAAQAACgAAAAABAAAEAAAAAAEAAAAAAAAAAQAAAgAAAAABAAAGAAAAAAEAAAIAAAAAAQAABgAAAAABAAACAAAAAAEAAAoAAAAAAQAABAAAAAABAAAAAAAAAAEAAAIAAAAAAgAABAAAAAABAAAGAAAAAAEAAAIAAAAAHHN0c2MAAAAAAAAAAQAAAAEAAADKAAAAAQAAAzxzdHN6AAAAAAAAAAAAAADKAAAFTgAAAJEAAABgAAAAQQAAAJcAAABoAAAARgAAADIAAACVAAAASgAAACcAAAA7AAAAdwAAAEUAAAA6AAAAowAAAHgAAABAAAAAXwAAAIIAAABNAAAAZAAAALkAAABQAAAAsQAAAGYAAADZAAAAnAAAAE4AAAC8AAAA2AAAAGwAAABvAAAAfAAAAIoAAADhAAAAfQAAAGIAAADaAAAAggAAADcAAAD6AAAAfgAAADcAAACuAAAAeAAAALMAAABGAAAASQAAANIAAABMAAAAWQAAAEYAAABqAAAAjAAAABMAAACmAAAAPgAAACAAAACyAAAAUwAAADkAAABLAAAATQAAADYAAAA4AAAAUwAAABoAAADWAAAAQAAAADAAAAAuAAAA4gAAAG0AAADTAAAAWQAAANMAAAA7AAAA3QAAAL8AAAC7AAAAeQAAAEMAAABvAAAAbwAAAFMAAABrAAAALgAAAGIAAAC1AAAAWgAAAFIAAACiAAAApgAAAFEAAACRAAAAqAAAALMAAAEWAAAAgwAAAE0AAAD6AAAAVgAAAQcAAAB1AAAAMgAAAFAAAAD8AAAAXgAAAE0AAABFAAABZwAAAIEAAABIAAAAcwAAAOEAAABVAAABBQAAAHEAAAA/AAAASgAAAQkAAABgAAAATQAAAJoAAABSAAAAVgAAAEAAAACFAAAATgAAAE0AAAAwAAAAQgAAAE8AAABbAAAALwAAAFoAAABXAAAAJwAAAF0AAAApAAAAYwAAACEAAADQAAAAPQAAADYAAAE9AAAAagAAAEgAAABHAAAAxAAAAFgAAAA1AAAAVgAAAFwAAABsAAAAJwAAABEAAABxAAAA0gAAAKsAAABKAAAANgAAAJkAAABoAAAASQAAADMAAABfAAAANQAAAF0AAABCAAAAWQAAACwAAAEFAAAAfQAAADEAAABSAAABCAAAAHgAAAAxAAAASgAAAOkAAABUAAAAIAAAAIEAAAC2AAAAmQAAAH8AAABKAAAARwAAAGcAAAA6AAAAZwAAADIAAAB/AAAAUQAAADkAAAA4AAAAhgAAALkAAABnAAAATQAAABRzdGNvAAAAAAAAAAEAAAAwAAAAYnVkdGEAAABabWV0YQAAAAAAAAAhaGRscgAAAAAAAAAAbWRpcmFwcGwAAAAAAAAAAAAAAAAtaWxzdAAAACWpdG9vAAAAHWRhdGEAAAABAAAAAExhdmY1OC43Ni4xMDA=\" type=\"video/mp4\">\n",
       " Your browser does not support the video tag.\n",
       " </video>"
      ],
      "text/plain": [
       "<IPython.core.display.Video object>"
      ]
     },
     "execution_count": 12,
     "metadata": {},
     "output_type": "execute_result"
    }
   ],
   "source": [
    "#@markdown ### **Inference**\n",
    "\n",
    "# limit enviornment interaction to 200 steps before termination\n",
    "max_steps = 200\n",
    "env = PushTImageEnv()\n",
    "# use a seed >200 to avoid initial states seen in the training dataset\n",
    "env.seed(100000)\n",
    "\n",
    "# get first observation\n",
    "obs, info = env.reset() #obs内有image和agent_pos\n",
    "\n",
    "# keep a queue of last 2 steps of observations 长度为2的队列\n",
    "obs_deque = collections.deque(\n",
    "    [obs] * obs_horizon, maxlen=obs_horizon)\n",
    "# save visualization and rewards\n",
    "imgs = [env.render(mode='rgb_array')]\n",
    "rewards = list()\n",
    "done = False\n",
    "#统计此轮的步数\n",
    "step_idx = 0\n",
    "\n",
    "with tqdm(total=max_steps, desc=\"Eval PushTImageEnv\") as pbar:\n",
    "    while not done:\n",
    "        B = 1\n",
    "        # stack the last obs_horizon number of observations\n",
    "        images = np.stack([x['image'] for x in obs_deque])\n",
    "        agent_poses = np.stack([x['agent_pos'] for x in obs_deque])\n",
    "\n",
    "        # normalize observation\n",
    "        nagent_poses = normalize_data(agent_poses, stats=stats['agent_pos'])\n",
    "        # images are already normalized to [0,1]\n",
    "        nimages = images\n",
    "\n",
    "        # device transfer\n",
    "        nimages = torch.from_numpy(nimages).to(device, dtype=torch.float32)\n",
    "        # (2,3,96,96)\n",
    "        nagent_poses = torch.from_numpy(nagent_poses).to(device, dtype=torch.float32)\n",
    "        # (2,2)\n",
    "\n",
    "        # infer action\n",
    "        with torch.no_grad():\n",
    "            # get image features\n",
    "            image_features = ema_nets['vision_encoder'](nimages)\n",
    "            # (2,512)\n",
    "\n",
    "            # concat with low-dim observations\n",
    "            obs_features = torch.cat([image_features, nagent_poses], dim=-1)\n",
    "\n",
    "            # reshape observation to (B,obs_horizon*obs_dim)\n",
    "            obs_cond = obs_features.unsqueeze(0).flatten(start_dim=1)\n",
    "\n",
    "            # initialize action from Guassian noise\n",
    "            noisy_action = torch.randn(\n",
    "                (B, pred_horizon, action_dim), device=device)\n",
    "            naction = noisy_action\n",
    "\n",
    "            # init scheduler\n",
    "            noise_scheduler.set_timesteps(num_diffusion_iters)\n",
    "\n",
    "            for k in noise_scheduler.timesteps:\n",
    "                # predict noise\n",
    "                noise_pred = ema_nets['noise_pred_net'](\n",
    "                    sample=naction,\n",
    "                    timestep=k,\n",
    "                    global_cond=obs_cond\n",
    "                )\n",
    "\n",
    "                # inverse diffusion step (remove noise)\n",
    "                naction = noise_scheduler.step(\n",
    "                    model_output=noise_pred,\n",
    "                    timestep=k,\n",
    "                    sample=naction\n",
    "                ).prev_sample\n",
    "\n",
    "        # unnormalize action\n",
    "        naction = naction.detach().to('cpu').numpy()\n",
    "        # (B, pred_horizon, action_dim)\n",
    "        naction = naction[0]\n",
    "        action_pred = unnormalize_data(naction, stats=stats['action'])\n",
    "\n",
    "        # only take action_horizon number of actions\n",
    "        start = obs_horizon - 1\n",
    "        end = start + action_horizon\n",
    "        action = action_pred[start:end,:]\n",
    "        # (action_horizon, action_dim)\n",
    "\n",
    "        # execute action_horizon number of steps\n",
    "        # without replanning\n",
    "        for i in range(len(action)):\n",
    "            # stepping env\n",
    "            obs, reward, done, _, info = env.step(action[i])\n",
    "            # save observations\n",
    "            obs_deque.append(obs)\n",
    "            # and reward/vis\n",
    "            rewards.append(reward)\n",
    "            imgs.append(env.render(mode='rgb_array'))\n",
    "\n",
    "            # update progress bar\n",
    "            step_idx += 1\n",
    "            pbar.update(1)\n",
    "            pbar.set_postfix(reward=reward)\n",
    "            if step_idx > max_steps:\n",
    "                done = True\n",
    "            if done:\n",
    "                break\n",
    "\n",
    "# print out the maximum target coverage\n",
    "print('Score: ', max(rewards))\n",
    "\n",
    "# visualize\n",
    "from IPython.display import Video\n",
    "vwrite('vis.mp4', imgs)\n",
    "Video('vis.mp4', embed=True, width=256, height=256)"
   ]
  }
 ],
 "metadata": {
  "accelerator": "GPU",
  "colab": {
   "provenance": [
    {
     "file_id": "18GIHeOQ5DyjMN8iIRZL2EKZ0745NLIpg",
     "timestamp": 1733061394144
    }
   ]
  },
  "gpuClass": "standard",
  "kernelspec": {
   "display_name": "Python 3 (ipykernel)",
   "language": "python",
   "name": "python3"
  },
  "language_info": {
   "codemirror_mode": {
    "name": "ipython",
    "version": 3
   },
   "file_extension": ".py",
   "mimetype": "text/x-python",
   "name": "python",
   "nbconvert_exporter": "python",
   "pygments_lexer": "ipython3",
   "version": "3.10.12"
  },
  "widgets": {
   "application/vnd.jupyter.widget-state+json": {
    "04b91b80f41040ceabb6b1950cfc3db4": {
     "model_module": "@jupyter-widgets/controls",
     "model_module_version": "1.5.0",
     "model_name": "HTMLModel",
     "state": {
      "_dom_classes": [],
      "_model_module": "@jupyter-widgets/controls",
      "_model_module_version": "1.5.0",
      "_model_name": "HTMLModel",
      "_view_count": null,
      "_view_module": "@jupyter-widgets/controls",
      "_view_module_version": "1.5.0",
      "_view_name": "HTMLView",
      "description": "",
      "description_tooltip": null,
      "layout": "IPY_MODEL_d34eca56124543d897165007a17c4383",
      "placeholder": "​",
      "style": "IPY_MODEL_c3058c7a0bc34fa2b35153c9327a62ae",
      "value": " 0/0 [00:00&lt;?, ?it/s]"
     }
    },
    "0787e9b8789b4188bec1a5421683546f": {
     "model_module": "@jupyter-widgets/controls",
     "model_module_version": "1.5.0",
     "model_name": "DescriptionStyleModel",
     "state": {
      "_model_module": "@jupyter-widgets/controls",
      "_model_module_version": "1.5.0",
      "_model_name": "DescriptionStyleModel",
      "_view_count": null,
      "_view_module": "@jupyter-widgets/base",
      "_view_module_version": "1.2.0",
      "_view_name": "StyleView",
      "description_width": ""
     }
    },
    "0ff6ab394b3c4799b2418d5780e2fe5b": {
     "model_module": "@jupyter-widgets/controls",
     "model_module_version": "1.5.0",
     "model_name": "ProgressStyleModel",
     "state": {
      "_model_module": "@jupyter-widgets/controls",
      "_model_module_version": "1.5.0",
      "_model_name": "ProgressStyleModel",
      "_view_count": null,
      "_view_module": "@jupyter-widgets/base",
      "_view_module_version": "1.2.0",
      "_view_name": "StyleView",
      "bar_color": null,
      "description_width": ""
     }
    },
    "182afbf676cd4c0982b90890bbdbeeef": {
     "model_module": "@jupyter-widgets/base",
     "model_module_version": "1.2.0",
     "model_name": "LayoutModel",
     "state": {
      "_model_module": "@jupyter-widgets/base",
      "_model_module_version": "1.2.0",
      "_model_name": "LayoutModel",
      "_view_count": null,
      "_view_module": "@jupyter-widgets/base",
      "_view_module_version": "1.2.0",
      "_view_name": "LayoutView",
      "align_content": null,
      "align_items": null,
      "align_self": null,
      "border": null,
      "bottom": null,
      "display": null,
      "flex": null,
      "flex_flow": null,
      "grid_area": null,
      "grid_auto_columns": null,
      "grid_auto_flow": null,
      "grid_auto_rows": null,
      "grid_column": null,
      "grid_gap": null,
      "grid_row": null,
      "grid_template_areas": null,
      "grid_template_columns": null,
      "grid_template_rows": null,
      "height": null,
      "justify_content": null,
      "justify_items": null,
      "left": null,
      "margin": null,
      "max_height": null,
      "max_width": null,
      "min_height": null,
      "min_width": null,
      "object_fit": null,
      "object_position": null,
      "order": null,
      "overflow": null,
      "overflow_x": null,
      "overflow_y": null,
      "padding": null,
      "right": null,
      "top": null,
      "visibility": null,
      "width": null
     }
    },
    "185ce2207cec4ae1a6ffdecadae23894": {
     "model_module": "@jupyter-widgets/controls",
     "model_module_version": "1.5.0",
     "model_name": "DescriptionStyleModel",
     "state": {
      "_model_module": "@jupyter-widgets/controls",
      "_model_module_version": "1.5.0",
      "_model_name": "DescriptionStyleModel",
      "_view_count": null,
      "_view_module": "@jupyter-widgets/base",
      "_view_module_version": "1.2.0",
      "_view_name": "StyleView",
      "description_width": ""
     }
    },
    "19efc7fb43c14f128d9b96e28a1e3a94": {
     "model_module": "@jupyter-widgets/controls",
     "model_module_version": "1.5.0",
     "model_name": "HTMLModel",
     "state": {
      "_dom_classes": [],
      "_model_module": "@jupyter-widgets/controls",
      "_model_module_version": "1.5.0",
      "_model_name": "HTMLModel",
      "_view_count": null,
      "_view_module": "@jupyter-widgets/controls",
      "_view_module_version": "1.5.0",
      "_view_name": "HTMLView",
      "description": "",
      "description_tooltip": null,
      "layout": "IPY_MODEL_a18f2aba6f344e83817a4e58b22d9c58",
      "placeholder": "​",
      "style": "IPY_MODEL_6ee0ea7dce9a4c7aafe609185a34b3ac",
      "value": "Epoch:   0%"
     }
    },
    "1b96a78d8b8542eb830e3c446a0dcf42": {
     "model_module": "@jupyter-widgets/controls",
     "model_module_version": "1.5.0",
     "model_name": "DescriptionStyleModel",
     "state": {
      "_model_module": "@jupyter-widgets/controls",
      "_model_module_version": "1.5.0",
      "_model_name": "DescriptionStyleModel",
      "_view_count": null,
      "_view_module": "@jupyter-widgets/base",
      "_view_module_version": "1.2.0",
      "_view_name": "StyleView",
      "description_width": ""
     }
    },
    "1d0a57ed8e914d31bcc1c36a56451df7": {
     "model_module": "@jupyter-widgets/controls",
     "model_module_version": "1.5.0",
     "model_name": "FloatProgressModel",
     "state": {
      "_dom_classes": [],
      "_model_module": "@jupyter-widgets/controls",
      "_model_module_version": "1.5.0",
      "_model_name": "FloatProgressModel",
      "_view_count": null,
      "_view_module": "@jupyter-widgets/controls",
      "_view_module_version": "1.5.0",
      "_view_name": "ProgressView",
      "bar_style": "success",
      "description": "",
      "description_tooltip": null,
      "layout": "IPY_MODEL_4cc800669dfd45a784864dd4a3881daa",
      "max": 200,
      "min": 0,
      "orientation": "horizontal",
      "style": "IPY_MODEL_95dc6c44f97e4e8882a3657bd2fd66fb",
      "value": 200
     }
    },
    "25fd0c71ee374fd49f8d02497747ed92": {
     "model_module": "@jupyter-widgets/base",
     "model_module_version": "1.2.0",
     "model_name": "LayoutModel",
     "state": {
      "_model_module": "@jupyter-widgets/base",
      "_model_module_version": "1.2.0",
      "_model_name": "LayoutModel",
      "_view_count": null,
      "_view_module": "@jupyter-widgets/base",
      "_view_module_version": "1.2.0",
      "_view_name": "LayoutView",
      "align_content": null,
      "align_items": null,
      "align_self": null,
      "border": null,
      "bottom": null,
      "display": null,
      "flex": null,
      "flex_flow": null,
      "grid_area": null,
      "grid_auto_columns": null,
      "grid_auto_flow": null,
      "grid_auto_rows": null,
      "grid_column": null,
      "grid_gap": null,
      "grid_row": null,
      "grid_template_areas": null,
      "grid_template_columns": null,
      "grid_template_rows": null,
      "height": null,
      "justify_content": null,
      "justify_items": null,
      "left": null,
      "margin": null,
      "max_height": null,
      "max_width": null,
      "min_height": null,
      "min_width": null,
      "object_fit": null,
      "object_position": null,
      "order": null,
      "overflow": null,
      "overflow_x": null,
      "overflow_y": null,
      "padding": null,
      "right": null,
      "top": null,
      "visibility": null,
      "width": null
     }
    },
    "2c31ffecd0494e2a8d0a8cefbea5df8a": {
     "model_module": "@jupyter-widgets/controls",
     "model_module_version": "1.5.0",
     "model_name": "HTMLModel",
     "state": {
      "_dom_classes": [],
      "_model_module": "@jupyter-widgets/controls",
      "_model_module_version": "1.5.0",
      "_model_name": "HTMLModel",
      "_view_count": null,
      "_view_module": "@jupyter-widgets/controls",
      "_view_module_version": "1.5.0",
      "_view_name": "HTMLView",
      "description": "",
      "description_tooltip": null,
      "layout": "IPY_MODEL_5d4a78f691ec4555bf179e5ef5d828ac",
      "placeholder": "​",
      "style": "IPY_MODEL_1b96a78d8b8542eb830e3c446a0dcf42",
      "value": "Eval PushTImageEnv: "
     }
    },
    "333b5148e59e47f3998a5cf5df531baf": {
     "model_module": "@jupyter-widgets/base",
     "model_module_version": "1.2.0",
     "model_name": "LayoutModel",
     "state": {
      "_model_module": "@jupyter-widgets/base",
      "_model_module_version": "1.2.0",
      "_model_name": "LayoutModel",
      "_view_count": null,
      "_view_module": "@jupyter-widgets/base",
      "_view_module_version": "1.2.0",
      "_view_name": "LayoutView",
      "align_content": null,
      "align_items": null,
      "align_self": null,
      "border": null,
      "bottom": null,
      "display": null,
      "flex": null,
      "flex_flow": null,
      "grid_area": null,
      "grid_auto_columns": null,
      "grid_auto_flow": null,
      "grid_auto_rows": null,
      "grid_column": null,
      "grid_gap": null,
      "grid_row": null,
      "grid_template_areas": null,
      "grid_template_columns": null,
      "grid_template_rows": null,
      "height": null,
      "justify_content": null,
      "justify_items": null,
      "left": null,
      "margin": null,
      "max_height": null,
      "max_width": null,
      "min_height": null,
      "min_width": null,
      "object_fit": null,
      "object_position": null,
      "order": null,
      "overflow": null,
      "overflow_x": null,
      "overflow_y": null,
      "padding": null,
      "right": null,
      "top": null,
      "visibility": null,
      "width": null
     }
    },
    "3ada9fda917a49a091baadf7845c51a5": {
     "model_module": "@jupyter-widgets/controls",
     "model_module_version": "1.5.0",
     "model_name": "HTMLModel",
     "state": {
      "_dom_classes": [],
      "_model_module": "@jupyter-widgets/controls",
      "_model_module_version": "1.5.0",
      "_model_name": "HTMLModel",
      "_view_count": null,
      "_view_module": "@jupyter-widgets/controls",
      "_view_module_version": "1.5.0",
      "_view_name": "HTMLView",
      "description": "",
      "description_tooltip": null,
      "layout": "IPY_MODEL_e52b5fb4fd784a4db84566b3237d1981",
      "placeholder": "​",
      "style": "IPY_MODEL_b4da694376a94cf7b9053bce776cf449",
      "value": "Batch:   8%"
     }
    },
    "3f44132469e444ecad51725d5cf365dd": {
     "model_module": "@jupyter-widgets/base",
     "model_module_version": "1.2.0",
     "model_name": "LayoutModel",
     "state": {
      "_model_module": "@jupyter-widgets/base",
      "_model_module_version": "1.2.0",
      "_model_name": "LayoutModel",
      "_view_count": null,
      "_view_module": "@jupyter-widgets/base",
      "_view_module_version": "1.2.0",
      "_view_name": "LayoutView",
      "align_content": null,
      "align_items": null,
      "align_self": null,
      "border": null,
      "bottom": null,
      "display": null,
      "flex": null,
      "flex_flow": null,
      "grid_area": null,
      "grid_auto_columns": null,
      "grid_auto_flow": null,
      "grid_auto_rows": null,
      "grid_column": null,
      "grid_gap": null,
      "grid_row": null,
      "grid_template_areas": null,
      "grid_template_columns": null,
      "grid_template_rows": null,
      "height": null,
      "justify_content": null,
      "justify_items": null,
      "left": null,
      "margin": null,
      "max_height": null,
      "max_width": null,
      "min_height": null,
      "min_width": null,
      "object_fit": null,
      "object_position": null,
      "order": null,
      "overflow": null,
      "overflow_x": null,
      "overflow_y": null,
      "padding": null,
      "right": null,
      "top": null,
      "visibility": null,
      "width": null
     }
    },
    "4cc800669dfd45a784864dd4a3881daa": {
     "model_module": "@jupyter-widgets/base",
     "model_module_version": "1.2.0",
     "model_name": "LayoutModel",
     "state": {
      "_model_module": "@jupyter-widgets/base",
      "_model_module_version": "1.2.0",
      "_model_name": "LayoutModel",
      "_view_count": null,
      "_view_module": "@jupyter-widgets/base",
      "_view_module_version": "1.2.0",
      "_view_name": "LayoutView",
      "align_content": null,
      "align_items": null,
      "align_self": null,
      "border": null,
      "bottom": null,
      "display": null,
      "flex": null,
      "flex_flow": null,
      "grid_area": null,
      "grid_auto_columns": null,
      "grid_auto_flow": null,
      "grid_auto_rows": null,
      "grid_column": null,
      "grid_gap": null,
      "grid_row": null,
      "grid_template_areas": null,
      "grid_template_columns": null,
      "grid_template_rows": null,
      "height": null,
      "justify_content": null,
      "justify_items": null,
      "left": null,
      "margin": null,
      "max_height": null,
      "max_width": null,
      "min_height": null,
      "min_width": null,
      "object_fit": null,
      "object_position": null,
      "order": null,
      "overflow": null,
      "overflow_x": null,
      "overflow_y": null,
      "padding": null,
      "right": null,
      "top": null,
      "visibility": null,
      "width": null
     }
    },
    "4dc795e106d946e6adc0594fd71b1e2f": {
     "model_module": "@jupyter-widgets/controls",
     "model_module_version": "1.5.0",
     "model_name": "FloatProgressModel",
     "state": {
      "_dom_classes": [],
      "_model_module": "@jupyter-widgets/controls",
      "_model_module_version": "1.5.0",
      "_model_name": "FloatProgressModel",
      "_view_count": null,
      "_view_module": "@jupyter-widgets/controls",
      "_view_module_version": "1.5.0",
      "_view_name": "ProgressView",
      "bar_style": "danger",
      "description": "",
      "description_tooltip": null,
      "layout": "IPY_MODEL_c59e550d5f3d4bd09cbfeefbe452c180",
      "max": 50,
      "min": 0,
      "orientation": "horizontal",
      "style": "IPY_MODEL_62c2319a6c794b5d94efbd6061a3e626",
      "value": 0
     }
    },
    "4ed6a507a2714d04b0d4a78c1abb13de": {
     "model_module": "@jupyter-widgets/base",
     "model_module_version": "1.2.0",
     "model_name": "LayoutModel",
     "state": {
      "_model_module": "@jupyter-widgets/base",
      "_model_module_version": "1.2.0",
      "_model_name": "LayoutModel",
      "_view_count": null,
      "_view_module": "@jupyter-widgets/base",
      "_view_module_version": "1.2.0",
      "_view_name": "LayoutView",
      "align_content": null,
      "align_items": null,
      "align_self": null,
      "border": null,
      "bottom": null,
      "display": null,
      "flex": null,
      "flex_flow": null,
      "grid_area": null,
      "grid_auto_columns": null,
      "grid_auto_flow": null,
      "grid_auto_rows": null,
      "grid_column": null,
      "grid_gap": null,
      "grid_row": null,
      "grid_template_areas": null,
      "grid_template_columns": null,
      "grid_template_rows": null,
      "height": null,
      "justify_content": null,
      "justify_items": null,
      "left": null,
      "margin": null,
      "max_height": null,
      "max_width": null,
      "min_height": null,
      "min_width": null,
      "object_fit": null,
      "object_position": null,
      "order": null,
      "overflow": null,
      "overflow_x": null,
      "overflow_y": null,
      "padding": null,
      "right": null,
      "top": null,
      "visibility": null,
      "width": "20px"
     }
    },
    "5345575fb3744142b88f89c4544fec73": {
     "model_module": "@jupyter-widgets/controls",
     "model_module_version": "1.5.0",
     "model_name": "FloatProgressModel",
     "state": {
      "_dom_classes": [],
      "_model_module": "@jupyter-widgets/controls",
      "_model_module_version": "1.5.0",
      "_model_name": "FloatProgressModel",
      "_view_count": null,
      "_view_module": "@jupyter-widgets/controls",
      "_view_module_version": "1.5.0",
      "_view_name": "ProgressView",
      "bar_style": "danger",
      "description": "",
      "description_tooltip": null,
      "layout": "IPY_MODEL_dbac65f44ac24a44bd21f0111933df1b",
      "max": 66,
      "min": 0,
      "orientation": "horizontal",
      "style": "IPY_MODEL_0ff6ab394b3c4799b2418d5780e2fe5b",
      "value": 5
     }
    },
    "537530cb502444808f4cd1e330e63aee": {
     "model_module": "@jupyter-widgets/controls",
     "model_module_version": "1.5.0",
     "model_name": "FloatProgressModel",
     "state": {
      "_dom_classes": [],
      "_model_module": "@jupyter-widgets/controls",
      "_model_module_version": "1.5.0",
      "_model_name": "FloatProgressModel",
      "_view_count": null,
      "_view_module": "@jupyter-widgets/controls",
      "_view_module_version": "1.5.0",
      "_view_name": "ProgressView",
      "bar_style": "success",
      "description": "",
      "description_tooltip": null,
      "layout": "IPY_MODEL_4ed6a507a2714d04b0d4a78c1abb13de",
      "max": 1,
      "min": 0,
      "orientation": "horizontal",
      "style": "IPY_MODEL_73d0d096e31345adb1eed56dbc443afa",
      "value": 0
     }
    },
    "5cb01cb3bd49409fbde4051b80c7394b": {
     "model_module": "@jupyter-widgets/base",
     "model_module_version": "1.2.0",
     "model_name": "LayoutModel",
     "state": {
      "_model_module": "@jupyter-widgets/base",
      "_model_module_version": "1.2.0",
      "_model_name": "LayoutModel",
      "_view_count": null,
      "_view_module": "@jupyter-widgets/base",
      "_view_module_version": "1.2.0",
      "_view_name": "LayoutView",
      "align_content": null,
      "align_items": null,
      "align_self": null,
      "border": null,
      "bottom": null,
      "display": null,
      "flex": null,
      "flex_flow": null,
      "grid_area": null,
      "grid_auto_columns": null,
      "grid_auto_flow": null,
      "grid_auto_rows": null,
      "grid_column": null,
      "grid_gap": null,
      "grid_row": null,
      "grid_template_areas": null,
      "grid_template_columns": null,
      "grid_template_rows": null,
      "height": null,
      "justify_content": null,
      "justify_items": null,
      "left": null,
      "margin": null,
      "max_height": null,
      "max_width": null,
      "min_height": null,
      "min_width": null,
      "object_fit": null,
      "object_position": null,
      "order": null,
      "overflow": null,
      "overflow_x": null,
      "overflow_y": null,
      "padding": null,
      "right": null,
      "top": null,
      "visibility": null,
      "width": null
     }
    },
    "5d4a78f691ec4555bf179e5ef5d828ac": {
     "model_module": "@jupyter-widgets/base",
     "model_module_version": "1.2.0",
     "model_name": "LayoutModel",
     "state": {
      "_model_module": "@jupyter-widgets/base",
      "_model_module_version": "1.2.0",
      "_model_name": "LayoutModel",
      "_view_count": null,
      "_view_module": "@jupyter-widgets/base",
      "_view_module_version": "1.2.0",
      "_view_name": "LayoutView",
      "align_content": null,
      "align_items": null,
      "align_self": null,
      "border": null,
      "bottom": null,
      "display": null,
      "flex": null,
      "flex_flow": null,
      "grid_area": null,
      "grid_auto_columns": null,
      "grid_auto_flow": null,
      "grid_auto_rows": null,
      "grid_column": null,
      "grid_gap": null,
      "grid_row": null,
      "grid_template_areas": null,
      "grid_template_columns": null,
      "grid_template_rows": null,
      "height": null,
      "justify_content": null,
      "justify_items": null,
      "left": null,
      "margin": null,
      "max_height": null,
      "max_width": null,
      "min_height": null,
      "min_width": null,
      "object_fit": null,
      "object_position": null,
      "order": null,
      "overflow": null,
      "overflow_x": null,
      "overflow_y": null,
      "padding": null,
      "right": null,
      "top": null,
      "visibility": null,
      "width": null
     }
    },
    "62c2319a6c794b5d94efbd6061a3e626": {
     "model_module": "@jupyter-widgets/controls",
     "model_module_version": "1.5.0",
     "model_name": "ProgressStyleModel",
     "state": {
      "_model_module": "@jupyter-widgets/controls",
      "_model_module_version": "1.5.0",
      "_model_name": "ProgressStyleModel",
      "_view_count": null,
      "_view_module": "@jupyter-widgets/base",
      "_view_module_version": "1.2.0",
      "_view_name": "StyleView",
      "bar_color": null,
      "description_width": ""
     }
    },
    "6ee0ea7dce9a4c7aafe609185a34b3ac": {
     "model_module": "@jupyter-widgets/controls",
     "model_module_version": "1.5.0",
     "model_name": "DescriptionStyleModel",
     "state": {
      "_model_module": "@jupyter-widgets/controls",
      "_model_module_version": "1.5.0",
      "_model_name": "DescriptionStyleModel",
      "_view_count": null,
      "_view_module": "@jupyter-widgets/base",
      "_view_module_version": "1.2.0",
      "_view_name": "StyleView",
      "description_width": ""
     }
    },
    "73d0d096e31345adb1eed56dbc443afa": {
     "model_module": "@jupyter-widgets/controls",
     "model_module_version": "1.5.0",
     "model_name": "ProgressStyleModel",
     "state": {
      "_model_module": "@jupyter-widgets/controls",
      "_model_module_version": "1.5.0",
      "_model_name": "ProgressStyleModel",
      "_view_count": null,
      "_view_module": "@jupyter-widgets/base",
      "_view_module_version": "1.2.0",
      "_view_name": "StyleView",
      "bar_color": null,
      "description_width": ""
     }
    },
    "8c7d7ce45bf14f25b6234e8cdbdc2a23": {
     "model_module": "@jupyter-widgets/controls",
     "model_module_version": "1.5.0",
     "model_name": "HTMLModel",
     "state": {
      "_dom_classes": [],
      "_model_module": "@jupyter-widgets/controls",
      "_model_module_version": "1.5.0",
      "_model_name": "HTMLModel",
      "_view_count": null,
      "_view_module": "@jupyter-widgets/controls",
      "_view_module_version": "1.5.0",
      "_view_name": "HTMLView",
      "description": "",
      "description_tooltip": null,
      "layout": "IPY_MODEL_5cb01cb3bd49409fbde4051b80c7394b",
      "placeholder": "​",
      "style": "IPY_MODEL_e9600c54bc734cf8910a1cb19000d3cd",
      "value": " 5/66 [05:14&lt;58:16, 57.32s/it, loss=1.08]"
     }
    },
    "92c207db2c6145a5964c33355b529c07": {
     "model_module": "@jupyter-widgets/controls",
     "model_module_version": "1.5.0",
     "model_name": "HBoxModel",
     "state": {
      "_dom_classes": [],
      "_model_module": "@jupyter-widgets/controls",
      "_model_module_version": "1.5.0",
      "_model_name": "HBoxModel",
      "_view_count": null,
      "_view_module": "@jupyter-widgets/controls",
      "_view_module_version": "1.5.0",
      "_view_name": "HBoxView",
      "box_style": "",
      "children": [
       "IPY_MODEL_ee7cec5ca72f456d8651418e962e465b",
       "IPY_MODEL_537530cb502444808f4cd1e330e63aee",
       "IPY_MODEL_04b91b80f41040ceabb6b1950cfc3db4"
      ],
      "layout": "IPY_MODEL_3f44132469e444ecad51725d5cf365dd"
     }
    },
    "95dc6c44f97e4e8882a3657bd2fd66fb": {
     "model_module": "@jupyter-widgets/controls",
     "model_module_version": "1.5.0",
     "model_name": "ProgressStyleModel",
     "state": {
      "_model_module": "@jupyter-widgets/controls",
      "_model_module_version": "1.5.0",
      "_model_name": "ProgressStyleModel",
      "_view_count": null,
      "_view_module": "@jupyter-widgets/base",
      "_view_module_version": "1.2.0",
      "_view_name": "StyleView",
      "bar_color": null,
      "description_width": ""
     }
    },
    "a0ba21f9038a46c297d4c59aa50cffe6": {
     "model_module": "@jupyter-widgets/controls",
     "model_module_version": "1.5.0",
     "model_name": "HBoxModel",
     "state": {
      "_dom_classes": [],
      "_model_module": "@jupyter-widgets/controls",
      "_model_module_version": "1.5.0",
      "_model_name": "HBoxModel",
      "_view_count": null,
      "_view_module": "@jupyter-widgets/controls",
      "_view_module_version": "1.5.0",
      "_view_name": "HBoxView",
      "box_style": "",
      "children": [
       "IPY_MODEL_19efc7fb43c14f128d9b96e28a1e3a94",
       "IPY_MODEL_4dc795e106d946e6adc0594fd71b1e2f",
       "IPY_MODEL_e927435d8e534017b9f735351bcc8b11"
      ],
      "layout": "IPY_MODEL_25fd0c71ee374fd49f8d02497747ed92"
     }
    },
    "a18f2aba6f344e83817a4e58b22d9c58": {
     "model_module": "@jupyter-widgets/base",
     "model_module_version": "1.2.0",
     "model_name": "LayoutModel",
     "state": {
      "_model_module": "@jupyter-widgets/base",
      "_model_module_version": "1.2.0",
      "_model_name": "LayoutModel",
      "_view_count": null,
      "_view_module": "@jupyter-widgets/base",
      "_view_module_version": "1.2.0",
      "_view_name": "LayoutView",
      "align_content": null,
      "align_items": null,
      "align_self": null,
      "border": null,
      "bottom": null,
      "display": null,
      "flex": null,
      "flex_flow": null,
      "grid_area": null,
      "grid_auto_columns": null,
      "grid_auto_flow": null,
      "grid_auto_rows": null,
      "grid_column": null,
      "grid_gap": null,
      "grid_row": null,
      "grid_template_areas": null,
      "grid_template_columns": null,
      "grid_template_rows": null,
      "height": null,
      "justify_content": null,
      "justify_items": null,
      "left": null,
      "margin": null,
      "max_height": null,
      "max_width": null,
      "min_height": null,
      "min_width": null,
      "object_fit": null,
      "object_position": null,
      "order": null,
      "overflow": null,
      "overflow_x": null,
      "overflow_y": null,
      "padding": null,
      "right": null,
      "top": null,
      "visibility": null,
      "width": null
     }
    },
    "ac07eb50f2c74d64a47931bba1fbc974": {
     "model_module": "@jupyter-widgets/controls",
     "model_module_version": "1.5.0",
     "model_name": "DescriptionStyleModel",
     "state": {
      "_model_module": "@jupyter-widgets/controls",
      "_model_module_version": "1.5.0",
      "_model_name": "DescriptionStyleModel",
      "_view_count": null,
      "_view_module": "@jupyter-widgets/base",
      "_view_module_version": "1.2.0",
      "_view_name": "StyleView",
      "description_width": ""
     }
    },
    "b0a9f64f47d34769a47e165291d2c550": {
     "model_module": "@jupyter-widgets/controls",
     "model_module_version": "1.5.0",
     "model_name": "HBoxModel",
     "state": {
      "_dom_classes": [],
      "_model_module": "@jupyter-widgets/controls",
      "_model_module_version": "1.5.0",
      "_model_name": "HBoxModel",
      "_view_count": null,
      "_view_module": "@jupyter-widgets/controls",
      "_view_module_version": "1.5.0",
      "_view_name": "HBoxView",
      "box_style": "",
      "children": [
       "IPY_MODEL_2c31ffecd0494e2a8d0a8cefbea5df8a",
       "IPY_MODEL_1d0a57ed8e914d31bcc1c36a56451df7",
       "IPY_MODEL_e1bb86eb510b47d9ac2311926455bf1f"
      ],
      "layout": "IPY_MODEL_182afbf676cd4c0982b90890bbdbeeef"
     }
    },
    "b4da694376a94cf7b9053bce776cf449": {
     "model_module": "@jupyter-widgets/controls",
     "model_module_version": "1.5.0",
     "model_name": "DescriptionStyleModel",
     "state": {
      "_model_module": "@jupyter-widgets/controls",
      "_model_module_version": "1.5.0",
      "_model_name": "DescriptionStyleModel",
      "_view_count": null,
      "_view_module": "@jupyter-widgets/base",
      "_view_module_version": "1.2.0",
      "_view_name": "StyleView",
      "description_width": ""
     }
    },
    "beb06de8af4e47658637847d9b907802": {
     "model_module": "@jupyter-widgets/base",
     "model_module_version": "1.2.0",
     "model_name": "LayoutModel",
     "state": {
      "_model_module": "@jupyter-widgets/base",
      "_model_module_version": "1.2.0",
      "_model_name": "LayoutModel",
      "_view_count": null,
      "_view_module": "@jupyter-widgets/base",
      "_view_module_version": "1.2.0",
      "_view_name": "LayoutView",
      "align_content": null,
      "align_items": null,
      "align_self": null,
      "border": null,
      "bottom": null,
      "display": null,
      "flex": null,
      "flex_flow": null,
      "grid_area": null,
      "grid_auto_columns": null,
      "grid_auto_flow": null,
      "grid_auto_rows": null,
      "grid_column": null,
      "grid_gap": null,
      "grid_row": null,
      "grid_template_areas": null,
      "grid_template_columns": null,
      "grid_template_rows": null,
      "height": null,
      "justify_content": null,
      "justify_items": null,
      "left": null,
      "margin": null,
      "max_height": null,
      "max_width": null,
      "min_height": null,
      "min_width": null,
      "object_fit": null,
      "object_position": null,
      "order": null,
      "overflow": null,
      "overflow_x": null,
      "overflow_y": null,
      "padding": null,
      "right": null,
      "top": null,
      "visibility": null,
      "width": null
     }
    },
    "c3058c7a0bc34fa2b35153c9327a62ae": {
     "model_module": "@jupyter-widgets/controls",
     "model_module_version": "1.5.0",
     "model_name": "DescriptionStyleModel",
     "state": {
      "_model_module": "@jupyter-widgets/controls",
      "_model_module_version": "1.5.0",
      "_model_name": "DescriptionStyleModel",
      "_view_count": null,
      "_view_module": "@jupyter-widgets/base",
      "_view_module_version": "1.2.0",
      "_view_name": "StyleView",
      "description_width": ""
     }
    },
    "c59e550d5f3d4bd09cbfeefbe452c180": {
     "model_module": "@jupyter-widgets/base",
     "model_module_version": "1.2.0",
     "model_name": "LayoutModel",
     "state": {
      "_model_module": "@jupyter-widgets/base",
      "_model_module_version": "1.2.0",
      "_model_name": "LayoutModel",
      "_view_count": null,
      "_view_module": "@jupyter-widgets/base",
      "_view_module_version": "1.2.0",
      "_view_name": "LayoutView",
      "align_content": null,
      "align_items": null,
      "align_self": null,
      "border": null,
      "bottom": null,
      "display": null,
      "flex": null,
      "flex_flow": null,
      "grid_area": null,
      "grid_auto_columns": null,
      "grid_auto_flow": null,
      "grid_auto_rows": null,
      "grid_column": null,
      "grid_gap": null,
      "grid_row": null,
      "grid_template_areas": null,
      "grid_template_columns": null,
      "grid_template_rows": null,
      "height": null,
      "justify_content": null,
      "justify_items": null,
      "left": null,
      "margin": null,
      "max_height": null,
      "max_width": null,
      "min_height": null,
      "min_width": null,
      "object_fit": null,
      "object_position": null,
      "order": null,
      "overflow": null,
      "overflow_x": null,
      "overflow_y": null,
      "padding": null,
      "right": null,
      "top": null,
      "visibility": null,
      "width": null
     }
    },
    "c62a645d0545401d890e8d918507ad44": {
     "model_module": "@jupyter-widgets/base",
     "model_module_version": "1.2.0",
     "model_name": "LayoutModel",
     "state": {
      "_model_module": "@jupyter-widgets/base",
      "_model_module_version": "1.2.0",
      "_model_name": "LayoutModel",
      "_view_count": null,
      "_view_module": "@jupyter-widgets/base",
      "_view_module_version": "1.2.0",
      "_view_name": "LayoutView",
      "align_content": null,
      "align_items": null,
      "align_self": null,
      "border": null,
      "bottom": null,
      "display": null,
      "flex": null,
      "flex_flow": null,
      "grid_area": null,
      "grid_auto_columns": null,
      "grid_auto_flow": null,
      "grid_auto_rows": null,
      "grid_column": null,
      "grid_gap": null,
      "grid_row": null,
      "grid_template_areas": null,
      "grid_template_columns": null,
      "grid_template_rows": null,
      "height": null,
      "justify_content": null,
      "justify_items": null,
      "left": null,
      "margin": null,
      "max_height": null,
      "max_width": null,
      "min_height": null,
      "min_width": null,
      "object_fit": null,
      "object_position": null,
      "order": null,
      "overflow": null,
      "overflow_x": null,
      "overflow_y": null,
      "padding": null,
      "right": null,
      "top": null,
      "visibility": null,
      "width": null
     }
    },
    "d34eca56124543d897165007a17c4383": {
     "model_module": "@jupyter-widgets/base",
     "model_module_version": "1.2.0",
     "model_name": "LayoutModel",
     "state": {
      "_model_module": "@jupyter-widgets/base",
      "_model_module_version": "1.2.0",
      "_model_name": "LayoutModel",
      "_view_count": null,
      "_view_module": "@jupyter-widgets/base",
      "_view_module_version": "1.2.0",
      "_view_name": "LayoutView",
      "align_content": null,
      "align_items": null,
      "align_self": null,
      "border": null,
      "bottom": null,
      "display": null,
      "flex": null,
      "flex_flow": null,
      "grid_area": null,
      "grid_auto_columns": null,
      "grid_auto_flow": null,
      "grid_auto_rows": null,
      "grid_column": null,
      "grid_gap": null,
      "grid_row": null,
      "grid_template_areas": null,
      "grid_template_columns": null,
      "grid_template_rows": null,
      "height": null,
      "justify_content": null,
      "justify_items": null,
      "left": null,
      "margin": null,
      "max_height": null,
      "max_width": null,
      "min_height": null,
      "min_width": null,
      "object_fit": null,
      "object_position": null,
      "order": null,
      "overflow": null,
      "overflow_x": null,
      "overflow_y": null,
      "padding": null,
      "right": null,
      "top": null,
      "visibility": null,
      "width": null
     }
    },
    "dbac65f44ac24a44bd21f0111933df1b": {
     "model_module": "@jupyter-widgets/base",
     "model_module_version": "1.2.0",
     "model_name": "LayoutModel",
     "state": {
      "_model_module": "@jupyter-widgets/base",
      "_model_module_version": "1.2.0",
      "_model_name": "LayoutModel",
      "_view_count": null,
      "_view_module": "@jupyter-widgets/base",
      "_view_module_version": "1.2.0",
      "_view_name": "LayoutView",
      "align_content": null,
      "align_items": null,
      "align_self": null,
      "border": null,
      "bottom": null,
      "display": null,
      "flex": null,
      "flex_flow": null,
      "grid_area": null,
      "grid_auto_columns": null,
      "grid_auto_flow": null,
      "grid_auto_rows": null,
      "grid_column": null,
      "grid_gap": null,
      "grid_row": null,
      "grid_template_areas": null,
      "grid_template_columns": null,
      "grid_template_rows": null,
      "height": null,
      "justify_content": null,
      "justify_items": null,
      "left": null,
      "margin": null,
      "max_height": null,
      "max_width": null,
      "min_height": null,
      "min_width": null,
      "object_fit": null,
      "object_position": null,
      "order": null,
      "overflow": null,
      "overflow_x": null,
      "overflow_y": null,
      "padding": null,
      "right": null,
      "top": null,
      "visibility": null,
      "width": null
     }
    },
    "e1bb86eb510b47d9ac2311926455bf1f": {
     "model_module": "@jupyter-widgets/controls",
     "model_module_version": "1.5.0",
     "model_name": "HTMLModel",
     "state": {
      "_dom_classes": [],
      "_model_module": "@jupyter-widgets/controls",
      "_model_module_version": "1.5.0",
      "_model_name": "HTMLModel",
      "_view_count": null,
      "_view_module": "@jupyter-widgets/controls",
      "_view_module_version": "1.5.0",
      "_view_name": "HTMLView",
      "description": "",
      "description_tooltip": null,
      "layout": "IPY_MODEL_333b5148e59e47f3998a5cf5df531baf",
      "placeholder": "​",
      "style": "IPY_MODEL_185ce2207cec4ae1a6ffdecadae23894",
      "value": " 201/? [00:34&lt;00:00,  6.11it/s, reward=0.828]"
     }
    },
    "e52b5fb4fd784a4db84566b3237d1981": {
     "model_module": "@jupyter-widgets/base",
     "model_module_version": "1.2.0",
     "model_name": "LayoutModel",
     "state": {
      "_model_module": "@jupyter-widgets/base",
      "_model_module_version": "1.2.0",
      "_model_name": "LayoutModel",
      "_view_count": null,
      "_view_module": "@jupyter-widgets/base",
      "_view_module_version": "1.2.0",
      "_view_name": "LayoutView",
      "align_content": null,
      "align_items": null,
      "align_self": null,
      "border": null,
      "bottom": null,
      "display": null,
      "flex": null,
      "flex_flow": null,
      "grid_area": null,
      "grid_auto_columns": null,
      "grid_auto_flow": null,
      "grid_auto_rows": null,
      "grid_column": null,
      "grid_gap": null,
      "grid_row": null,
      "grid_template_areas": null,
      "grid_template_columns": null,
      "grid_template_rows": null,
      "height": null,
      "justify_content": null,
      "justify_items": null,
      "left": null,
      "margin": null,
      "max_height": null,
      "max_width": null,
      "min_height": null,
      "min_width": null,
      "object_fit": null,
      "object_position": null,
      "order": null,
      "overflow": null,
      "overflow_x": null,
      "overflow_y": null,
      "padding": null,
      "right": null,
      "top": null,
      "visibility": null,
      "width": null
     }
    },
    "e927435d8e534017b9f735351bcc8b11": {
     "model_module": "@jupyter-widgets/controls",
     "model_module_version": "1.5.0",
     "model_name": "HTMLModel",
     "state": {
      "_dom_classes": [],
      "_model_module": "@jupyter-widgets/controls",
      "_model_module_version": "1.5.0",
      "_model_name": "HTMLModel",
      "_view_count": null,
      "_view_module": "@jupyter-widgets/controls",
      "_view_module_version": "1.5.0",
      "_view_name": "HTMLView",
      "description": "",
      "description_tooltip": null,
      "layout": "IPY_MODEL_beb06de8af4e47658637847d9b907802",
      "placeholder": "​",
      "style": "IPY_MODEL_ac07eb50f2c74d64a47931bba1fbc974",
      "value": " 0/50 [05:14&lt;?, ?it/s]"
     }
    },
    "e9600c54bc734cf8910a1cb19000d3cd": {
     "model_module": "@jupyter-widgets/controls",
     "model_module_version": "1.5.0",
     "model_name": "DescriptionStyleModel",
     "state": {
      "_model_module": "@jupyter-widgets/controls",
      "_model_module_version": "1.5.0",
      "_model_name": "DescriptionStyleModel",
      "_view_count": null,
      "_view_module": "@jupyter-widgets/base",
      "_view_module_version": "1.2.0",
      "_view_name": "StyleView",
      "description_width": ""
     }
    },
    "ee7cec5ca72f456d8651418e962e465b": {
     "model_module": "@jupyter-widgets/controls",
     "model_module_version": "1.5.0",
     "model_name": "HTMLModel",
     "state": {
      "_dom_classes": [],
      "_model_module": "@jupyter-widgets/controls",
      "_model_module_version": "1.5.0",
      "_model_name": "HTMLModel",
      "_view_count": null,
      "_view_module": "@jupyter-widgets/controls",
      "_view_module_version": "1.5.0",
      "_view_name": "HTMLView",
      "description": "",
      "description_tooltip": null,
      "layout": "IPY_MODEL_eff31dc161d045439a074814f1f9584e",
      "placeholder": "​",
      "style": "IPY_MODEL_0787e9b8789b4188bec1a5421683546f",
      "value": ""
     }
    },
    "eff31dc161d045439a074814f1f9584e": {
     "model_module": "@jupyter-widgets/base",
     "model_module_version": "1.2.0",
     "model_name": "LayoutModel",
     "state": {
      "_model_module": "@jupyter-widgets/base",
      "_model_module_version": "1.2.0",
      "_model_name": "LayoutModel",
      "_view_count": null,
      "_view_module": "@jupyter-widgets/base",
      "_view_module_version": "1.2.0",
      "_view_name": "LayoutView",
      "align_content": null,
      "align_items": null,
      "align_self": null,
      "border": null,
      "bottom": null,
      "display": null,
      "flex": null,
      "flex_flow": null,
      "grid_area": null,
      "grid_auto_columns": null,
      "grid_auto_flow": null,
      "grid_auto_rows": null,
      "grid_column": null,
      "grid_gap": null,
      "grid_row": null,
      "grid_template_areas": null,
      "grid_template_columns": null,
      "grid_template_rows": null,
      "height": null,
      "justify_content": null,
      "justify_items": null,
      "left": null,
      "margin": null,
      "max_height": null,
      "max_width": null,
      "min_height": null,
      "min_width": null,
      "object_fit": null,
      "object_position": null,
      "order": null,
      "overflow": null,
      "overflow_x": null,
      "overflow_y": null,
      "padding": null,
      "right": null,
      "top": null,
      "visibility": null,
      "width": null
     }
    },
    "fba98d58771f4376860847f29bcc4442": {
     "model_module": "@jupyter-widgets/controls",
     "model_module_version": "1.5.0",
     "model_name": "HBoxModel",
     "state": {
      "_dom_classes": [],
      "_model_module": "@jupyter-widgets/controls",
      "_model_module_version": "1.5.0",
      "_model_name": "HBoxModel",
      "_view_count": null,
      "_view_module": "@jupyter-widgets/controls",
      "_view_module_version": "1.5.0",
      "_view_name": "HBoxView",
      "box_style": "",
      "children": [
       "IPY_MODEL_3ada9fda917a49a091baadf7845c51a5",
       "IPY_MODEL_5345575fb3744142b88f89c4544fec73",
       "IPY_MODEL_8c7d7ce45bf14f25b6234e8cdbdc2a23"
      ],
      "layout": "IPY_MODEL_c62a645d0545401d890e8d918507ad44"
     }
    }
   }
  }
 },
 "nbformat": 4,
 "nbformat_minor": 4
}
